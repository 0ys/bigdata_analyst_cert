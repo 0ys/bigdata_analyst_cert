{
 "cells": [
  {
   "cell_type": "code",
   "execution_count": 24,
   "metadata": {},
   "outputs": [
    {
     "name": "stdout",
     "output_type": "stream",
     "text": [
      "5924\n"
     ]
    }
   ],
   "source": [
    "import pandas as pd\n",
    "df = pd.read_csv(\"type1_data1.csv\")\n",
    "# f5 컬럼이 0이 아닌 데이터(행)을 구하시오.\n",
    "cond = df['f5'] != 0\n",
    "df = df[cond]\n",
    "# 구한 데이터에 'views' 컬럼 결측치를 'views' 컬럼의 최솟값으로 채우시오.\n",
    "min = df['views'].min()\n",
    "df['views'].fillna(min, inplace=True)\n",
    "# views 컬럼의 중앙값을 계산해 정수로 구하시오.\n",
    "print(int(df['views'].median()))"
   ]
  },
  {
   "cell_type": "code",
   "execution_count": 23,
   "metadata": {},
   "outputs": [
    {
     "name": "stdout",
     "output_type": "stream",
     "text": [
      "17\n"
     ]
    }
   ],
   "source": [
    "import pandas as pd\n",
    "df = pd.read_csv(\"type1_data1.csv\")\n",
    "# subscribed 컬럼에서 가장 빈도수가 많은 날짜를 구하시오.\n",
    "df = df['subscribed'].value_counts()\n",
    "# 구한 날짜의 day 값을 정수로 구하시오.\n",
    "print(int(df.index[0][-2:]))"
   ]
  },
  {
   "cell_type": "code",
   "execution_count": 31,
   "metadata": {},
   "outputs": [
    {
     "name": "stdout",
     "output_type": "stream",
     "text": [
      "22\n"
     ]
    }
   ],
   "source": [
    "import pandas as pd\n",
    "df = pd.read_csv(\"type1_data1.csv\")\n",
    "# 결측치가 있는 데이터를 제거하시오.\n",
    "df = df.dropna()\n",
    "# views 컬럼을 f1 컬럼으로 나눈 값을 새로운 컬럼으로 추가하시오\n",
    "df['new'] = df['views'] / df['f1']\n",
    "# 새로운 컬럼 중 가장 큰 값을 가진 행의 age를 정수로 구하시오.\n",
    "df = df.sort_values('new', ascending=False)\n",
    "print(int(df.iloc[0]['age']))"
   ]
  },
  {
   "cell_type": "code",
   "execution_count": 58,
   "metadata": {},
   "outputs": [
    {
     "name": "stdout",
     "output_type": "stream",
     "text": [
      "652812\n"
     ]
    }
   ],
   "source": [
    "import pandas as pd\n",
    "df = pd.read_csv(\"type1_data1.csv\")\n",
    "# views 컬럼의 결측 데이터를 0으로 대체하시오.\n",
    "df['views'].fillna(0, inplace=True)\n",
    "# view의 상위 10번째 값을 구하시오.\n",
    "df = df.sort_values('views', ascending=False)\n",
    "ten = df.iloc[9]['views']\n",
    "# views 컬럼에서 상위 10개의 값을 상위 10번째 값으로 대체하시오.\n",
    "df.iloc[:10, -1] = ten\n",
    "# views 컬럼 전체 합을 정수로 구하시오.\n",
    "print(int(df['views'].sum()))\n"
   ]
  },
  {
   "cell_type": "code",
   "execution_count": 62,
   "metadata": {},
   "outputs": [
    {
     "name": "stdout",
     "output_type": "stream",
     "text": [
      "0.61\n"
     ]
    }
   ],
   "source": [
    "import pandas as pd\n",
    "df = pd.read_csv(\"type1_data1.csv\")\n",
    "# f4 컬럼 데이터에 FJ가 포함된 데이터를 찾으시오.\n",
    "cond = df['f4'].str.contains(\"FJ\")\n",
    "df = df[cond]\n",
    "# 찾은 데이터 중에서 f2 컬럼의 평균값을 구하시오. (소수 둘째 자리까지)\n",
    "print(round(df['f2'].mean(), 2))"
   ]
  },
  {
   "cell_type": "code",
   "execution_count": 64,
   "metadata": {},
   "outputs": [
    {
     "name": "stdout",
     "output_type": "stream",
     "text": [
      "235.43\n"
     ]
    }
   ],
   "source": [
    "import pandas as pd\n",
    "df = pd.read_csv(\"type1_data1.csv\")\n",
    "# f3 컬럼이 gold이면서 f2 컬럼이 2인 데이터를 찾으시오.\n",
    "cond1 = df['f3'] == \"gold\"\n",
    "cond2 = df['f2'] == 2\n",
    "df = df[cond1 & cond2]\n",
    "# 찾은 데이터에서 f1 컬럼의 분산을 구하시오. (소수 둘째 자리까지)\n",
    "print(round(df['f1'].var(), 2))\n"
   ]
  },
  {
   "cell_type": "code",
   "execution_count": 71,
   "metadata": {},
   "outputs": [
    {
     "name": "stdout",
     "output_type": "stream",
     "text": [
      "6441.7307692307695\n",
      "6178.6\n",
      "263.13\n"
     ]
    }
   ],
   "source": [
    "import pandas as pd\n",
    "df = pd.read_csv(\"type1_data1.csv\")\n",
    "# 모든 나이에 1을 더하시오.\n",
    "df['age'] = df['age']+1\n",
    "# 20대의 views 평균과 30대의 views 평균의 절댓값 차이를 구하시오. (소수 둘째 자리까지)\n",
    "cond1 = (df['age'] >= 20) & (df['age'] < 30)\n",
    "cond2 = (df['age'] >= 30) & (df['age'] < 40)\n",
    "\n",
    "twenty = df[cond1]['views'].mean()\n",
    "thirty = df[cond2]['views'].mean()\n",
    "print(twenty)\n",
    "print(thirty)\n",
    "print(round(abs(twenty - thirty), 2))"
   ]
  },
  {
   "cell_type": "code",
   "execution_count": 78,
   "metadata": {},
   "outputs": [
    {
     "name": "stdout",
     "output_type": "stream",
     "text": [
      "5\n"
     ]
    }
   ],
   "source": [
    "import pandas as pd\n",
    "df = pd.read_csv(\"type1_data1.csv\")\n",
    "# subscribed 컬럼이 2024년 2월인 데이터를 찾으시오.\n",
    "cond = df['subscribed'].str.contains(\"2024-02\")\n",
    "df = df[cond]\n",
    "# 찾은 데이터 중 f3 컬럼이 gold인 데이터의 개수를 구하시오.\n",
    "cond1 = df['f3'] == \"gold\"\n",
    "print(len(df[cond1]))"
   ]
  },
  {
   "cell_type": "code",
   "execution_count": 82,
   "metadata": {},
   "outputs": [
    {
     "data": {
      "text/plain": [
       "'ISFJ'"
      ]
     },
     "execution_count": 82,
     "metadata": {},
     "output_type": "execute_result"
    }
   ],
   "source": [
    "import pandas as pd\n",
    "df = pd.read_csv(\"type1_data1.csv\")\n",
    "# views 컬럼 값이 1000 이하인 데이터(결측치 제외)를 찾으시오.\n",
    "cond = df['views'] <= 1000\n",
    "df = df[cond]\n",
    "# 구한 데이터 중 f4 컬럼의 최빈값을 구하시오.\n",
    "# df = df['f4'].value_counts()\n",
    "# print(df.index[0])\n",
    "df['f4'].mode()[0]"
   ]
  },
  {
   "cell_type": "code",
   "execution_count": 95,
   "metadata": {},
   "outputs": [
    {
     "data": {
      "text/plain": [
       "age      대구\n",
       "f1       대구\n",
       "f2       서울\n",
       "f5       경기\n",
       "views    경기\n",
       "dtype: object"
      ]
     },
     "execution_count": 95,
     "metadata": {},
     "output_type": "execute_result"
    }
   ],
   "source": [
    "import pandas as pd\n",
    "df = pd.read_csv(\"type1_data1.csv\")\n",
    "# 결측치가 있는 행을 삭제하시오.\n",
    "df.dropna(inplace=True)\n",
    "# 지역별 평균을 계산하시오.\n",
    "df = df.groupby(['city']).mean(numeric_only=True)\n",
    "# f2 컬럼 값이 가장 큰 지역을 구하시오.\n",
    "df.idxmax()"
   ]
  },
  {
   "cell_type": "code",
   "execution_count": null,
   "metadata": {},
   "outputs": [],
   "source": []
  }
 ],
 "metadata": {
  "kernelspec": {
   "display_name": "base",
   "language": "python",
   "name": "python3"
  },
  "language_info": {
   "codemirror_mode": {
    "name": "ipython",
    "version": 3
   },
   "file_extension": ".py",
   "mimetype": "text/x-python",
   "name": "python",
   "nbconvert_exporter": "python",
   "pygments_lexer": "ipython3",
   "version": "3.11.5"
  }
 },
 "nbformat": 4,
 "nbformat_minor": 2
}
