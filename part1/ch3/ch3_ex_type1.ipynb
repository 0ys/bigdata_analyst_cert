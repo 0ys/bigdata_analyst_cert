{
  "nbformat": 4,
  "nbformat_minor": 0,
  "metadata": {
    "colab": {
      "provenance": []
    },
    "kernelspec": {
      "name": "python3",
      "display_name": "Python 3"
    },
    "language_info": {
      "name": "python"
    }
  },
  "cells": [
    {
      "cell_type": "markdown",
      "source": [
        "[구글 코랩(Colab)에서 실행하기](https://colab.research.google.com/github/lovedlim/bigdata_analyst_cert/blob/main/part1/ch3/ch3_ex_type1.ipynb)"
      ],
      "metadata": {
        "id": "g7CyV-X4r6S2"
      }
    },
    {
      "cell_type": "markdown",
      "source": [
        "### Section1."
      ],
      "metadata": {
        "id": "fyetqPi1ngy-"
      }
    },
    {
      "cell_type": "code",
      "source": [
        "import pandas as pd\n",
        "# df = pd.read_csv(\"type1_data1.csv\")\n",
        "df = pd.read_csv(\"https://raw.githubusercontent.com/lovedlim/bigdata_analyst_cert/main/part1/ch3/type1_data1.csv\")\n",
        "\n",
        "# 0 제외\n",
        "cond = df['f5'] != 0\n",
        "df = df[cond]\n",
        "\n",
        "# 'views' 컬럼 결측치 최소값으로 채우기\n",
        "min = df['views'].min()\n",
        "df['views'].fillna(min, inplace=True)\n",
        "\n",
        "# 'views' 컬럼 중앙값 계산\n",
        "print(int(df['views'].median()))"
      ],
      "metadata": {
        "colab": {
          "base_uri": "https://localhost:8080/"
        },
        "id": "dIoPqGGwnhzJ",
        "outputId": "854e0dde-92e6-45f6-ebee-d16dc5408de9"
      },
      "execution_count": 62,
      "outputs": [
        {
          "output_type": "stream",
          "name": "stdout",
          "text": [
            "5924\n"
          ]
        }
      ]
    },
    {
      "cell_type": "markdown",
      "source": [
        "### Section2."
      ],
      "metadata": {
        "id": "_bsCOCjZqK6b"
      }
    },
    {
      "cell_type": "code",
      "source": [
        "# df = pd.read_csv(\"type1_data1.csv\")\n",
        "df = pd.read_csv(\"https://raw.githubusercontent.com/lovedlim/bigdata_analyst_cert/main/part1/ch3/type1_data1.csv\")\n",
        "\n",
        "# subscribed 종류 중 가장 많은 날짜 구하기\n",
        "df = df['subscribed'].value_counts()\n",
        "\n",
        "# 일(day)값을 찾고, 정수형으로 변경\n",
        "int(df.index[0][-2:])"
      ],
      "metadata": {
        "colab": {
          "base_uri": "https://localhost:8080/"
        },
        "id": "QhA96ADRqLDJ",
        "outputId": "02f89001-e43e-4f8e-8957-c7fc1640afd2"
      },
      "execution_count": 63,
      "outputs": [
        {
          "output_type": "execute_result",
          "data": {
            "text/plain": [
              "17"
            ]
          },
          "metadata": {},
          "execution_count": 63
        }
      ]
    },
    {
      "cell_type": "markdown",
      "source": [
        "### Section3."
      ],
      "metadata": {
        "id": "009FIr1kqNp1"
      }
    },
    {
      "cell_type": "code",
      "source": [
        "import pandas as pd\n",
        "# df = pd.read_csv(\"type1_data1.csv\")\n",
        "df = pd.read_csv(\"https://raw.githubusercontent.com/lovedlim/bigdata_analyst_cert/main/part1/ch3/type1_data1.csv\")\n",
        "\n",
        "# 결측치 제거\n",
        "df = df.dropna()\n",
        "\n",
        "# 새로운 컬럼 계산\n",
        "df['new'] = df['views']/df['f1']\n",
        "\n",
        "# 내림차순 정렬\n",
        "df = df.sort_values('new', ascending=False)\n",
        "\n",
        "# age 값 찾아서 출력\n",
        "int(df.iloc[0,1])"
      ],
      "metadata": {
        "colab": {
          "base_uri": "https://localhost:8080/"
        },
        "id": "JE3-zjc1qQTU",
        "outputId": "63619415-0437-448c-c30b-1c6f80b5da3e"
      },
      "execution_count": 64,
      "outputs": [
        {
          "output_type": "execute_result",
          "data": {
            "text/plain": [
              "22"
            ]
          },
          "metadata": {},
          "execution_count": 64
        }
      ]
    },
    {
      "cell_type": "markdown",
      "source": [
        "### Section4."
      ],
      "metadata": {
        "id": "O_vJrS85qQzo"
      }
    },
    {
      "cell_type": "code",
      "source": [
        "import pandas as pd\n",
        "# df = pd.read_csv(\"type1_data1.csv\")\n",
        "df = pd.read_csv(\"https://raw.githubusercontent.com/lovedlim/bigdata_analyst_cert/main/part1/ch3/type1_data1.csv\")\n",
        "\n",
        "# 결측 데이터 0으로 대체\n",
        "df['views'].fillna(0, inplace=True)\n",
        "\n",
        "# 내림차순 정렬\n",
        "df = df.sort_values('views',ascending=False)\n",
        "\n",
        "# views 상위 10개 데이터에 최소값 대입\n",
        "views_min = df.iloc[:10]['views'].min()\n",
        "df.iloc[:10, -1] = views_min\n",
        "\n",
        "# views 컬럼의 합\n",
        "print(int(df['views'].sum()))"
      ],
      "metadata": {
        "colab": {
          "base_uri": "https://localhost:8080/"
        },
        "id": "3n2tsh8HqSUU",
        "outputId": "03984f0a-7699-49c5-ff91-1065b58a6654"
      },
      "execution_count": 65,
      "outputs": [
        {
          "output_type": "stream",
          "name": "stdout",
          "text": [
            "652812\n"
          ]
        }
      ]
    },
    {
      "cell_type": "code",
      "source": [
        "import pandas as pd\n",
        "# df = pd.read_csv(\"type1_data1.csv\")\n",
        "df = pd.read_csv(\"https://raw.githubusercontent.com/lovedlim/bigdata_analyst_cert/main/part1/ch3/type1_data1.csv\")\n",
        "\n",
        "# 결측 데이터 0으로 대체\n",
        "df['views'].fillna(0, inplace=True)\n",
        "\n",
        "# views 컬럼에서 10번째로 큰 값을 구합니다.\n",
        "value = df['views'].nlargest(10).iloc[-1]\n",
        "\n",
        "# views 컬럼에서 가장 큰 10개의 값을 10번째로 큰 값으로 대체\n",
        "df.loc[df['views'] > value, 'views'] = value\n",
        "\n",
        "# views 컬럼의 합\n",
        "print(int(df['views'].sum()))"
      ],
      "metadata": {
        "colab": {
          "base_uri": "https://localhost:8080/"
        },
        "id": "PITWFa67OhyE",
        "outputId": "6bec12af-4b8f-4c8f-a5e9-d3b0fab8bb12"
      },
      "execution_count": 66,
      "outputs": [
        {
          "output_type": "stream",
          "name": "stdout",
          "text": [
            "652812\n"
          ]
        }
      ]
    },
    {
      "cell_type": "markdown",
      "source": [
        "### Section5."
      ],
      "metadata": {
        "id": "hWZP_Ppds-uO"
      }
    },
    {
      "cell_type": "code",
      "source": [
        "import pandas as pd\n",
        "# df = pd.read_csv(\"type1_data1.csv\")\n",
        "df = pd.read_csv(\"https://raw.githubusercontent.com/lovedlim/bigdata_analyst_cert/main/part1/ch3/type1_data1.csv\")\n",
        "\n",
        "# f4 컬럼에서 뒤에 2개 값 슬라이싱\n",
        "df['new'] = df['f4'].str[2:4]\n",
        "\n",
        "# FJ인 데이터 찾기\n",
        "cond = df['new'] == 'FJ'\n",
        "df = df[cond]\n",
        "\n",
        "# f2 평균 구하기\n",
        "print(round(df['f2'].mean(), 2))"
      ],
      "metadata": {
        "colab": {
          "base_uri": "https://localhost:8080/"
        },
        "id": "W4wM3sAKs-uP",
        "outputId": "adc3dbba-c6db-4755-eefd-e3875d11d208"
      },
      "execution_count": 67,
      "outputs": [
        {
          "output_type": "stream",
          "name": "stdout",
          "text": [
            "0.61\n"
          ]
        }
      ]
    },
    {
      "cell_type": "code",
      "source": [
        "import pandas as pd\n",
        "# df = pd.read_csv(\"type1_data1.csv\")\n",
        "df = pd.read_csv(\"https://raw.githubusercontent.com/lovedlim/bigdata_analyst_cert/main/part1/ch3/type1_data1.csv\")\n",
        "\n",
        "# FJ인 데이터 찾기\n",
        "cond = df['f4'].str.contains('FJ')\n",
        "df = df[cond]\n",
        "\n",
        "# f2 평균 구하기\n",
        "print(round(df['f2'].mean(), 2))"
      ],
      "metadata": {
        "colab": {
          "base_uri": "https://localhost:8080/"
        },
        "id": "3ONeJePCDEIz",
        "outputId": "f611a75c-5816-4877-af37-bd2aa948eaad"
      },
      "execution_count": 68,
      "outputs": [
        {
          "output_type": "stream",
          "name": "stdout",
          "text": [
            "0.61\n"
          ]
        }
      ]
    },
    {
      "cell_type": "markdown",
      "source": [
        "### Section6."
      ],
      "metadata": {
        "id": "1_R6mL-as_IJ"
      }
    },
    {
      "cell_type": "code",
      "source": [
        "import pandas as pd\n",
        "# df = pd.read_csv(\"type1_data1.csv\")\n",
        "df = pd.read_csv(\"https://raw.githubusercontent.com/lovedlim/bigdata_analyst_cert/main/part1/ch3/type1_data1.csv\")\n",
        "\n",
        "# 조건에 맞는 데이터\n",
        "cond1 = df['f3'] == 'gold'\n",
        "cond2 = df['f2'] == 2\n",
        "df = df[cond1 & cond2]\n",
        "\n",
        "# 분산\n",
        "result = df['f1'].var()\n",
        "\n",
        "# 출력\n",
        "print(round(result,2))"
      ],
      "metadata": {
        "colab": {
          "base_uri": "https://localhost:8080/"
        },
        "id": "A7aR-DfEeWaI",
        "outputId": "6cbd20a9-f4b5-4888-9ef5-3494b6cbf75b"
      },
      "execution_count": 69,
      "outputs": [
        {
          "output_type": "stream",
          "name": "stdout",
          "text": [
            "235.43\n"
          ]
        }
      ]
    },
    {
      "cell_type": "markdown",
      "source": [
        "### Section7."
      ],
      "metadata": {
        "id": "_zgaSeQ9s_dI"
      }
    },
    {
      "cell_type": "code",
      "source": [
        "import pandas as pd\n",
        "# df = pd.read_csv(\"type1_data1.csv\")\n",
        "df = pd.read_csv(\"https://raw.githubusercontent.com/lovedlim/bigdata_analyst_cert/main/part1/ch3/type1_data1.csv\")\n",
        "\n",
        "# 나이 + 1\n",
        "df['age'] = df['age'] + 1\n",
        "\n",
        "# 20대, 30대 조건\n",
        "cond1 = (df['age'] >= 20) & (df['age'] < 30)\n",
        "cond2 = (df['age'] >= 30) & (df['age'] < 40)\n",
        "\n",
        "# 30대 views\n",
        "result = abs(df[cond1]['views'].mean() - df[cond2]['views'].mean())\n",
        "\n",
        "print(round(result,2))"
      ],
      "metadata": {
        "colab": {
          "base_uri": "https://localhost:8080/"
        },
        "id": "fxpIvj1vs_dJ",
        "outputId": "deda437a-20d9-430f-bc13-eb94185d4a39"
      },
      "execution_count": 70,
      "outputs": [
        {
          "output_type": "stream",
          "name": "stdout",
          "text": [
            "263.13\n"
          ]
        }
      ]
    },
    {
      "cell_type": "markdown",
      "source": [
        "### Section8."
      ],
      "metadata": {
        "id": "Qj1dSVqXs_2t"
      }
    },
    {
      "cell_type": "code",
      "source": [
        "import pandas as pd\n",
        "# df = pd.read_csv(\"type1_data1.csv\")\n",
        "df = pd.read_csv(\"https://raw.githubusercontent.com/lovedlim/bigdata_analyst_cert/main/part1/ch3/type1_data1.csv\")\n",
        "\n",
        "# 자료형 변환\n",
        "df['subscribed'] = pd.to_datetime(df['subscribed'], format=\"%Y-%m-%d\")\n",
        "\n",
        "# 파생변수 생성 (년, 월)\n",
        "df['year'] = df['subscribed'].dt.year\n",
        "df['month'] = df['subscribed'].dt.month\n",
        "\n",
        "# 2024년 2월이고, 'f3'이 gold인 데이터\n",
        "cond1 = df['year'] == 2024\n",
        "cond2 = df['month'] == 2\n",
        "cond3 = df['f3'] == 'gold'\n",
        "df = df[cond1 & cond2 & cond3]\n",
        "\n",
        "# 데이터 개수\n",
        "print(len(df))"
      ],
      "metadata": {
        "colab": {
          "base_uri": "https://localhost:8080/"
        },
        "id": "XzeSXWfrs_2u",
        "outputId": "270e23b0-a954-4a39-d266-b52391bff4c6"
      },
      "execution_count": 71,
      "outputs": [
        {
          "output_type": "stream",
          "name": "stdout",
          "text": [
            "5\n"
          ]
        }
      ]
    },
    {
      "cell_type": "markdown",
      "source": [
        "### Section9."
      ],
      "metadata": {
        "id": "rrk8AZhsk-Bx"
      }
    },
    {
      "cell_type": "code",
      "source": [
        "import pandas as pd\n",
        "# df = pd.read_csv(\"type1_data1.csv\")\n",
        "df = pd.read_csv(\"https://raw.githubusercontent.com/lovedlim/bigdata_analyst_cert/main/part1/ch3/type1_data1.csv\")\n",
        "\n",
        "# views수가 1000이하\n",
        "cond = df['views'] <= 1000\n",
        "df = df[cond]\n",
        "\n",
        "# f4컬럼 종류별 개수\n",
        "df = df['f4'].value_counts()\n",
        "\n",
        "# f4컬럼 최빈값\n",
        "print(df.index[0])"
      ],
      "metadata": {
        "colab": {
          "base_uri": "https://localhost:8080/"
        },
        "id": "rYBoJsslj0pq",
        "outputId": "74216874-54cc-4dfc-b1fe-825f81a12c75"
      },
      "execution_count": 72,
      "outputs": [
        {
          "output_type": "stream",
          "name": "stdout",
          "text": [
            "ISFJ\n"
          ]
        }
      ]
    },
    {
      "cell_type": "code",
      "source": [
        "import pandas as pd\n",
        "# df = pd.read_csv(\"type1_data1.csv\")\n",
        "df = pd.read_csv(\"https://raw.githubusercontent.com/lovedlim/bigdata_analyst_cert/main/part1/ch3/type1_data1.csv\")\n",
        "\n",
        "# views수가 1000이하\n",
        "cond = df['views'] <= 1000\n",
        "df = df[cond]\n",
        "\n",
        "# f4컬럼 종류별 개수\n",
        "print(df['f4'].mode()[0])"
      ],
      "metadata": {
        "colab": {
          "base_uri": "https://localhost:8080/"
        },
        "id": "QQ4e8rs1AGJe",
        "outputId": "e7976374-ea71-47c5-e2cd-c0985c423663"
      },
      "execution_count": 73,
      "outputs": [
        {
          "output_type": "stream",
          "name": "stdout",
          "text": [
            "ISFJ\n"
          ]
        }
      ]
    },
    {
      "cell_type": "markdown",
      "source": [
        "### Section10."
      ],
      "metadata": {
        "id": "TgO7R8c8f49P"
      }
    },
    {
      "cell_type": "code",
      "source": [
        "import pandas as pd\n",
        "# df = pd.read_csv(\"type1_data1.csv\")\n",
        "df = pd.read_csv(\"https://raw.githubusercontent.com/lovedlim/bigdata_analyst_cert/main/part1/ch3/type1_data1.csv\")\n",
        "\n",
        "# 결측치가 있는 행은 삭제하고\n",
        "df.dropna(inplace=True)\n",
        "\n",
        "# 지역별 평균 계산\n",
        "df = df.groupby(['city']).mean(numeric_only=True)\n",
        "\n",
        "# 'f2'컬럼이 가장 큰 지역 출력\n",
        "print(df.sort_values(\"f2\", ascending = False).index[0])"
      ],
      "metadata": {
        "colab": {
          "base_uri": "https://localhost:8080/"
        },
        "id": "SVAm1nibj1Hu",
        "outputId": "43ea1135-fcd2-4abf-e9f9-eb1c286170c9"
      },
      "execution_count": 74,
      "outputs": [
        {
          "output_type": "stream",
          "name": "stdout",
          "text": [
            "서울\n"
          ]
        }
      ]
    },
    {
      "cell_type": "code",
      "source": [
        "import pandas as pd\n",
        "# df = pd.read_csv(\"type1_data1.csv\")\n",
        "df = pd.read_csv(\"https://raw.githubusercontent.com/lovedlim/bigdata_analyst_cert/main/part1/ch3/type1_data1.csv\")\n",
        "\n",
        "# 결측치가 있는 행은 삭제하고\n",
        "df.dropna(inplace=True)\n",
        "\n",
        "# 지역별 평균 계산\n",
        "df = df.groupby('city').mean(numeric_only=True)\n",
        "\n",
        "# 'f2'컬럼이 가장 큰 지역 출력\n",
        "print(df['f2'].idxmax())\n"
      ],
      "metadata": {
        "colab": {
          "base_uri": "https://localhost:8080/"
        },
        "id": "zz6ttce-hq0G",
        "outputId": "2e1d9932-16fc-472e-acee-b9142945a209"
      },
      "execution_count": 75,
      "outputs": [
        {
          "output_type": "stream",
          "name": "stdout",
          "text": [
            "서울\n"
          ]
        }
      ]
    },
    {
      "cell_type": "markdown",
      "source": [
        "### Section11."
      ],
      "metadata": {
        "id": "upHoC0eb7CC0"
      }
    },
    {
      "cell_type": "code",
      "source": [
        "import pandas as pd\n",
        "# df = pd.read_csv(\"type1_data1.csv\")\n",
        "df = pd.read_csv(\"https://raw.githubusercontent.com/lovedlim/bigdata_analyst_cert/main/part1/ch3/type1_data1.csv\")\n",
        "\n",
        "# 결측치가 있는 행 제거\n",
        "df.dropna(inplace=True)\n",
        "\n",
        "# 70% 지점\n",
        "end = int(len(df) * 0.7)\n",
        "\n",
        "# 70% 데이터 슬라이싱\n",
        "df = df.iloc[:end]\n",
        "\n",
        "# 3사분위수, 1사분위수\n",
        "q3 = df['views'].quantile(.75)\n",
        "q1 = df['views'].quantile(.25)\n",
        "\n",
        "# 결과 출력\n",
        "print(int(q3 - q1))"
      ],
      "metadata": {
        "colab": {
          "base_uri": "https://localhost:8080/"
        },
        "id": "HAeSMA747N_I",
        "outputId": "7c75b705-f133-470b-b7e2-92c59a16d9c7"
      },
      "execution_count": 76,
      "outputs": [
        {
          "output_type": "stream",
          "name": "stdout",
          "text": [
            "2771\n"
          ]
        }
      ]
    },
    {
      "cell_type": "markdown",
      "source": [
        "### Section12."
      ],
      "metadata": {
        "id": "kmcKIuaz_wRx"
      }
    },
    {
      "cell_type": "code",
      "source": [
        "import pandas as pd\n",
        "# df = pd.read_csv(\"type1_data1.csv\")\n",
        "df = pd.read_csv(\"https://raw.githubusercontent.com/lovedlim/bigdata_analyst_cert/main/part1/ch3/type1_data1.csv\")\n",
        "\n",
        "# 결측치가 가장 많은 컬럼, 출력 결과로 확인\n",
        "#print(df.isnull().sum())\n",
        "\n",
        "# 결측치가 가장 많은 컬럼 제거\n",
        "df = df.dropna(subset=['f1'])\n",
        "\n",
        "# 두번째로 가장 결측치가 많은 컬럼 최빈값 대체\n",
        "freq = df['f3'].mode()[0]\n",
        "df['f3'].fillna(freq, inplace=True)\n",
        "\n",
        "# f3컬럼이 gold인 데이터의 수\n",
        "print(sum(df['f3'] == 'gold'))"
      ],
      "metadata": {
        "colab": {
          "base_uri": "https://localhost:8080/"
        },
        "id": "x8G4a2Jp_zy-",
        "outputId": "cff2cf2f-eb2e-4cc8-fa19-5975cd4675f3"
      },
      "execution_count": 77,
      "outputs": [
        {
          "output_type": "stream",
          "name": "stdout",
          "text": [
            "63\n"
          ]
        }
      ]
    },
    {
      "cell_type": "code",
      "source": [
        "import pandas as pd\n",
        "# df = pd.read_csv(\"type1_data1.csv\")\n",
        "df = pd.read_csv(\"https://raw.githubusercontent.com/lovedlim/bigdata_analyst_cert/main/part1/ch3/type1_data1.csv\")\n",
        "\n",
        "# 결측치가 가장 많은 컬럼\n",
        "col = df.isnull().sum().idxmax()\n",
        "\n",
        "# 결측치가 가장 많은 컬럼 제거\n",
        "df = df.dropna(subset=[col])\n",
        "\n",
        "# 두번째로 가장 결측치가 많은 컬럼 최빈값 대체\n",
        "freq = df['f3'].mode()[0]\n",
        "df['f3'] = df['f3'].fillna(freq)\n",
        "\n",
        "# f3컬럼이 gold인 데이터의 수\n",
        "print(len(df[df['f3'] == 'gold']))"
      ],
      "metadata": {
        "colab": {
          "base_uri": "https://localhost:8080/"
        },
        "id": "vKWjyP9KEmZO",
        "outputId": "c773cf57-1f98-4692-c2b8-5845824f4999"
      },
      "execution_count": 78,
      "outputs": [
        {
          "output_type": "stream",
          "name": "stdout",
          "text": [
            "63\n"
          ]
        }
      ]
    },
    {
      "cell_type": "markdown",
      "source": [
        "### Section13."
      ],
      "metadata": {
        "id": "Zz1RT2JFC7iz"
      }
    },
    {
      "cell_type": "code",
      "source": [
        "import pandas as pd\n",
        "# df = pd.read_csv(\"type1_data1.csv\")\n",
        "df = pd.read_csv(\"https://raw.githubusercontent.com/lovedlim/bigdata_analyst_cert/main/part1/ch3/type1_data1.csv\")\n",
        "\n",
        "# 결측치가 있는 데이터 True / False\n",
        "cond = df['f1'].isnull()\n",
        "\n",
        "# 결측치가 있는 데이터 선택\n",
        "df = df[cond]\n",
        "\n",
        "# age의 평균값을 구하시오\n",
        "result = df['age'].mean()\n",
        "\n",
        "# 소수 첫째자리 까지 출력\n",
        "print(round(result, 1))"
      ],
      "metadata": {
        "colab": {
          "base_uri": "https://localhost:8080/"
        },
        "id": "HAYA4FhMCIKx",
        "outputId": "6615a181-04a3-41a8-a6ab-e8c550d21a03"
      },
      "execution_count": 79,
      "outputs": [
        {
          "output_type": "stream",
          "name": "stdout",
          "text": [
            "53.6\n"
          ]
        }
      ]
    },
    {
      "cell_type": "markdown",
      "source": [
        "### Section14."
      ],
      "metadata": {
        "id": "1wY-DwCKFjm1"
      }
    },
    {
      "cell_type": "code",
      "source": [
        "import pandas as pd\n",
        "# df = pd.read_csv(\"type1_data1.csv\")\n",
        "df = pd.read_csv(\"https://raw.githubusercontent.com/lovedlim/bigdata_analyst_cert/main/part1/ch3/type1_data1.csv\")\n",
        "\n",
        "# 중복데이터 제거\n",
        "df.drop_duplicates(inplace=True)\n",
        "\n",
        "# 값 대체\n",
        "import numpy as np\n",
        "df['f3'] = df['f3'].replace(np.nan,0).replace('silver',1).replace('gold',2).replace('vip',3)\n",
        "\n",
        "# f3컬럼의 총합 (정수형으로 출력)\n",
        "print(int(df['f3'].sum()))"
      ],
      "metadata": {
        "colab": {
          "base_uri": "https://localhost:8080/"
        },
        "id": "HhgaIWypFmlo",
        "outputId": "59ecdcbc-bc4a-4489-cc68-639647a267ff"
      },
      "execution_count": 80,
      "outputs": [
        {
          "output_type": "stream",
          "name": "stdout",
          "text": [
            "167\n"
          ]
        }
      ]
    },
    {
      "cell_type": "code",
      "source": [
        "# 방법2\n",
        "import pandas as pd\n",
        "# df = pd.read_csv(\"type1_data1.csv\")\n",
        "df = pd.read_csv(\"https://raw.githubusercontent.com/lovedlim/bigdata_analyst_cert/main/part1/ch3/type1_data1.csv\")\n",
        "\n",
        "# 중복데이터 제거\n",
        "df.drop_duplicates(inplace=True)\n",
        "\n",
        "# 값 대체\n",
        "dict_list = {np.nan:0, 'silver':1, 'gold':2, 'vip':3}\n",
        "df['f3'] = df['f3'].map(dict_list)\n",
        "\n",
        "# f3컬럼의 총합 (정수형으로 출력)\n",
        "print(int(df['f3'].sum()))"
      ],
      "metadata": {
        "colab": {
          "base_uri": "https://localhost:8080/"
        },
        "id": "iQ0zMFmJHZPG",
        "outputId": "e2ada646-21f8-4f76-ea3b-1d779bec1ea6"
      },
      "execution_count": 81,
      "outputs": [
        {
          "output_type": "stream",
          "name": "stdout",
          "text": [
            "167\n"
          ]
        }
      ]
    },
    {
      "cell_type": "code",
      "source": [
        "# 방법3\n",
        "import pandas as pd\n",
        "# df = pd.read_csv(\"type1_data1.csv\")\n",
        "df = pd.read_csv(\"https://raw.githubusercontent.com/lovedlim/bigdata_analyst_cert/main/part1/ch3/type1_data1.csv\")\n",
        "\n",
        "# 중복데이터 제거\n",
        "df.drop_duplicates(inplace=True)\n",
        "\n",
        "# 계산\n",
        "r1 = sum(df['f3'] == 'silver') * 1\n",
        "r2 = sum(df['f3'] == 'gold') * 2\n",
        "r3 = sum(df['f3'] == 'vip') * 3\n",
        "print(r1 + r2 + r3)"
      ],
      "metadata": {
        "colab": {
          "base_uri": "https://localhost:8080/"
        },
        "id": "-4nnZd4PHblL",
        "outputId": "c17ff003-57e0-4414-b1e2-795c92d798fb"
      },
      "execution_count": 82,
      "outputs": [
        {
          "output_type": "stream",
          "name": "stdout",
          "text": [
            "167\n"
          ]
        }
      ]
    },
    {
      "cell_type": "markdown",
      "source": [
        "### Section15."
      ],
      "metadata": {
        "id": "_5wI5LtEIg7z"
      }
    },
    {
      "cell_type": "code",
      "source": [
        "import pandas as pd\n",
        "# df = pd.read_csv(\"type1_data1.csv\")\n",
        "df = pd.read_csv(\"https://raw.githubusercontent.com/lovedlim/bigdata_analyst_cert/main/part1/ch3/type1_data1.csv\")\n",
        "\n",
        "# 자료형이 object 컬럼 선택\n",
        "cols = df.select_dtypes(exclude='object').columns\n",
        "df = df[cols]\n",
        "\n",
        "# 결측치 0으로 대체\n",
        "df = df.fillna(0)\n",
        "\n",
        "# 행과 열 변경\n",
        "df = df.T\n",
        "\n",
        "# 행별 합이 3000이상인 데이터 수\n",
        "print(sum(df.sum() > 3000))"
      ],
      "metadata": {
        "colab": {
          "base_uri": "https://localhost:8080/"
        },
        "id": "UsweG-C8Ikfx",
        "outputId": "761e7d36-04c2-4d97-c8c6-28e5e20e3596"
      },
      "execution_count": 83,
      "outputs": [
        {
          "output_type": "stream",
          "name": "stdout",
          "text": [
            "88\n"
          ]
        }
      ]
    },
    {
      "cell_type": "markdown",
      "source": [
        "### Section16."
      ],
      "metadata": {
        "id": "czzQ7mCZK85p"
      }
    },
    {
      "cell_type": "code",
      "source": [
        "import pandas as pd\n",
        "# df = pd.read_csv(\"type1_data1.csv\")\n",
        "df = pd.read_csv(\"https://raw.githubusercontent.com/lovedlim/bigdata_analyst_cert/main/part1/ch3/type1_data1.csv\")\n",
        "\n",
        "# 3사분위 1사분위\n",
        "q3 = df['views'].quantile(.75)\n",
        "q1 = df['views'].quantile(.25)\n",
        "\n",
        "# IQR 계산\n",
        "IQR = q3 - q1\n",
        "\n",
        "# 이상치 기준 찾기\n",
        "line1 = q1 - 1.5 * IQR\n",
        "line2 = q3 + 1.5 * IQR\n",
        "\n",
        "# 이상치 조건에 만족하는 데이터 찾기\n",
        "cond1 = df['views'] < line1\n",
        "cond2 = df['views'] > line2\n",
        "df = df[cond1 | cond2]\n",
        "\n",
        "# views 컬럼 합\n",
        "print(int(df['views'].sum()))"
      ],
      "metadata": {
        "colab": {
          "base_uri": "https://localhost:8080/"
        },
        "id": "q8bwlASyK3KM",
        "outputId": "caa156d4-eb00-4c1e-9db4-e90fca315c9c"
      },
      "execution_count": 84,
      "outputs": [
        {
          "output_type": "stream",
          "name": "stdout",
          "text": [
            "77699\n"
          ]
        }
      ]
    },
    {
      "cell_type": "markdown",
      "source": [
        "### Section17."
      ],
      "metadata": {
        "id": "bs-cfwPHM_Oo"
      }
    },
    {
      "cell_type": "code",
      "source": [
        "import pandas as pd\n",
        "# df = pd.read_csv(\"type1_data1.csv\")\n",
        "df = pd.read_csv(\"https://raw.githubusercontent.com/lovedlim/bigdata_analyst_cert/main/part1/ch3/type1_data1.csv\")\n",
        "\n",
        "# 표준편차\n",
        "r1 = df['views'].std()\n",
        "\n",
        "# 음수이거나 0 테이터 제외\n",
        "cond = df['age'] <= 0\n",
        "df = df[~cond]\n",
        "\n",
        "# 소수점이 없는 값만 선택\n",
        "cond = df['age'] == round(df['age'],0)\n",
        "df = df[cond]\n",
        "\n",
        "# 표준편차\n",
        "r2 = df['views'].std()\n",
        "\n",
        "print(round(r1 + r2, 2))"
      ],
      "metadata": {
        "colab": {
          "base_uri": "https://localhost:8080/"
        },
        "id": "A2lQ6p8YNB0s",
        "outputId": "ec35a27e-f99b-41a3-cb62-50ead22b9640"
      },
      "execution_count": 85,
      "outputs": [
        {
          "output_type": "stream",
          "name": "stdout",
          "text": [
            "8297.31\n"
          ]
        }
      ]
    },
    {
      "cell_type": "markdown",
      "source": [
        "### Section18."
      ],
      "metadata": {
        "id": "Uvi2VH67Od_9"
      }
    },
    {
      "cell_type": "code",
      "source": [
        "import pandas as pd\n",
        "# df = pd.read_csv(\"type1_data2.csv\", index_col=\"year\")\n",
        "df = pd.read_csv(\"https://raw.githubusercontent.com/lovedlim/bigdata_analyst_cert/main/part1/ch3/type1_data2.csv\", index_col=\"year\")\n",
        "\n",
        "# 2001, 평균보다 큰값 합계\n",
        "m1 = df.loc[2001].mean()\n",
        "cond1 = df.loc[2001] > m1\n",
        "r1 = sum(cond1)\n",
        "\n",
        "# 2003평균보다 작은값 합계\n",
        "m2 = df.loc[2003].mean()\n",
        "cond2 = df.loc[2003] < m2\n",
        "r2 = sum(cond2)\n",
        "\n",
        "print(r1+r2)"
      ],
      "metadata": {
        "colab": {
          "base_uri": "https://localhost:8080/"
        },
        "id": "x-3LbkaGQEdp",
        "outputId": "e8d902db-a721-4172-9a9e-f7dce0eedd4d"
      },
      "execution_count": 86,
      "outputs": [
        {
          "output_type": "stream",
          "name": "stdout",
          "text": [
            "202\n"
          ]
        }
      ]
    },
    {
      "cell_type": "code",
      "source": [
        "import pandas as pd\n",
        "# df = pd.read_csv(\"type1_data2.csv\", index_col=\"year\")\n",
        "df = pd.read_csv(\"https://raw.githubusercontent.com/lovedlim/bigdata_analyst_cert/main/part1/ch3/type1_data2.csv\", index_col=\"year\")\n",
        "df = df.T # 행과 열 변경\n",
        "\n",
        "# 평균보다 큰값 합계\n",
        "m1 = df[2001].mean()\n",
        "cond1 = df[2001] > m1\n",
        "r1 = sum(cond1)\n",
        "\n",
        "# 평균보다 작은값 합계\n",
        "m2 = df[2003].mean()\n",
        "cond2 = df[2003] < m2\n",
        "r2 = sum(cond2)\n",
        "\n",
        "print(r1+r2)"
      ],
      "metadata": {
        "colab": {
          "base_uri": "https://localhost:8080/"
        },
        "id": "JncpmT-fB347",
        "outputId": "98e96bef-f6fa-4fa2-f6eb-14e25b81e12c"
      },
      "execution_count": 87,
      "outputs": [
        {
          "output_type": "stream",
          "name": "stdout",
          "text": [
            "202\n"
          ]
        }
      ]
    },
    {
      "cell_type": "markdown",
      "source": [
        "### Section19."
      ],
      "metadata": {
        "id": "zuCLLKHuRF68"
      }
    },
    {
      "cell_type": "code",
      "source": [
        "import pandas as pd\n",
        "# df = pd.read_csv(\"type1_data1.csv\")\n",
        "df = pd.read_csv(\"https://raw.githubusercontent.com/lovedlim/bigdata_analyst_cert/main/part1/ch3/type1_data1.csv\")\n",
        "\n",
        "# 결측치 채우기\n",
        "df = df.fillna(method='bfill')\n",
        "\n",
        "# city와 f2기준 그룹합 계산\n",
        "df = df.groupby(['city','f2']).sum(numeric_only=True).reset_index()\n",
        "\n",
        "# 내림차순 정렬\n",
        "df = df.sort_values('views', ascending=False)\n",
        "\n",
        "# 3번째로 큰 값 출력\n",
        "print(df.iloc[2,0])"
      ],
      "metadata": {
        "colab": {
          "base_uri": "https://localhost:8080/"
        },
        "id": "3nf3FldiRQRi",
        "outputId": "9eeb4db0-ab64-41dd-b7bf-37eda63d013c"
      },
      "execution_count": 88,
      "outputs": [
        {
          "output_type": "stream",
          "name": "stdout",
          "text": [
            "경기\n"
          ]
        }
      ]
    },
    {
      "cell_type": "markdown",
      "source": [
        "### Section20."
      ],
      "metadata": {
        "id": "4PpSgq4URj1E"
      }
    },
    {
      "cell_type": "code",
      "source": [
        "import pandas as pd\n",
        "# df = pd.read_csv(\"type1_data1.csv\")\n",
        "df = pd.read_csv(\"https://raw.githubusercontent.com/lovedlim/bigdata_analyst_cert/main/part1/ch3/type1_data1.csv\")\n",
        "\n",
        "# 자료형 변환\n",
        "df['subscribed'] = pd.to_datetime(df['subscribed'])\n",
        "\n",
        "# 파생변수 생성 (년, 월, 일)\n",
        "df['year'] = df['subscribed'].dt.year\n",
        "df['month'] = df['subscribed'].dt.month\n",
        "df['day'] = df['subscribed'].dt.day\n",
        "\n",
        "# 월별로 데이터 합 집계\n",
        "df = df.groupby('month').sum(numeric_only=True)\n",
        "\n",
        "# 오름차순 정렬 및 가장 작은값 출력\n",
        "print(df.sort_values('views').index[0])"
      ],
      "metadata": {
        "colab": {
          "base_uri": "https://localhost:8080/"
        },
        "id": "DfHTMhLdR2G4",
        "outputId": "26aeb824-d39d-4b72-ca4d-4d55f8a4a24e"
      },
      "execution_count": 89,
      "outputs": [
        {
          "output_type": "stream",
          "name": "stdout",
          "text": [
            "11\n"
          ]
        }
      ]
    },
    {
      "cell_type": "markdown",
      "source": [
        "### Section21."
      ],
      "metadata": {
        "id": "_VaGdUm5Jvha"
      }
    },
    {
      "cell_type": "code",
      "source": [
        "import pandas as pd\n",
        "# df = pd.read_csv(\"delivery_time.csv\")\n",
        "df = pd.read_csv(\"https://raw.githubusercontent.com/lovedlim/bigdata_analyst_cert/main/part1/ch3/delivery_time.csv\")\n",
        "\n",
        "# datetime으로 자료형 변경\n",
        "df['실제도착시간'] = pd.to_datetime(df['실제도착시간'])\n",
        "df['예상도착시간'] = pd.to_datetime(df['예상도착시간'])\n",
        "\n",
        "# 지연시간 계산(분)\n",
        "df['지연시간'] = (df['실제도착시간'] - df['예상도착시간']).dt.total_seconds()/60\n",
        "\n",
        "# 조건1 - 예상 도착시간보다 늦게 도착한 건\n",
        "cond1 = df['지연시간'] > 0\n",
        "\n",
        "# 조건2 - 거리가 7 이상인 건\n",
        "cond2 = df['거리'] >= 7\n",
        "\n",
        "# 조건에 맞는 데이터(행) 수 출력\n",
        "print(len(df[cond1 & cond2]))"
      ],
      "metadata": {
        "colab": {
          "base_uri": "https://localhost:8080/"
        },
        "id": "Q_inq7MObx64",
        "outputId": "a6659572-c64a-47df-fe7d-7d02c0d0080b"
      },
      "execution_count": 90,
      "outputs": [
        {
          "output_type": "stream",
          "name": "stdout",
          "text": [
            "311\n"
          ]
        }
      ]
    },
    {
      "cell_type": "markdown",
      "source": [
        "### Section22."
      ],
      "metadata": {
        "id": "1qbnwrbQJz52"
      }
    },
    {
      "cell_type": "code",
      "source": [
        "import pandas as pd\n",
        "# df = pd.read_csv(\"delivery_time.csv\")\n",
        "df = pd.read_csv(\"https://raw.githubusercontent.com/lovedlim/bigdata_analyst_cert/main/part1/ch3/delivery_time.csv\")\n",
        "\n",
        "# datetime으로 자료형 변경\n",
        "df['실제도착시간'] = pd.to_datetime(df['실제도착시간'])\n",
        "df['주문시간'] = pd.to_datetime(df['주문시간'])\n",
        "\n",
        "# 실제 도착시간과 주문시간 차이 계산(분)\n",
        "df['diff'] = (df['실제도착시간'] - df['주문시간']).dt.total_seconds()/60\n",
        "\n",
        "# 앱종류별 도착시간과 주문시간 차이의 평균 계산\n",
        "df = df.groupby('앱종류')['diff'].mean()\n",
        "\n",
        "# 가장 작은 시간(분) 반올림 후 출력\n",
        "print(round(df.min()))"
      ],
      "metadata": {
        "id": "apFpK_tAJzZ8",
        "colab": {
          "base_uri": "https://localhost:8080/"
        },
        "outputId": "55b14224-9a0a-4a3b-fef4-089ff89ba2f0"
      },
      "execution_count": 91,
      "outputs": [
        {
          "output_type": "stream",
          "name": "stdout",
          "text": [
            "62\n"
          ]
        }
      ]
    },
    {
      "cell_type": "markdown",
      "source": [
        "### Section23."
      ],
      "metadata": {
        "id": "dHGcmLvRJ1fy"
      }
    },
    {
      "cell_type": "code",
      "source": [
        "import pandas as pd\n",
        "# df = pd.read_csv(\"delivery_time.csv\")\n",
        "df = pd.read_csv(\"https://raw.githubusercontent.com/lovedlim/bigdata_analyst_cert/main/part1/ch3/delivery_time.csv\")\n",
        "\n",
        "# datetime 자료형으로 변경\n",
        "df['실제도착시간'] = pd.to_datetime(df['실제도착시간'])\n",
        "df['예상도착시간'] = pd.to_datetime(df['예상도착시간'])\n",
        "\n",
        "# 지연시간 계산(분)\n",
        "df['지연시간'] = (df['실제도착시간'] - df['예상도착시간']).dt.total_seconds() / 60  # 분 단위로 계산\n",
        "\n",
        "# 실제 도착시간이 예상 도착시간보다 늦은 경우를 체크하는 컬럼 생성\n",
        "df['지연여부'] = df['지연시간'] > 0\n",
        "\n",
        "# 결제 종류별 지연된 주문의 비율 계산\n",
        "result = df.groupby('결제종류')['지연여부'].mean()\n",
        "\n",
        "# 가장 비율이 높은 값\n",
        "print(round(result.max(), 2))"
      ],
      "metadata": {
        "id": "FuLpNI5yJziX",
        "colab": {
          "base_uri": "https://localhost:8080/"
        },
        "outputId": "9934b88f-c36b-468c-90a7-81aa378ca9fc"
      },
      "execution_count": 92,
      "outputs": [
        {
          "output_type": "stream",
          "name": "stdout",
          "text": [
            "0.56\n"
          ]
        }
      ]
    },
    {
      "cell_type": "markdown",
      "source": [
        "### Section24."
      ],
      "metadata": {
        "id": "fy4e8_O271u-"
      }
    },
    {
      "cell_type": "code",
      "source": [
        "import pandas as pd\n",
        "# df = pd.read_csv(\"delivery_time.csv\")\n",
        "df = pd.read_csv(\"https://raw.githubusercontent.com/lovedlim/bigdata_analyst_cert/main/part1/ch3/delivery_time.csv\")\n",
        "df.head()\n",
        "\n",
        "# 사용자별로 주문 거리의 합계와 평균 계산\n",
        "df_distance = df.groupby('user')['거리'].sum()\n",
        "\n",
        "# 주문 거리의 합계가 50km 이상인 사용자만 필터링\n",
        "cond = df_distance >= 50\n",
        "df_distance = df_distance[cond]\n",
        "\n",
        "# 주문 거리의 합계가 50km 이상인 사용자들의 데이터 필터링\n",
        "filtered_data = df[df['user'].isin(df_distance.index)]\n",
        "filtered_data\n",
        "\n",
        "# 해당 사용자들의 선호 결제 방식 중 큰 값\n",
        "payment_method = filtered_data['결제종류'].value_counts()\n",
        "print(payment_method[0])"
      ],
      "metadata": {
        "id": "61UVl8WsJzks",
        "colab": {
          "base_uri": "https://localhost:8080/"
        },
        "outputId": "84a1f4b7-fadf-46e6-c8f5-34b7948cee98"
      },
      "execution_count": 93,
      "outputs": [
        {
          "output_type": "stream",
          "name": "stdout",
          "text": [
            "48\n"
          ]
        }
      ]
    },
    {
      "cell_type": "markdown",
      "source": [
        "### Section25."
      ],
      "metadata": {
        "id": "-U-07CoFWCUK"
      }
    },
    {
      "cell_type": "code",
      "source": [
        "import pandas as pd\n",
        "# df = pd.read_csv(\"delivery_time.csv\")\n",
        "df = pd.read_csv(\"https://raw.githubusercontent.com/lovedlim/bigdata_analyst_cert/main/part1/ch3/delivery_time.csv\")\n",
        "\n",
        "# 각 사용자별로 첫 주문과 마지막 주문 사이의 시간 간격(일 단위)을 계산\n",
        "df['주문시간'] = pd.to_datetime(df['주문시간'])\n",
        "min_order_time = df.groupby('user')['주문시간'].min()\n",
        "max_order_time = df.groupby('user')['주문시간'].max()\n",
        "time_interval = (max_order_time - min_order_time).dt.days\n",
        "\n",
        "# 1회 이하 주문 제외\n",
        "cond1 = time_interval>0\n",
        "m = time_interval[cond1].mean()\n",
        "\n",
        "# 평균보다 기간이 긴 유저 수\n",
        "cond2 = time_interval > m\n",
        "print(len(time_interval[cond2]))"
      ],
      "metadata": {
        "id": "TIJ4FisqX6K_",
        "colab": {
          "base_uri": "https://localhost:8080/"
        },
        "outputId": "124bb60d-62e9-464c-8ae6-5eae62679fb1"
      },
      "execution_count": 94,
      "outputs": [
        {
          "output_type": "stream",
          "name": "stdout",
          "text": [
            "146\n"
          ]
        }
      ]
    },
    {
      "cell_type": "markdown",
      "source": [
        "### Section26."
      ],
      "metadata": {
        "id": "-s8mvo6TvcNR"
      }
    },
    {
      "cell_type": "code",
      "source": [
        "import pandas as pd\n",
        "# df = pd.read_csv(\"delivery_time.csv\")\n",
        "df = pd.read_csv(\"https://raw.githubusercontent.com/lovedlim/bigdata_analyst_cert/main/part1/ch3/delivery_time.csv\")\n",
        "\n",
        "# 주문이 가장 많이 발생한 연-월 찾기\n",
        "df['주문시간'] = pd.to_datetime(df['주문시간'])\n",
        "df['주문월'] = df['주문시간'].dt.to_period('M')\n",
        "year_month = df['주문월'].value_counts().idxmax()\n",
        "\n",
        "# 해당 연-월에 배고팡 앱을 통한 주문 중, '앱결제'로 결제된 주문의 비율 계산\n",
        "cond1 = df['주문월'] == year_month\n",
        "cond2 = df['앱종류'] == '배고팡'\n",
        "filtered_df = df[cond1 & cond2]\n",
        "cond3 = filtered_df['결제종류'] == '앱결제'\n",
        "result = len(filtered_df[cond3])/len(filtered_df)\n",
        "print(round(result,2))"
      ],
      "metadata": {
        "id": "-3nDBTHesH-e",
        "colab": {
          "base_uri": "https://localhost:8080/"
        },
        "outputId": "bcf46425-50c3-40c1-cfb7-364d9d1f529f"
      },
      "execution_count": 95,
      "outputs": [
        {
          "output_type": "stream",
          "name": "stdout",
          "text": [
            "0.31\n"
          ]
        }
      ]
    },
    {
      "cell_type": "markdown",
      "source": [
        "### Section27."
      ],
      "metadata": {
        "id": "CnpKbKtyWC4V"
      }
    },
    {
      "cell_type": "code",
      "source": [
        "import pandas as pd\n",
        "# df = pd.read_csv(\"delivery_time.csv\")\n",
        "df = pd.read_csv(\"https://raw.githubusercontent.com/lovedlim/bigdata_analyst_cert/main/part1/ch3/delivery_time.csv\")\n",
        "\n",
        "# datetime 자료형으로 변경\n",
        "df['주문시간'] = pd.to_datetime(df['주문시간'])\n",
        "df['실제도착시간'] = pd.to_datetime(df['실제도착시간'])\n",
        "\n",
        "# 점심시간 주문 선택\n",
        "df['시간'] = df['주문시간'].dt.hour\n",
        "cond1 = df['시간'] >= 10\n",
        "cond2 = df['시간'] < 13\n",
        "df = df[cond1 & cond2]\n",
        "\n",
        "# 속도(km/h) = 거리(km) / 시간(h)\n",
        "df['배달시간'] = df['실제도착시간'] - df['주문시간']\n",
        "df['배달시간'] = df['배달시간'].dt.total_seconds() / 60 / 60 # 시간 단위로 변경\n",
        "df['속도'] = df['거리'] / df['배달시간']\n",
        "sum(df['속도'] >= 50)"
      ],
      "metadata": {
        "id": "RUAg4sT2WFzj",
        "colab": {
          "base_uri": "https://localhost:8080/"
        },
        "outputId": "d51126b7-b019-43f3-b988-26d2950f72f0"
      },
      "execution_count": 96,
      "outputs": [
        {
          "output_type": "execute_result",
          "data": {
            "text/plain": [
              "1"
            ]
          },
          "metadata": {},
          "execution_count": 96
        }
      ]
    },
    {
      "cell_type": "markdown",
      "source": [
        "### Section28."
      ],
      "metadata": {
        "id": "KrdTvruoWGFP"
      }
    },
    {
      "cell_type": "code",
      "source": [
        "import pandas as pd\n",
        "# df = pd.read_csv(\"delivery_time.csv\")\n",
        "df = pd.read_csv(\"https://raw.githubusercontent.com/lovedlim/bigdata_analyst_cert/main/part1/ch3/delivery_time.csv\")\n",
        "\n",
        "# 주문 연월 추출 (연도-월)\n",
        "df['주문시간'] = pd.to_datetime(df['주문시간'])\n",
        "df['주문월'] = df['주문시간'].dt.to_period('M')\n",
        "\n",
        "# 주문월을 기준으로 빈도 수(주문 횟수) 계산\n",
        "count_month = df.groupby('주문월').size()\n",
        "\n",
        "# 주문 횟수가 가장 많은 월의 인덱스 추출\n",
        "year_month = count_month.idxmax()\n",
        "\n",
        "# 문자열로 변경 및 하이픈(-) 제거\n",
        "year_month = str(year_month)\n",
        "result = year_month.replace(\"-\",\"\")\n",
        "print(result)"
      ],
      "metadata": {
        "id": "jgHA5q5iWHke",
        "colab": {
          "base_uri": "https://localhost:8080/"
        },
        "outputId": "87924117-c975-403a-c4fd-ecc9467b41d7"
      },
      "execution_count": 97,
      "outputs": [
        {
          "output_type": "stream",
          "name": "stdout",
          "text": [
            "202209\n"
          ]
        }
      ]
    },
    {
      "cell_type": "markdown",
      "source": [
        "### Section29."
      ],
      "metadata": {
        "id": "VDcz3cQIWH93"
      }
    },
    {
      "cell_type": "code",
      "source": [
        "import pandas as pd\n",
        "# df = pd.read_csv(\"delivery_time.csv\")\n",
        "df = pd.read_csv(\"https://raw.githubusercontent.com/lovedlim/bigdata_analyst_cert/main/part1/ch3/delivery_time.csv\")\n",
        "\n",
        "# 배달료 계산 함수 정의\n",
        "def delivery_fee(distance):\n",
        "    if distance < 5:\n",
        "        return 2000\n",
        "    elif distance < 10:\n",
        "        return 4000\n",
        "    elif distance < 15:\n",
        "        return 6000\n",
        "    elif distance < 20:\n",
        "        return 8000\n",
        "\n",
        "# 각 주문에 대한 배달료 계산\n",
        "df['배달료'] = df['거리'].apply(delivery_fee)\n",
        "\n",
        "# 월별로 배달료 집계\n",
        "df['주문시간'] = pd.to_datetime(df['주문시간'])\n",
        "period_M = df['주문시간'].dt.to_period(\"M\")\n",
        "monthly = df.groupby(period_M)['배달료'].sum()\n",
        "\n",
        "# 가장 많은 배달료가 발생한 월과 그 월의 총 배달료 찾기\n",
        "max_fee_month = monthly.idxmax()\n",
        "max_fee_value = monthly[max_fee_month]\n",
        "max_fee_value"
      ],
      "metadata": {
        "id": "OipM5UbYWJG1",
        "colab": {
          "base_uri": "https://localhost:8080/"
        },
        "outputId": "56e85166-354a-4689-b443-a3dcbe8e1116"
      },
      "execution_count": 98,
      "outputs": [
        {
          "output_type": "execute_result",
          "data": {
            "text/plain": [
              "448000"
            ]
          },
          "metadata": {},
          "execution_count": 98
        }
      ]
    },
    {
      "cell_type": "markdown",
      "source": [
        "### Section30."
      ],
      "metadata": {
        "id": "1iBC38EkNvlN"
      }
    },
    {
      "cell_type": "code",
      "source": [
        "import pandas as pd\n",
        "# df = pd.read_csv(\"delivery_time.csv\")\n",
        "df = pd.read_csv(\"https://raw.githubusercontent.com/lovedlim/bigdata_analyst_cert/main/part1/ch3/delivery_time.csv\")\n",
        "df['주문시간'] = pd.to_datetime(df['주문시간'])\n",
        "\n",
        "# 주말/평일 구분 0:월, 1:화 ~ 5:토, 6:일\n",
        "df['dayofweek'] = df['주문시간'].dt.dayofweek\n",
        "df['주말'] = df['dayofweek'] >= 5\n",
        "\n",
        "# 주말 개수, 평일 개수 계산\n",
        "weekend = sum(df['주말'])\n",
        "weekday = sum(~df['주말'])\n",
        "\n",
        "# 차이 절대값 출력\n",
        "print(abs(weekend - weekday))"
      ],
      "metadata": {
        "id": "Rjjl0YFwMIOR",
        "colab": {
          "base_uri": "https://localhost:8080/"
        },
        "outputId": "86a75eb7-423c-4d4c-c635-4779a914b63f"
      },
      "execution_count": 99,
      "outputs": [
        {
          "output_type": "stream",
          "name": "stdout",
          "text": [
            "412\n"
          ]
        }
      ]
    },
    {
      "cell_type": "markdown",
      "source": [
        "### Section31."
      ],
      "metadata": {
        "id": "SFA4nMg7WJiE"
      }
    },
    {
      "cell_type": "code",
      "source": [
        "import pandas as pd\n",
        "# df = pd.read_csv(\"delivery_time.csv\")\n",
        "df = pd.read_csv(\"https://raw.githubusercontent.com/lovedlim/bigdata_analyst_cert/main/part1/ch3/delivery_time.csv\")\n",
        "\n",
        "# 문자 슬라이싱\n",
        "df['user_int'] = df['user'].str[5:]\n",
        "\n",
        "# 자료형 변환\n",
        "df['user_int'] = df['user_int'].astype(int)\n",
        "\n",
        "# 합계\n",
        "print(df['user_int'].sum())\n"
      ],
      "metadata": {
        "id": "zAi-yt4wWLtj",
        "colab": {
          "base_uri": "https://localhost:8080/"
        },
        "outputId": "25691cae-fb3e-4358-e2ec-6f77e8a840cb"
      },
      "execution_count": 100,
      "outputs": [
        {
          "output_type": "stream",
          "name": "stdout",
          "text": [
            "261387\n"
          ]
        }
      ]
    },
    {
      "cell_type": "markdown",
      "source": [
        "### Section32."
      ],
      "metadata": {
        "id": "m2eNPxcHCQMT"
      }
    },
    {
      "cell_type": "code",
      "source": [
        "import pandas as pd\n",
        "# df = pd.read_csv(\"school_data.csv\")\n",
        "df = pd.read_csv(\"https://raw.githubusercontent.com/lovedlim/bigdata_analyst_cert/main/part1/ch3/school_data.csv\")\n",
        "\n",
        "# 수학, 영어, 국어 점수 합계\n",
        "df['total_score'] = df[['수학', '영어', '국어']].sum(axis=1)\n",
        "\n",
        "# 합계 점수를 기준으로 상위 10명 선택\n",
        "top10 = df.nlargest(10, 'total_score')\n",
        "\n",
        "# 선택된 10명의 수학 평균 점수 계산\n",
        "result = top10['수학'].mean()\n",
        "print(round(result))"
      ],
      "metadata": {
        "id": "xNzYeMWP-iW1",
        "colab": {
          "base_uri": "https://localhost:8080/"
        },
        "outputId": "de6dceb3-3fdc-41b2-ab9c-bc5a86155fc9"
      },
      "execution_count": 101,
      "outputs": [
        {
          "output_type": "stream",
          "name": "stdout",
          "text": [
            "82\n"
          ]
        }
      ]
    },
    {
      "cell_type": "markdown",
      "source": [
        "### Section33."
      ],
      "metadata": {
        "id": "NvkyoUhwKjpr"
      }
    },
    {
      "cell_type": "code",
      "source": [
        "import pandas as pd\n",
        "# df = pd.read_csv(\"school_data.csv\")\n",
        "df = pd.read_csv(\"https://raw.githubusercontent.com/lovedlim/bigdata_analyst_cert/main/part1/ch3/school_data.csv\")\n",
        "\n",
        "# 이름을 유지하면서 수학, 영어, 국어 형태 변경\n",
        "melted_df = df.melt(id_vars=['이름'], value_vars=['수학', '영어', '국어'])\n",
        "\n",
        "# 가장 작은 값 25개의 합\n",
        "result = melted_df['value'].nsmallest(25).sum()\n",
        "print(result)"
      ],
      "metadata": {
        "id": "Nh9lB7yj-iZd",
        "colab": {
          "base_uri": "https://localhost:8080/"
        },
        "outputId": "333bc60e-1975-4cf6-de0c-ab3c30b3179d"
      },
      "execution_count": 102,
      "outputs": [
        {
          "output_type": "stream",
          "name": "stdout",
          "text": [
            "420\n"
          ]
        }
      ]
    },
    {
      "cell_type": "markdown",
      "source": [
        "### Section34."
      ],
      "metadata": {
        "id": "UJGiDOMHKk3l"
      }
    },
    {
      "cell_type": "code",
      "source": [
        "import pandas as pd\n",
        "# df = pd.read_csv(\"school_data.csv\")\n",
        "df = pd.read_csv(\"https://raw.githubusercontent.com/lovedlim/bigdata_analyst_cert/main/part1/ch3/school_data.csv\")\n",
        "# df_science = pd.read_csv(\"school_data_science.csv\")\n",
        "df_science = pd.read_csv(\"https://raw.githubusercontent.com/lovedlim/bigdata_analyst_cert/main/part1/ch3/school_data_science.csv\")\n",
        "\n",
        "# 두 데이터프레임 합치기(axis=1)\n",
        "df = pd.concat([df, df_science], axis=1)\n",
        "\n",
        "# 수평(열)으로 평균 계산\n",
        "df['수영국과 평균'] = df[['수학', '영어', '국어', '과학']].mean(axis=1)\n",
        "\n",
        "# 수학, 영어, 국어, 과학 평균이 60점 이상\n",
        "result = sum(df['수영국과 평균'] >= 60)\n",
        "print(result)"
      ],
      "metadata": {
        "id": "q3A-C3XmKmL4",
        "colab": {
          "base_uri": "https://localhost:8080/"
        },
        "outputId": "5951842c-f8ca-4116-f7b9-32e79434c723"
      },
      "execution_count": 103,
      "outputs": [
        {
          "output_type": "stream",
          "name": "stdout",
          "text": [
            "9\n"
          ]
        }
      ]
    },
    {
      "cell_type": "markdown",
      "source": [
        "### Section35."
      ],
      "metadata": {
        "id": "ShHG0GgUNmlL"
      }
    },
    {
      "cell_type": "code",
      "source": [
        "import pandas as pd\n",
        "# df = pd.read_csv(\"school_data.csv\")\n",
        "df = pd.read_csv(\"https://raw.githubusercontent.com/lovedlim/bigdata_analyst_cert/main/part1/ch3/school_data.csv\")\n",
        "# df_social = pd.read_csv(\"school_data_social.csv\")\n",
        "df_social = pd.read_csv(\"https://raw.githubusercontent.com/lovedlim/bigdata_analyst_cert/main/part1/ch3/school_data_social.csv\")\n",
        "\n",
        "# '이름'을 기준으로 두 데이터프레임 합치기\n",
        "merged_df = pd.merge(df, df_social, on='이름')\n",
        "\n",
        "# 교사 필터링\n",
        "cond1 = merged_df['영어교사'] == '장선생'\n",
        "cond2 = merged_df['사회교사'] == '오선생'\n",
        "\n",
        "# 필터링된 데이터에서 수학점수 합\n",
        "result = merged_df[cond1 & cond2]['수학'].sum()\n",
        "print(result)"
      ],
      "metadata": {
        "id": "osSamxV3Gg5e",
        "colab": {
          "base_uri": "https://localhost:8080/"
        },
        "outputId": "602adac6-f0a8-41f0-f281-50cc52e8632a"
      },
      "execution_count": 104,
      "outputs": [
        {
          "output_type": "stream",
          "name": "stdout",
          "text": [
            "602\n"
          ]
        }
      ]
    }
  ]
}