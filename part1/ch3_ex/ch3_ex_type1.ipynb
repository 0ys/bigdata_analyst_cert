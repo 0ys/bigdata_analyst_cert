{
  "cells": [
    {
      "cell_type": "markdown",
      "metadata": {
        "id": "g7CyV-X4r6S2"
      },
      "source": [
        "[구글 코랩(Colab)에서 실행하기](https://colab.research.google.com/github/lovedlim/bigdata_analyst_cert/blob/main/part1/ch3/ch3_ex_type1.ipynb)"
      ]
    },
    {
      "cell_type": "markdown",
      "metadata": {
        "id": "fyetqPi1ngy-"
      },
      "source": [
        "### Section1. 필터링, 최솟값, 중앙값\n",
        "\n",
        "1. 'f5' 컬럼이 0이 아닌 데이터(행)을 구하시오.\n",
        "2. 앞에서 구한 데이터에 'views' 컬럼 결측치를 'views' 컬럼의 최솟값으로 채워주세요.\n",
        "3. 그리고 'views' 컬럼의 중앙값을 계산해 정수로 구하시오."
      ]
    },
    {
      "cell_type": "code",
      "execution_count": null,
      "metadata": {
        "colab": {
          "base_uri": "https://localhost:8080/"
        },
        "id": "dIoPqGGwnhzJ",
        "outputId": "7aeb9071-da24-4aab-d77c-5607a0e2fa5a"
      },
      "outputs": [
        {
          "name": "stdout",
          "output_type": "stream",
          "text": [
            "5924\n"
          ]
        }
      ],
      "source": [
        "import pandas as pd\n",
        "df = pd.read_csv(\"type1_data1.csv\")\n",
        "# df = pd.read_csv(\"https://raw.githubusercontent.com/lovedlim/bigdata_analyst_cert/main/part1/ch3/type1_data1.csv\")\n",
        "\n",
        "# 0 제외\n",
        "cond = df['f5'] != 0\n",
        "df = df[cond]\n",
        "\n",
        "# 'views' 컬럼 결측치 최소값으로 채우기\n",
        "min = df['views'].min()\n",
        "df['views'].fillna(min, inplace=True)\n",
        "# 또는 df['views'] = df['views'].fillna(min)\n",
        "\n",
        "# 'views' 컬럼 중앙값 계산\n",
        "print(int(df['views'].median()))"
      ]
    },
    {
      "cell_type": "markdown",
      "metadata": {
        "id": "_bsCOCjZqK6b"
      },
      "source": [
        "### Section2. 카테고리, 인덱스, 문자열 슬라이싱\n",
        "\n",
        "1. 'subscribed' 컬럼에서 가장 빈도수가 많은 날짜를 구하시오.\n",
        "2. 앞에서 구한 날짜의 일(day) 값을 정수로 구하시오."
      ]
    },
    {
      "cell_type": "code",
      "execution_count": null,
      "metadata": {
        "colab": {
          "base_uri": "https://localhost:8080/"
        },
        "id": "QhA96ADRqLDJ",
        "outputId": "4ad0afad-a247-4097-8950-95495c79ea37"
      },
      "outputs": [
        {
          "data": {
            "text/plain": [
              "17"
            ]
          },
          "execution_count": 8,
          "metadata": {},
          "output_type": "execute_result"
        }
      ],
      "source": [
        "import pandas as pd\n",
        "df = pd.read_csv(\"type1_data1.csv\")\n",
        "# df = pd.read_csv(\"https://raw.githubusercontent.com/lovedlim/bigdata_analyst_cert/main/part1/ch3/type1_data1.csv\")\n",
        "\n",
        "# subscribed 종류 중 가장 많은 날짜 구하기\n",
        "# value_counts() : 카테고리별 개수를 확인, 가장 빈도 수가 많은 순부터 나열됨\n",
        "df = df['subscribed'].value_counts()\n",
        "\n",
        "# 일(day)값을 찾고, 정수형으로 변경\n",
        "# 첫번째 행이 빈도 수가 많은 데이터이므로 index[0]으로 날짜를 얻는다.\n",
        "# day만 출력하기 위해 문자열 슬라이싱한다. str[:]\n",
        "int(df.index[0][-2:])"
      ]
    },
    {
      "cell_type": "markdown",
      "metadata": {
        "id": "009FIr1kqNp1"
      },
      "source": [
        "### Section3. 파생변수, 정렬, 인덱싱\n",
        "\n",
        "1. 결측치가 있는 데이터(행)을 제거하시오.\n",
        "2. 'views'컬럼을 'f1'컬럼으로 나눈 값을 새로운 컬럼으로 추가하시오.\n",
        "3. 새로운 컬럼 값 중 가장 큰 값을 가진 행의 age를 정수로 구하시오."
      ]
    },
    {
      "cell_type": "code",
      "execution_count": 12,
      "metadata": {
        "colab": {
          "base_uri": "https://localhost:8080/"
        },
        "id": "JE3-zjc1qQTU",
        "outputId": "e6469382-7b92-4bc7-8af5-0c633a5e9923"
      },
      "outputs": [
        {
          "data": {
            "text/plain": [
              "22"
            ]
          },
          "execution_count": 12,
          "metadata": {},
          "output_type": "execute_result"
        }
      ],
      "source": [
        "import pandas as pd\n",
        "df = pd.read_csv(\"type1_data1.csv\")\n",
        "# df = pd.read_csv(\"https://raw.githubusercontent.com/lovedlim/bigdata_analyst_cert/main/part1/ch3/type1_data1.csv\")\n",
        "\n",
        "# 결측치 제거\n",
        "df = df.dropna()\n",
        "# print(\"dropna 검증\\n\", df.isnull().sum())\n",
        "\n",
        "# 새로운 컬럼 계산\n",
        "df['new'] = df['views']/df['f1']\n",
        "\n",
        "# 내림차순 정렬\n",
        "df = df.sort_values('new', ascending=False)\n",
        "\n",
        "# age 값 찾아서 출력: iloc[행, 열]\n",
        "int(df.iloc[0,1])"
      ]
    },
    {
      "cell_type": "markdown",
      "metadata": {
        "id": "O_vJrS85qQzo"
      },
      "source": [
        "### Section4. 값 변경, 정렬, 합계\n",
        "\n",
        "1. 'views'컬럼의 결측 데이터를 0으로 대체하시오.\n",
        "2. 'views'컬럼에서 상위 10번째 값을 구하시오.\n",
        "3. 'views'컬럼에서 상위 10개의 값을 상위 10번째 값으로 대체하시오.\n",
        "4. 'views'컬럼의 전체 합을 정수로 구하시오."
      ]
    },
    {
      "cell_type": "code",
      "execution_count": 15,
      "metadata": {
        "colab": {
          "base_uri": "https://localhost:8080/"
        },
        "id": "3n2tsh8HqSUU",
        "outputId": "328f748a-1f02-4652-ba0f-3005ec1b6fcb"
      },
      "outputs": [
        {
          "name": "stdout",
          "output_type": "stream",
          "text": [
            "652812\n"
          ]
        }
      ],
      "source": [
        "import pandas as pd\n",
        "df = pd.read_csv(\"type1_data1.csv\")\n",
        "# df = pd.read_csv(\"https://raw.githubusercontent.com/lovedlim/bigdata_analyst_cert/main/part1/ch3/type1_data1.csv\")\n",
        "\n",
        "# 결측 데이터 0으로 대체\n",
        "df['views'].fillna(0, inplace=True)\n",
        "\n",
        "# 내림차순 정렬\n",
        "df = df.sort_values('views',ascending=False)\n",
        "\n",
        "# views 상위 10개 데이터에 최소값 대입\n",
        "# iloc[행 인덱스 범위, 컬럼 인덱스] : -1은 마지막 컬럼\n",
        "views_min = df.iloc[:10]['views'].min()\n",
        "df.iloc[:10, -1] = views_min\n",
        "\n",
        "# views 컬럼의 합\n",
        "print(int(df['views'].sum()))"
      ]
    },
    {
      "cell_type": "code",
      "execution_count": 16,
      "metadata": {
        "colab": {
          "base_uri": "https://localhost:8080/"
        },
        "id": "PITWFa67OhyE",
        "outputId": "659cd1ee-fefb-49eb-ecdb-b196776b3e1b"
      },
      "outputs": [
        {
          "name": "stdout",
          "output_type": "stream",
          "text": [
            "652812\n"
          ]
        }
      ],
      "source": [
        "import pandas as pd\n",
        "df = pd.read_csv(\"type1_data1.csv\")\n",
        "# df = pd.read_csv(\"https://raw.githubusercontent.com/lovedlim/bigdata_analyst_cert/main/part1/ch3/type1_data1.csv\")\n",
        "\n",
        "# 결측 데이터 0으로 대체\n",
        "df['views'].fillna(0, inplace=True)\n",
        "\n",
        "# views 컬럼에서 10번째로 큰 값을 구합니다.\n",
        "# nlargest()는 시리즈에서 사용할 수 있는 함수다. 데이터를 정렬하지 않고도 큰 값을 빠르게 찾을 수 있다.\n",
        "# df['views'].nlargest(10)으로 views 컬럼에서 가장 큰 값 10개를 구한다. 큰 순으로 정렬되어 반환된다. 그 중 가장 마지막 값인 iloc[-1]로 선택하면 10번째 값이 된다.\n",
        "value = df['views'].nlargest(10).iloc[-1]\n",
        "\n",
        "# views 컬럼에서 가장 큰 10개의 값을 10번째로 큰 값으로 대체\n",
        "# loc[행, 열]을 사용할 때 조건을 대입할 수 있다.\n",
        "df.loc[df['views'] > value, 'views'] = value\n",
        "\n",
        "# views 컬럼의 합\n",
        "print(int(df['views'].sum()))"
      ]
    },
    {
      "cell_type": "markdown",
      "metadata": {
        "id": "hWZP_Ppds-uO"
      },
      "source": [
        "### Section5. 문자열 슬라이싱, 파생변수, 평균값\n",
        "\n",
        "1. 'f4'컬럼 데이터에 'FJ'가 포함된 데이터를 찾으시오.\n",
        "2. 찾은 데이터 중에서 'f2'컬럼의 평균값을 구하시오. (반올림 후 소수 둘째 자리까지 계산)"
      ]
    },
    {
      "cell_type": "code",
      "execution_count": 18,
      "metadata": {
        "colab": {
          "base_uri": "https://localhost:8080/"
        },
        "id": "W4wM3sAKs-uP",
        "outputId": "51f89b7e-697a-4f97-e81c-3334b63a38d1"
      },
      "outputs": [
        {
          "name": "stdout",
          "output_type": "stream",
          "text": [
            "0.61\n"
          ]
        }
      ],
      "source": [
        "import pandas as pd\n",
        "df = pd.read_csv(\"type1_data1.csv\")\n",
        "# df = pd.read_csv(\"https://raw.githubusercontent.com/lovedlim/bigdata_analyst_cert/main/part1/ch3/type1_data1.csv\")\n",
        "\n",
        "# f4 컬럼에서 뒤에 2개 값 슬라이싱\n",
        "# 데이터프레임의 특정 값을 문자열로 슬라이싱하기 위해서는 우선 문자열로 변경한다.\n",
        "# df['f4'].str[슬라이싱 범위]로 문자열로 변경한 후 슬라이싱 범위를 지정한다.\n",
        "df['new'] = df['f4'].str[2:4]\n",
        "\n",
        "# FJ인 데이터 찾기\n",
        "cond = df['new'] == 'FJ'\n",
        "df = df[cond]\n",
        "\n",
        "# f2 평균 구하기\n",
        "print(round(df['f2'].mean(), 2))"
      ]
    },
    {
      "cell_type": "code",
      "execution_count": 19,
      "metadata": {
        "colab": {
          "base_uri": "https://localhost:8080/"
        },
        "id": "3ONeJePCDEIz",
        "outputId": "3a192a91-bed9-4ccd-aaab-b590f1090dba"
      },
      "outputs": [
        {
          "name": "stdout",
          "output_type": "stream",
          "text": [
            "0.61\n"
          ]
        }
      ],
      "source": [
        "import pandas as pd\n",
        "df = pd.read_csv(\"type1_data1.csv\")\n",
        "# df = pd.read_csv(\"https://raw.githubusercontent.com/lovedlim/bigdata_analyst_cert/main/part1/ch3/type1_data1.csv\")\n",
        "\n",
        "# FJ인 데이터 찾기\n",
        "# str.contains()를 활용해 특정 문자를 찾을 수 있다.\n",
        "cond = df['f4'].str.contains('FJ')\n",
        "df = df[cond]\n",
        "\n",
        "# f2 평균 구하기\n",
        "print(round(df['f2'].mean(), 2))"
      ]
    },
    {
      "cell_type": "markdown",
      "metadata": {
        "id": "1_R6mL-as_IJ"
      },
      "source": [
        "### Section6. 필터링, 분산\n",
        "\n",
        "1. 'f3'컬럼이 gold이면서 'f2'컬럼이 2인 데이터를 찾으시오.\n",
        "2. 찾은 데이터에서 'f1'컬럼의 분산을 구하시오. (반올림 후 소수 둘째 자리까지 계산)"
      ]
    },
    {
      "cell_type": "code",
      "execution_count": 20,
      "metadata": {
        "colab": {
          "base_uri": "https://localhost:8080/"
        },
        "id": "A7aR-DfEeWaI",
        "outputId": "56f1590f-811b-406e-c925-06bf3bbeabf7"
      },
      "outputs": [
        {
          "name": "stdout",
          "output_type": "stream",
          "text": [
            "235.43\n"
          ]
        }
      ],
      "source": [
        "import pandas as pd\n",
        "df = pd.read_csv(\"type1_data1.csv\")\n",
        "# df = pd.read_csv(\"https://raw.githubusercontent.com/lovedlim/bigdata_analyst_cert/main/part1/ch3/type1_data1.csv\")\n",
        "\n",
        "# 조건에 맞는 데이터\n",
        "cond1 = df['f3'] == 'gold'\n",
        "cond2 = df['f2'] == 2\n",
        "df = df[cond1 & cond2]\n",
        "\n",
        "# 분산\n",
        "result = df['f1'].var()\n",
        "\n",
        "# 출력\n",
        "print(round(result,2))"
      ]
    },
    {
      "cell_type": "markdown",
      "metadata": {
        "id": "_zgaSeQ9s_dI"
      },
      "source": [
        "### Section7. 값 변경(연산), 필터링 절댓값\n",
        "\n",
        "1. 모든 나이(age)에 1을 더하시오.\n",
        "2. 20대의 'views' 평균과 30대의 'views' 평균의 절댓값 차이를 구하시오. (반올림 후 소수 둘째 자리까지 계산)"
      ]
    },
    {
      "cell_type": "code",
      "execution_count": null,
      "metadata": {
        "colab": {
          "base_uri": "https://localhost:8080/"
        },
        "id": "fxpIvj1vs_dJ",
        "outputId": "2addb280-ac33-4fa8-9765-783b8b6f61a5"
      },
      "outputs": [
        {
          "name": "stdout",
          "output_type": "stream",
          "text": [
            "263.13\n"
          ]
        }
      ],
      "source": [
        "import pandas as pd\n",
        "df = pd.read_csv(\"type1_data1.csv\")\n",
        "# df = pd.read_csv(\"https://raw.githubusercontent.com/lovedlim/bigdata_analyst_cert/main/part1/ch3/type1_data1.csv\")\n",
        "\n",
        "# 나이 + 1\n",
        "df['age'] = df['age'] + 1\n",
        "\n",
        "# 20대, 30대 조건\n",
        "cond1 = (df['age'] >= 20) & (df['age'] < 30)\n",
        "cond2 = (df['age'] >= 30) & (df['age'] < 40)\n",
        "\n",
        "# 30대 views\n",
        "result = abs(df[cond1]['views'].mean() - df[cond2]['views'].mean())\n",
        "\n",
        "print(round(result,2))"
      ]
    },
    {
      "cell_type": "markdown",
      "metadata": {
        "id": "Qj1dSVqXs_2t"
      },
      "source": [
        "### Section8. 시계열 데이터, 필터링, 데이터 개수\n",
        "\n",
        "1. 'subscribed'컬럼이 2024년 2월인 데이터를 찾으시오.\n",
        "2. 위에서 찾은 데이터 중 'f3' 컬림이 gold인 데이터의 개수를 구하시오."
      ]
    },
    {
      "cell_type": "code",
      "execution_count": 21,
      "metadata": {
        "colab": {
          "base_uri": "https://localhost:8080/"
        },
        "id": "XzeSXWfrs_2u",
        "outputId": "f7476a59-1b90-4b11-ad61-82350fc460b5"
      },
      "outputs": [
        {
          "name": "stdout",
          "output_type": "stream",
          "text": [
            "5\n"
          ]
        }
      ],
      "source": [
        "import pandas as pd\n",
        "df = pd.read_csv(\"type1_data1.csv\")\n",
        "# df = pd.read_csv(\"https://raw.githubusercontent.com/lovedlim/bigdata_analyst_cert/main/part1/ch3/type1_data1.csv\")\n",
        "\n",
        "# 자료형 변환\n",
        "df['subscribed'] = pd.to_datetime(df['subscribed'])\n",
        "# df['subscribed'] = pd.to_datetime(df['subscribed'], format=\"%Y-%m-%d\") # format 사용\n",
        "\n",
        "# 파생변수 생성 (년, 월)\n",
        "df['year'] = df['subscribed'].dt.year\n",
        "df['month'] = df['subscribed'].dt.month\n",
        "\n",
        "# 2024년 2월이고, 'f3'이 gold인 데이터\n",
        "cond1 = df['year'] == 2024\n",
        "cond2 = df['month'] == 2\n",
        "cond3 = df['f3'] == 'gold'\n",
        "df = df[cond1 & cond2 & cond3]\n",
        "\n",
        "# 데이터 개수\n",
        "print(len(df))"
      ]
    },
    {
      "cell_type": "markdown",
      "metadata": {
        "id": "rrk8AZhsk-Bx"
      },
      "source": [
        "### Section9. 필터링, 카테고리, 최빈값\n",
        "\n",
        "1. 'views' 컬럼 값이 1000 이하인 데이터(결측치 제외)를 찾으시오.\n",
        "2. 앞에서 구한 데이터 중 'f4' 컬럼의 최빈값을 구하시오."
      ]
    },
    {
      "cell_type": "code",
      "execution_count": 23,
      "metadata": {
        "colab": {
          "base_uri": "https://localhost:8080/"
        },
        "id": "rYBoJsslj0pq",
        "outputId": "bb66faff-d3bb-42ee-f6f9-7136761640bc"
      },
      "outputs": [
        {
          "name": "stdout",
          "output_type": "stream",
          "text": [
            "ISFJ\n"
          ]
        }
      ],
      "source": [
        "import pandas as pd\n",
        "df = pd.read_csv(\"type1_data1.csv\")\n",
        "# df = pd.read_csv(\"https://raw.githubusercontent.com/lovedlim/bigdata_analyst_cert/main/part1/ch3/type1_data1.csv\")\n",
        "\n",
        "# views수가 1000이하\n",
        "cond = df['views'] <= 1000\n",
        "df = df[cond]\n",
        "\n",
        "# f4컬럼 종류별 개수\n",
        "# df['f4'].value_counts()를 데이터프레임으로 변경하면 f4 컬럼 데이터가 인덱스가 된다.\n",
        "# value_counts()는 기본적으로 내림차순 정렬되어 첫 번째 행이 최빈값이다. index[0]으로 출력한다.\n",
        "df = df['f4'].value_counts()\n",
        "\n",
        "# f4컬럼 최빈값\n",
        "print(df.index[0])"
      ]
    },
    {
      "cell_type": "code",
      "execution_count": 24,
      "metadata": {
        "colab": {
          "base_uri": "https://localhost:8080/"
        },
        "id": "QQ4e8rs1AGJe",
        "outputId": "250f182d-3b22-47ba-e377-61ec69612b8d"
      },
      "outputs": [
        {
          "name": "stdout",
          "output_type": "stream",
          "text": [
            "ISFJ\n"
          ]
        }
      ],
      "source": [
        "import pandas as pd\n",
        "df = pd.read_csv(\"type1_data1.csv\")\n",
        "# df = pd.read_csv(\"https://raw.githubusercontent.com/lovedlim/bigdata_analyst_cert/main/part1/ch3/type1_data1.csv\")\n",
        "\n",
        "# views수가 1000이하\n",
        "cond = df['views'] <= 1000\n",
        "df = df[cond]\n",
        "\n",
        "# f4컬럼 종류별 개수\n",
        "# 최빈값을 구하기 위해 mode()를 사용한다.\n",
        "# mode()는 sum()이나 mean()과 달리, 시리즈 형태로 반환한다.\n",
        "# mode() 뒤에 [0]을 붙여 첫 번째 값을 출력한다.\n",
        "print(df['f4'].mode()[0])"
      ]
    },
    {
      "cell_type": "markdown",
      "metadata": {
        "id": "TgO7R8c8f49P"
      },
      "source": [
        "### Section10. 그룹핑, 최댓값, 정렬\n",
        "\n",
        "1. 결측치가 있는 행을 삭제하시오.\n",
        "2. 결측치가 삭제된 데이터를 사용하여 지역별(city) 평균을 계산하시오.\n",
        "3. 앞에서 계산한 지역별 평균 데이터에서 'f2' 컬럼 값이 가장 큰 지역을 구하시오."
      ]
    },
    {
      "cell_type": "code",
      "execution_count": 29,
      "metadata": {
        "colab": {
          "base_uri": "https://localhost:8080/"
        },
        "id": "SVAm1nibj1Hu",
        "outputId": "58ed5a8e-209c-4ac8-fe84-c59daea3caac"
      },
      "outputs": [
        {
          "name": "stdout",
          "output_type": "stream",
          "text": [
            "서울\n"
          ]
        }
      ],
      "source": [
        "import pandas as pd\n",
        "df = pd.read_csv(\"type1_data1.csv\")\n",
        "# df = pd.read_csv(\"https://raw.githubusercontent.com/lovedlim/bigdata_analyst_cert/main/part1/ch3/type1_data1.csv\")\n",
        "\n",
        "# 결측치가 있는 행은 삭제하고\n",
        "df.dropna(inplace=True)\n",
        "\n",
        "# 지역별 평균 계산\n",
        "# groupby()를 활용해 city를 기준으로 평균값을 구한다. 기준으로 하는 컬럼이 인덱스가 된다.\n",
        "df = df.groupby(['city']).mean(numeric_only=True) # 시험환경은 mean() 사용\n",
        "\n",
        "# 'f2'컬럼이 가장 큰 지역 출력\n",
        "print(df.sort_values(\"f2\", ascending = False).index[0])"
      ]
    },
    {
      "cell_type": "code",
      "execution_count": 3,
      "metadata": {
        "colab": {
          "base_uri": "https://localhost:8080/"
        },
        "id": "zz6ttce-hq0G",
        "outputId": "19ecbbcf-9c87-44db-c1c7-adf713c4aecc"
      },
      "outputs": [
        {
          "name": "stdout",
          "output_type": "stream",
          "text": [
            "서울\n"
          ]
        }
      ],
      "source": [
        "import pandas as pd\n",
        "df = pd.read_csv(\"type1_data1.csv\")\n",
        "# df = pd.read_csv(\"https://raw.githubusercontent.com/lovedlim/bigdata_analyst_cert/main/part1/ch3/type1_data1.csv\")\n",
        "\n",
        "# 결측치가 있는 행은 삭제하고\n",
        "df.dropna(inplace=True)\n",
        "\n",
        "# 지역별 평균 계산\n",
        "# df.groupby()를 활용할 때 컬럼이 1개면 대괄호 없이 사용 가능하다.\n",
        "df = df.groupby('city').mean(numeric_only=True) # 시험환경은 mean() 사용\n",
        "\n",
        "# 'f2'컬럼이 가장 큰 지역 출력\n",
        "# idxmax()는 최댓값의 인덱스를 반환하고, idxmin()은 최솟값의 인덱스를 반환한다.\n",
        "print(df['f2'].idxmax())\n"
      ]
    },
    {
      "cell_type": "markdown",
      "metadata": {
        "id": "upHoC0eb7CC0"
      },
      "source": [
        "### Section11. 슬라이싱, 사분위수, 결측치 제거\n",
        "1. 데이터에서 결측치가 있는 데이터(행)를 모두 제거하시오.\n",
        "2. 결측치가 제거된 데이터를 사용하여 앞에서부터 70% 데이터를 구하시오. (단, 데이터 70% 지점의 index가 소수점으로 계산될 경우 소수점 이하는 버림)\n",
        "3. 앞에서 구한 70% 데이터 중 'views' 컬럼의 3사분위수에서 1사분위수를 뺀 값을 정수로 구하시오."
      ]
    },
    {
      "cell_type": "code",
      "execution_count": 5,
      "metadata": {
        "colab": {
          "base_uri": "https://localhost:8080/"
        },
        "id": "HAeSMA747N_I",
        "outputId": "116f2781-c5c3-4c6a-be16-05a69c176b12"
      },
      "outputs": [
        {
          "name": "stdout",
          "output_type": "stream",
          "text": [
            "2771\n"
          ]
        }
      ],
      "source": [
        "import pandas as pd\n",
        "df = pd.read_csv(\"type1_data1.csv\")\n",
        "# df = pd.read_csv(\"https://raw.githubusercontent.com/lovedlim/bigdata_analyst_cert/main/part1/ch3/type1_data1.csv\")\n",
        "\n",
        "# 결측치가 있는 행 제거\n",
        "df.dropna(inplace=True)\n",
        "\n",
        "# 70% 지점\n",
        "end = int(len(df) * 0.7)\n",
        "\n",
        "# 70% 데이터 슬라이싱\n",
        "df = df.iloc[:end]\n",
        "\n",
        "# 3사분위수, 1사분위수\n",
        "# 시험에서 quantile() 함수를 기억하지 못한다면 df['views'].describe()를 활용해 25%와 75%를 확인할 수 있다.\n",
        "q3 = df['views'].quantile(.75)\n",
        "q1 = df['views'].quantile(.25)\n",
        "\n",
        "# 결과 출력\n",
        "print(int(q3 - q1))"
      ]
    },
    {
      "cell_type": "markdown",
      "metadata": {
        "id": "kmcKIuaz_wRx"
      },
      "source": [
        "### Section12. 결측치 처리, 최빈값, 데이터 개수\n",
        "1. 결측치가 가장 많은 두 컬럼을 찾으시오.\n",
        "2. 첫 번째로 결측치가 많은 컬럼에서 결측치가 있는 데이터(행)를 삭제하시오.\n",
        "3. 두 번째로 결측치가 많은 컬럼을 최빈값으로 대체하시오.\n",
        "4. 'f3' 컬럼의 'gold'값을 가진 데이터의 수를 정수형으로 구하시오."
      ]
    },
    {
      "cell_type": "code",
      "execution_count": null,
      "metadata": {
        "colab": {
          "base_uri": "https://localhost:8080/"
        },
        "id": "x8G4a2Jp_zy-",
        "outputId": "9454c646-ef62-4ba6-d4c0-f9a28afd6fe8"
      },
      "outputs": [
        {
          "name": "stdout",
          "output_type": "stream",
          "text": [
            "63\n"
          ]
        }
      ],
      "source": [
        "import pandas as pd\n",
        "df = pd.read_csv(\"type1_data1.csv\")\n",
        "# df = pd.read_csv(\"https://raw.githubusercontent.com/lovedlim/bigdata_analyst_cert/main/part1/ch3/type1_data1.csv\")\n",
        "\n",
        "# 결측치가 가장 많은 컬럼, 출력 결과로 확인\n",
        "# print(df.isnull().sum())\n",
        "\n",
        "# 결측치가 가장 많은 컬럼 제거\n",
        "df = df.dropna(subset=['f1'])\n",
        "\n",
        "# 두번째로 가장 결측치가 많은 컬럼 최빈값 대체\n",
        "freq = df['f3'].mode()[0]\n",
        "df['f3'] = df['f3'].fillna(freq)\n",
        "\n",
        "# f3컬럼이 gold인 데이터의 수 sum()\n",
        "print(sum(df['f3'] == 'gold'))"
      ]
    },
    {
      "cell_type": "code",
      "execution_count": null,
      "metadata": {
        "colab": {
          "base_uri": "https://localhost:8080/"
        },
        "id": "vKWjyP9KEmZO",
        "outputId": "9fe4991d-2766-4166-e0d7-51618b69b662"
      },
      "outputs": [
        {
          "name": "stdout",
          "output_type": "stream",
          "text": [
            "63\n"
          ]
        }
      ],
      "source": [
        "import pandas as pd\n",
        "df = pd.read_csv(\"type1_data1.csv\")\n",
        "# df = pd.read_csv(\"https://raw.githubusercontent.com/lovedlim/bigdata_analyst_cert/main/part1/ch3/type1_data1.csv\")\n",
        "\n",
        "# 결측치가 가장 많은 컬럼\n",
        "col = df.isnull().sum().idxmax()\n",
        "\n",
        "# 결측치가 가장 많은 컬럼 제거\n",
        "df = df.dropna(subset=[col])\n",
        "\n",
        "# 두번째로 가장 결측치가 많은 컬럼 최빈값 대체\n",
        "freq = df['f3'].mode()[0]\n",
        "df['f3'] = df['f3'].fillna(freq)\n",
        "\n",
        "# f3컬럼이 gold인 데이터의 수 len(df[])\n",
        "print(len(df[df['f3'] == 'gold']))"
      ]
    },
    {
      "cell_type": "markdown",
      "metadata": {
        "id": "Zz1RT2JFC7iz"
      },
      "source": [
        "### Section13. 결측 데이터 찾기, 필터링, 평균값\n",
        "1. 'f1' 컬럼에 결측치가 있는 데이터만 선택하시오.\n",
        "2. 선택된 데이터에서 'age' 컬럼의 평균값을 구하시오. (반올림 후 소수 첫째 자리까지 계산)"
      ]
    },
    {
      "cell_type": "code",
      "execution_count": 11,
      "metadata": {
        "colab": {
          "base_uri": "https://localhost:8080/"
        },
        "id": "HAYA4FhMCIKx",
        "outputId": "cc9ea1c0-b23e-4b62-f5db-16f70ec4a874"
      },
      "outputs": [
        {
          "name": "stdout",
          "output_type": "stream",
          "text": [
            "53.6\n"
          ]
        }
      ],
      "source": [
        "import pandas as pd\n",
        "df = pd.read_csv(\"type1_data1.csv\")\n",
        "# df = pd.read_csv(\"https://raw.githubusercontent.com/lovedlim/bigdata_analyst_cert/main/part1/ch3/type1_data1.csv\")\n",
        "\n",
        "# 결측치가 있는 데이터 True / False\n",
        "cond = df['f1'].isnull()\n",
        "\n",
        "# 결측치가 있는 데이터 선택\n",
        "df = df[cond]\n",
        "\n",
        "# age의 평균값을 구하시오\n",
        "result = df['age'].mean()\n",
        "\n",
        "# 소수 첫째자리 까지 출력\n",
        "print(round(result, 1))"
      ]
    },
    {
      "cell_type": "markdown",
      "metadata": {
        "id": "1wY-DwCKFjm1"
      },
      "source": [
        "### Section14. 중복 데이터 제거, 값 변경, 데이터 개수\n",
        "1. 중복 데이터를 제거하시오.\n",
        "2. 'f3' 컬럼의 결측치는 0, 'silver'는 1, 'gold'는 2, 'vip'는 3으로 변환하시오.\n",
        "3. 변환된 'f3' 컬럼의 총합을 정수형으로 구하시오."
      ]
    },
    {
      "cell_type": "code",
      "execution_count": 15,
      "metadata": {
        "colab": {
          "base_uri": "https://localhost:8080/"
        },
        "id": "HhgaIWypFmlo",
        "outputId": "37967418-c8f1-4309-b87f-294d379a98a8"
      },
      "outputs": [
        {
          "name": "stdout",
          "output_type": "stream",
          "text": [
            "167\n"
          ]
        }
      ],
      "source": [
        "import pandas as pd\n",
        "df = pd.read_csv(\"type1_data1.csv\")\n",
        "# df = pd.read_csv(\"https://raw.githubusercontent.com/lovedlim/bigdata_analyst_cert/main/part1/ch3/type1_data1.csv\")\n",
        "\n",
        "# 중복데이터 제거\n",
        "df.drop_duplicates(inplace=True)\n",
        "\n",
        "# 값 대체\n",
        "import numpy as np\n",
        "# df['f3'] = df['f3'].replace(np.nan,0).replace('silver',1).replace('gold',2).replace('vip',3)\n",
        "\n",
        "# 또는\n",
        "dict_list = {np.nan:0, 'silver':1, 'gold':2, 'vip':3}\n",
        "df['f3'] = df['f3'].map(dict_list)\n",
        "\n",
        "# f3컬럼의 총합 (정수형으로 출력)\n",
        "print(int(df['f3'].sum()))"
      ]
    },
    {
      "cell_type": "code",
      "execution_count": 14,
      "metadata": {
        "colab": {
          "base_uri": "https://localhost:8080/"
        },
        "id": "-4nnZd4PHblL",
        "outputId": "8ba1af3b-4d50-4453-8342-8f2601f32083"
      },
      "outputs": [
        {
          "name": "stdout",
          "output_type": "stream",
          "text": [
            "167\n"
          ]
        }
      ],
      "source": [
        "# 방법2\n",
        "import pandas as pd\n",
        "df = pd.read_csv(\"type1_data1.csv\")\n",
        "# df = pd.read_csv(\"https://raw.githubusercontent.com/lovedlim/bigdata_analyst_cert/main/part1/ch3/type1_data1.csv\")\n",
        "\n",
        "# 중복데이터 제거\n",
        "df.drop_duplicates(inplace=True)\n",
        "\n",
        "# 계산\n",
        "r1 = sum(df['f3'] == 'silver') * 1\n",
        "r2 = sum(df['f3'] == 'gold') * 2\n",
        "r3 = sum(df['f3'] == 'vip') * 3\n",
        "print(r1 + r2 + r3)"
      ]
    },
    {
      "cell_type": "markdown",
      "metadata": {
        "id": "_5wI5LtEIg7z"
      },
      "source": [
        "### Section15. 컬럼 삭제, 행 단위 합계, 필터링\n",
        "1. 주어진 데이터에서 문자 자료형 컬럼을 삭제하시오.\n",
        "2. 숫자 자료형 컬럼의 결측치를 0으로 대체하시오.\n",
        "3. 각 행의 합이 3000보다 큰 값의 개수를 정수로 구하시오. (각 행의 합: 'age'+'f1'+'f2'+'f5'+'views')"
      ]
    },
    {
      "cell_type": "code",
      "execution_count": null,
      "metadata": {
        "colab": {
          "base_uri": "https://localhost:8080/"
        },
        "id": "UsweG-C8Ikfx",
        "outputId": "979549fa-2e3d-48bc-b847-aa310d3599be"
      },
      "outputs": [
        {
          "name": "stdout",
          "output_type": "stream",
          "text": [
            "88\n"
          ]
        }
      ],
      "source": [
        "import pandas as pd\n",
        "df = pd.read_csv(\"type1_data1.csv\")\n",
        "# df = pd.read_csv(\"https://raw.githubusercontent.com/lovedlim/bigdata_analyst_cert/main/part1/ch3/type1_data1.csv\")\n",
        "\n",
        "# 자료형이 object 컬럼 선택\n",
        "cols = df.select_dtypes(exclude='object').columns\n",
        "df = df[cols]\n",
        "\n",
        "# 결측치 0으로 대체\n",
        "df = df.fillna(0)\n",
        "\n",
        "# 행과 열 변경\n",
        "df = df.T\n",
        "\n",
        "# 행별 합이 3000이상인 데이터 수\n",
        "print(sum(df.sum() > 3000))"
      ]
    },
    {
      "cell_type": "markdown",
      "metadata": {
        "id": "czzQ7mCZK85p"
      },
      "source": [
        "### Section16. 이상치, IQR\n",
        "1. 'views' 컬럼의 1사분위수, 3사분위수 그리고 IQR을 계산하시오.\n",
        "2. 이상치 조건에 맞는 데이터를 찾으시오. (이상치는 1사분위수 - (IQR*1.5) 보다 작은 값과 3사분위수 + (IQR*1.5)보다 큰 값)\n",
        "3. 이상치 데이터의 'views' 컬럼 합을 정수로 구하시오.\n",
        "\n",
        "IQR = Q3 - Q1\n",
        "\n",
        "- Q1 (1사분위수): 전체 데이터의 25% 지점 값\n",
        "- Q3 (3사분위수): 전체 데이터의 75% 지점 값\n",
        "\n",
        "따라서 IQR은 데이터의 중간 50% 범위를 나타내는 지표입니다."
      ]
    },
    {
      "cell_type": "code",
      "execution_count": 16,
      "metadata": {
        "colab": {
          "base_uri": "https://localhost:8080/"
        },
        "id": "q8bwlASyK3KM",
        "outputId": "b9c2f353-a297-4ee7-f2e2-5d277928e385"
      },
      "outputs": [
        {
          "name": "stdout",
          "output_type": "stream",
          "text": [
            "77699\n"
          ]
        }
      ],
      "source": [
        "import pandas as pd\n",
        "df = pd.read_csv(\"type1_data1.csv\")\n",
        "# df = pd.read_csv(\"https://raw.githubusercontent.com/lovedlim/bigdata_analyst_cert/main/part1/ch3/type1_data1.csv\")\n",
        "\n",
        "# 3사분위 1사분위\n",
        "q3 = df['views'].quantile(.75)\n",
        "q1 = df['views'].quantile(.25)\n",
        "\n",
        "# IQR 계산\n",
        "IQR = q3 - q1\n",
        "\n",
        "# 이상치 기준 찾기\n",
        "line1 = q1 - 1.5 * IQR\n",
        "line2 = q3 + 1.5 * IQR\n",
        "\n",
        "# 이상치 조건에 만족하는 데이터 찾기\n",
        "cond1 = df['views'] < line1\n",
        "cond2 = df['views'] > line2\n",
        "df = df[cond1 | cond2]\n",
        "\n",
        "# views 컬럼 합\n",
        "print(int(df['views'].sum()))"
      ]
    },
    {
      "cell_type": "markdown",
      "metadata": {
        "id": "bs-cfwPHM_Oo"
      },
      "source": [
        "### Section17. 이상치, 소수점 있는 데이터 찾기, 표준 편차\n",
        "1. 'view' 컬럼의 표준편차를 구하시오.\n",
        "2. 'age' 컬럼의 이상치(소수점 나이, 음수 나이, 0살)를 제거하고, 'view' 컬럼의 표준편차를 구하시오.\n",
        "3. 이상치 제거 전후의 'views' 컬럼의 표준편차를 더하여, 반올림 후 소수 둘째 자리까지 구하시오."
      ]
    },
    {
      "cell_type": "code",
      "execution_count": null,
      "metadata": {
        "colab": {
          "base_uri": "https://localhost:8080/"
        },
        "id": "A2lQ6p8YNB0s",
        "outputId": "ccc8fbbf-ac6b-4750-bed2-a9b80bf1a67b"
      },
      "outputs": [
        {
          "name": "stdout",
          "output_type": "stream",
          "text": [
            "8297.31\n"
          ]
        }
      ],
      "source": [
        "import pandas as pd\n",
        "df = pd.read_csv(\"type1_data1.csv\")\n",
        "# df = pd.read_csv(\"https://raw.githubusercontent.com/lovedlim/bigdata_analyst_cert/main/part1/ch3/type1_data1.csv\")\n",
        "\n",
        "# 표준편차\n",
        "r1 = df['views'].std()\n",
        "\n",
        "# 음수이거나 0 테이터 제외\n",
        "cond = df['age'] <= 0\n",
        "df = df[~cond]\n",
        "\n",
        "# 소수점이 없는 값만 선택\n",
        "cond = df['age'] == round(df['age'],0)\n",
        "df = df[cond]\n",
        "\n",
        "# 표준편차\n",
        "r2 = df['views'].std()\n",
        "\n",
        "print(round(r1 + r2, 2))"
      ]
    },
    {
      "cell_type": "markdown",
      "metadata": {
        "id": "Uvi2VH67Od_9"
      },
      "source": [
        "### Section18. 데이터(행) 기준 평균값, 인덱싱\n",
        "1. index '2001' 데이터(행)에서 평균보다 큰 값의 개수를 구하시오.\n",
        "2. index '2003' 데이터(행)에서 평균보다 작은 값의 개수를 구하시오.\n",
        "3. 두 개수를 더하시오."
      ]
    },
    {
      "cell_type": "code",
      "execution_count": 17,
      "metadata": {
        "colab": {
          "base_uri": "https://localhost:8080/"
        },
        "id": "x-3LbkaGQEdp",
        "outputId": "1128ee3a-9c72-4694-85b2-de516f0551dd"
      },
      "outputs": [
        {
          "name": "stdout",
          "output_type": "stream",
          "text": [
            "202\n"
          ]
        }
      ],
      "source": [
        "import pandas as pd\n",
        "df = pd.read_csv(\"type1_data2.csv\", index_col=\"year\")\n",
        "# df = pd.read_csv(\"https://raw.githubusercontent.com/lovedlim/bigdata_analyst_cert/main/part1/ch3/type1_data2.csv\", index_col=\"year\")\n",
        "\n",
        "# 2001, 평균보다 큰값 합계\n",
        "m1 = df.loc[2001].mean()\n",
        "cond1 = df.loc[2001] > m1\n",
        "r1 = sum(cond1)\n",
        "\n",
        "# 2003평균보다 작은값 합계\n",
        "m2 = df.loc[2003].mean()\n",
        "cond2 = df.loc[2003] < m2\n",
        "r2 = sum(cond2)\n",
        "\n",
        "print(r1+r2)"
      ]
    },
    {
      "cell_type": "code",
      "execution_count": 18,
      "metadata": {
        "colab": {
          "base_uri": "https://localhost:8080/"
        },
        "id": "JncpmT-fB347",
        "outputId": "4f793e97-90cb-4cd7-a4e3-ef0173e72352"
      },
      "outputs": [
        {
          "name": "stdout",
          "output_type": "stream",
          "text": [
            "202\n"
          ]
        }
      ],
      "source": [
        "import pandas as pd\n",
        "df = pd.read_csv(\"type1_data2.csv\", index_col=\"year\")\n",
        "# df = pd.read_csv(\"https://raw.githubusercontent.com/lovedlim/bigdata_analyst_cert/main/part1/ch3/type1_data2.csv\", index_col=\"year\")\n",
        "df = df.T # 행과 열 변경\n",
        "\n",
        "# 평균보다 큰값 합계\n",
        "m1 = df[2001].mean()\n",
        "cond1 = df[2001] > m1\n",
        "r1 = sum(cond1)\n",
        "\n",
        "# 평균보다 작은값 합계\n",
        "m2 = df[2003].mean()\n",
        "cond2 = df[2003] < m2\n",
        "r2 = sum(cond2)\n",
        "\n",
        "print(r1+r2)"
      ]
    },
    {
      "cell_type": "markdown",
      "metadata": {
        "id": "zuCLLKHuRF68"
      },
      "source": [
        "### Section19. 결측치(뒤의 값으로 대체), 그룹합\n",
        "1. 결측치를 바로 뒤에 있는 값으로 대체하시오. (바로 뒤의 값도 결측치일 경우, 뒤에 있는 데이터 중 가장 가까운 값으로 대체)\n",
        "2. 'city'와 'f2'컬럼을 기준으로 그룹합을 계산하시오.\n",
        "3. 'views'값이 세 번째로 큰 city 이름을 구하시오."
      ]
    },
    {
      "cell_type": "code",
      "execution_count": 19,
      "metadata": {
        "colab": {
          "base_uri": "https://localhost:8080/"
        },
        "id": "3nf3FldiRQRi",
        "outputId": "21da25ce-d157-4675-fb7f-979f380b6ed3"
      },
      "outputs": [
        {
          "name": "stdout",
          "output_type": "stream",
          "text": [
            "경기\n"
          ]
        }
      ],
      "source": [
        "import pandas as pd\n",
        "# df = pd.read_csv(\"type1_data1.csv\")\n",
        "df = pd.read_csv(\"https://raw.githubusercontent.com/lovedlim/bigdata_analyst_cert/main/part1/ch3/type1_data1.csv\")\n",
        "\n",
        "# 결측치 채우기\n",
        "# fillna()의 method는 결측치를 채울 방식을 말한다.\n",
        "# bfill: 결측치의 뒤에 있는 값으로 채운다.\n",
        "# ffill: 결측치의 앞에 있는 값으로 채운다.\n",
        "# df = df.fillna(method='bfill')\n",
        "df =df.bfill()\n",
        "\n",
        "# city와 f2기준 그룹합 계산\n",
        "# reset_index()는 groupby() 이후 만들어진 멀티인덱스를 컬럼으로 만들고, 인덱스는 새롭게 매겨진다.\n",
        "df = df.groupby(['city','f2']).sum(numeric_only=True).reset_index()\n",
        "\n",
        "# 내림차순 정렬\n",
        "df = df.sort_values('views', ascending=False)\n",
        "\n",
        "# 3번째로 큰 값 출력\n",
        "print(df.iloc[2,0])"
      ]
    },
    {
      "cell_type": "markdown",
      "metadata": {
        "id": "4PpSgq4URj1E"
      },
      "source": [
        "### Section20. 시계열 데이터, 월별 집계, 인덱스\n",
        "1. 연도 구분 없이 월별로 숫자형 컬럼의 합을 구하시오.\n",
        "2. 합계 중 'views'가 가장 작은 값을 가진 월을 정수로 구하시오."
      ]
    },
    {
      "cell_type": "code",
      "execution_count": 20,
      "metadata": {
        "colab": {
          "base_uri": "https://localhost:8080/"
        },
        "id": "DfHTMhLdR2G4",
        "outputId": "e39401c8-03fd-4577-f4ef-7fd70057285e"
      },
      "outputs": [
        {
          "name": "stdout",
          "output_type": "stream",
          "text": [
            "11\n"
          ]
        }
      ],
      "source": [
        "import pandas as pd\n",
        "df = pd.read_csv(\"type1_data1.csv\")\n",
        "# df = pd.read_csv(\"https://raw.githubusercontent.com/lovedlim/bigdata_analyst_cert/main/part1/ch3/type1_data1.csv\")\n",
        "\n",
        "# 자료형 변환\n",
        "df['subscribed'] = pd.to_datetime(df['subscribed'])\n",
        "\n",
        "# 파생변수 생성: 월을 별도 컬럼으로 만든다.\n",
        "df['month'] = df['subscribed'].dt.month\n",
        "\n",
        "# 월별로 데이터 합 집계\n",
        "df = df.groupby('month').sum(numeric_only=True)\n",
        "\n",
        "# 오름차순 정렬 및 가장 작은값 출력\n",
        "print(df.sort_values('views').index[0])"
      ]
    },
    {
      "cell_type": "markdown",
      "metadata": {
        "id": "_VaGdUm5Jvha"
      },
      "source": [
        "### Section21. 시간 간의 차이 계산(분), 필터링\n",
        "1. 예상 도착 시간보다 늦게 도착한 건수를 구하시오.\n",
        "2. 이 중 거리가 7km 이상인 데이터의 수를 정수로 구하시오."
      ]
    },
    {
      "cell_type": "code",
      "execution_count": null,
      "metadata": {
        "colab": {
          "base_uri": "https://localhost:8080/"
        },
        "id": "Q_inq7MObx64",
        "outputId": "617c0b75-e83a-464f-d0f6-99d436400312"
      },
      "outputs": [
        {
          "name": "stdout",
          "output_type": "stream",
          "text": [
            "311\n"
          ]
        }
      ],
      "source": [
        "import pandas as pd\n",
        "df = pd.read_csv(\"delivery_time.csv\")\n",
        "# df = pd.read_csv(\"https://raw.githubusercontent.com/lovedlim/bigdata_analyst_cert/main/part1/ch3/delivery_time.csv\")\n",
        "\n",
        "# datetime으로 자료형 변경\n",
        "df['실제도착시간'] = pd.to_datetime(df['실제도착시간'])\n",
        "df['예상도착시간'] = pd.to_datetime(df['예상도착시간'])\n",
        "\n",
        "# 지연시간 계산(분)\n",
        "# dt.total_seconds()를 활용해 전체 시간을 초 단위로 변경, 60으로 나누어 분 단위로 변경한다.\n",
        "df['지연시간'] = (df['실제도착시간'] - df['예상도착시간']).dt.total_seconds()/60\n",
        "\n",
        "# 조건1 - 예상 도착시간보다 늦게 도착한 건 지연시간이 양수\n",
        "cond1 = df['지연시간'] > 0\n",
        "\n",
        "# 조건2 - 거리가 7 이상인 건\n",
        "cond2 = df['거리'] >= 7\n",
        "\n",
        "# 조건에 맞는 데이터(행) 수 출력\n",
        "print(len(df[cond1 & cond2]))"
      ]
    },
    {
      "cell_type": "markdown",
      "metadata": {
        "id": "1qbnwrbQJz52"
      },
      "source": [
        "### Section22. 시간 간의 차이 계산(분), 그룹핑\n",
        "1. 주문 시간과 실제 도착 시간의 차이를 분 단위로 계산하시오.\n",
        "2. 앱 종류별로 평균 도착 시간(분)을 계산하시오.\n",
        "3. 평균적으로 가장 빠른 앱 종류를 찾고, 해당 앱의 평균 도착 시간을 분으로 반올림하여 정수로 구하시오."
      ]
    },
    {
      "cell_type": "code",
      "execution_count": 21,
      "metadata": {
        "colab": {
          "base_uri": "https://localhost:8080/"
        },
        "id": "apFpK_tAJzZ8",
        "outputId": "93872d6d-7d88-454e-8f5b-e4c049866ba3"
      },
      "outputs": [
        {
          "name": "stdout",
          "output_type": "stream",
          "text": [
            "62\n"
          ]
        }
      ],
      "source": [
        "import pandas as pd\n",
        "# df = pd.read_csv(\"delivery_time.csv\")\n",
        "df = pd.read_csv(\"https://raw.githubusercontent.com/lovedlim/bigdata_analyst_cert/main/part1/ch3/delivery_time.csv\")\n",
        "\n",
        "# datetime으로 자료형 변경\n",
        "df['실제도착시간'] = pd.to_datetime(df['실제도착시간'])\n",
        "df['주문시간'] = pd.to_datetime(df['주문시간'])\n",
        "\n",
        "# 실제 도착시간과 주문시간 차이 계산(분)\n",
        "df['diff'] = (df['실제도착시간'] - df['주문시간']).dt.total_seconds()/60\n",
        "\n",
        "# 앱종류별 도착시간과 주문시간 차이의 평균 계산\n",
        "df = df.groupby('앱종류')['diff'].mean()\n",
        "\n",
        "# 가장 작은 시간(분) 반올림 후 출력\n",
        "print(round(df.min()))"
      ]
    },
    {
      "cell_type": "markdown",
      "metadata": {
        "id": "dHGcmLvRJ1fy"
      },
      "source": [
        "### Section23. 시간 간의 차이 계산(분), 비율\n",
        "1. 각 결제 종류별로 실제 도착 시간이 예상 도착 시간보다 늦은 주문의 비율을 계산하시오.\n",
        "2. 비율 중 가장 큰 값을 반올림하여 소수 둘째 자리까지 구하시오."
      ]
    },
    {
      "cell_type": "code",
      "execution_count": null,
      "metadata": {
        "colab": {
          "base_uri": "https://localhost:8080/"
        },
        "id": "FuLpNI5yJziX",
        "outputId": "b9b09ea7-4032-498a-a994-b382baf34fab"
      },
      "outputs": [
        {
          "name": "stdout",
          "output_type": "stream",
          "text": [
            "0.56\n"
          ]
        }
      ],
      "source": [
        "import pandas as pd\n",
        "df = pd.read_csv(\"delivery_time.csv\")\n",
        "# df = pd.read_csv(\"https://raw.githubusercontent.com/lovedlim/bigdata_analyst_cert/main/part1/ch3/delivery_time.csv\")\n",
        "\n",
        "# datetime 자료형으로 변경\n",
        "df['실제도착시간'] = pd.to_datetime(df['실제도착시간'])\n",
        "df['예상도착시간'] = pd.to_datetime(df['예상도착시간'])\n",
        "\n",
        "# 지연시간 계산(분)\n",
        "df['지연시간'] = (df['실제도착시간'] - df['예상도착시간']).dt.total_seconds() / 60  # 분 단위로 계산\n",
        "\n",
        "# 실제 도착시간이 예상 도착시간보다 늦은 경우를 체크하는 컬럼 생성\n",
        "df['지연여부'] = df['지연시간'] > 0\n",
        "\n",
        "# 결제 종류별 지연된 주문의 비율 계산\n",
        "# 예를 들어 10개 중 3개가 True(1)이고, 7개가 False(0)일 때 평균을 계산하면 0.3이 된다.\n",
        "# 이런 방식으로 결제 종류를 기준으로 그룹핑하고 지연 여부의 평균을 구하면, 결제 종류별 지연된 주문 수의 비율이 계산된다.\n",
        "result = df.groupby('결제종류')['지연여부'].mean()\n",
        "\n",
        "# 가장 비율이 높은 값\n",
        "print(round(result.max(), 2))"
      ]
    },
    {
      "cell_type": "markdown",
      "metadata": {
        "id": "fy4e8_O271u-"
      },
      "source": [
        "### Section24. 그룹핑, 값 찾기, 필터링\n",
        "1. 사용자별 주문 거리의 합계가 50km 이상인 사람들의 결제 방식을 구하시오.\n",
        "2. 이 결제 방식 중 가장 빈도가 높은 수를 구하시오."
      ]
    },
    {
      "cell_type": "code",
      "execution_count": 28,
      "metadata": {
        "colab": {
          "base_uri": "https://localhost:8080/"
        },
        "id": "61UVl8WsJzks",
        "outputId": "8788c4b9-0831-41a4-a1ed-6a5581f36b27"
      },
      "outputs": [
        {
          "name": "stdout",
          "output_type": "stream",
          "text": [
            "48\n"
          ]
        },
        {
          "name": "stderr",
          "output_type": "stream",
          "text": [
            "C:\\Users\\0ysgo\\AppData\\Local\\Temp\\ipykernel_10352\\920687103.py:21: FutureWarning: Series.__getitem__ treating keys as positions is deprecated. In a future version, integer keys will always be treated as labels (consistent with DataFrame behavior). To access a value by position, use `ser.iloc[pos]`\n",
            "  print(payment_method[0])\n"
          ]
        }
      ],
      "source": [
        "import pandas as pd\n",
        "df = pd.read_csv(\"delivery_time.csv\")\n",
        "# df = pd.read_csv(\"https://raw.githubusercontent.com/lovedlim/bigdata_analyst_cert/main/part1/ch3/delivery_time.csv\")\n",
        "# print(df.head())\n",
        "\n",
        "# 사용자별로 주문 거리의 합계 계산\n",
        "df_distance = df.groupby('user')['거리'].sum()\n",
        "\n",
        "# 주문 거리의 합계가 50km 이상인 사용자만 필터링\n",
        "cond = df_distance >= 50\n",
        "df_distance = df_distance[cond]\n",
        "# print(df_distance)\n",
        "\n",
        "# 주문 거리의 합계가 50km 이상인 사용자들의 데이터 필터링\n",
        "# isin() 함수는 리스트 형태를 입력값으로 받아 필터링한다.\n",
        "filtered_data = df[df['user'].isin(df_distance.index)]\n",
        "# print(filtered_data)\n",
        "\n",
        "# 해당 사용자들의 선호 결제 방식 중 큰 값\n",
        "payment_method = filtered_data['결제종류'].value_counts()\n",
        "print(payment_method[0])"
      ]
    },
    {
      "cell_type": "markdown",
      "metadata": {
        "id": "-U-07CoFWCUK"
      },
      "source": [
        "### Section25. 시간 간의 차이 계산(일)\n",
        "1. 각 사용자별로 첫 주문과 마지막 주문 사이의 시간 간격을 일 단위로 계산하시오.\n",
        "2. 시간 간격이 1일 이하인 사용자를 제외하고, 나머지 사용자들의 평균 시간 간격(일 단위)을 계산하시오.\n",
        "3. 평균 시간 간격보다 긴 시간 간격을 가진 사용자의 수를 정수로 구하시오."
      ]
    },
    {
      "cell_type": "code",
      "execution_count": 29,
      "metadata": {
        "colab": {
          "base_uri": "https://localhost:8080/"
        },
        "id": "TIJ4FisqX6K_",
        "outputId": "fddad4c9-2a0d-4606-e149-b03495f54f79"
      },
      "outputs": [
        {
          "name": "stdout",
          "output_type": "stream",
          "text": [
            "146\n"
          ]
        }
      ],
      "source": [
        "import pandas as pd\n",
        "df = pd.read_csv(\"delivery_time.csv\")\n",
        "# df = pd.read_csv(\"https://raw.githubusercontent.com/lovedlim/bigdata_analyst_cert/main/part1/ch3/delivery_time.csv\")\n",
        "\n",
        "# 각 사용자별로 첫 주문과 마지막 주문 사이의 시간 간격(일 단위)을 계산\n",
        "df['주문시간'] = pd.to_datetime(df['주문시간'])\n",
        "min_order_time = df.groupby('user')['주문시간'].min()\n",
        "max_order_time = df.groupby('user')['주문시간'].max()\n",
        "time_interval = (max_order_time - min_order_time).dt.days\n",
        "\n",
        "# 1회 이하 주문 제외\n",
        "cond1 = time_interval>0\n",
        "m = time_interval[cond1].mean()\n",
        "\n",
        "# 평균보다 기간이 긴 유저 수\n",
        "cond2 = time_interval > m\n",
        "print(len(time_interval[cond2]))"
      ]
    },
    {
      "cell_type": "markdown",
      "metadata": {
        "id": "-s8mvo6TvcNR"
      },
      "source": [
        "### Section26. 날짜와 시간 정보 변환, 비율\n",
        "1. 주문이 가장 많이 발생한 연-월을 찾으시오.\n",
        "2. 해당 연-월에 '배고팡' 앱을 통한 주문 중 '앱결제'로 결제된 주문의 비율을 계산하시오. (반올림 후 소수 둘째 자리까지 계산)"
      ]
    },
    {
      "cell_type": "code",
      "execution_count": 30,
      "metadata": {
        "colab": {
          "base_uri": "https://localhost:8080/"
        },
        "id": "-3nDBTHesH-e",
        "outputId": "c43ebd1f-6a6b-448b-a273-067b5d026d5c"
      },
      "outputs": [
        {
          "name": "stdout",
          "output_type": "stream",
          "text": [
            "0.31\n"
          ]
        }
      ],
      "source": [
        "import pandas as pd\n",
        "df = pd.read_csv(\"delivery_time.csv\")\n",
        "# df = pd.read_csv(\"https://raw.githubusercontent.com/lovedlim/bigdata_analyst_cert/main/part1/ch3/delivery_time.csv\")\n",
        "\n",
        "# 주문이 가장 많이 발생한 연-월 찾기\n",
        "df['주문시간'] = pd.to_datetime(df['주문시간'])\n",
        "df['주문월'] = df['주문시간'].dt.to_period('M') # 연도와 월을 묶어서 주문 월 컬럼을 만든다. 2024-02\n",
        "year_month = df['주문월'].value_counts().idxmax()\n",
        "\n",
        "# 해당 연-월에 배고팡 앱을 통한 주문 중, '앱결제'로 결제된 주문의 비율 계산\n",
        "cond1 = df['주문월'] == year_month\n",
        "cond2 = df['앱종류'] == '배고팡'\n",
        "filtered_df = df[cond1 & cond2]\n",
        "cond3 = filtered_df['결제종류'] == '앱결제'\n",
        "result = len(filtered_df[cond3])/len(filtered_df)\n",
        "print(round(result,2))"
      ]
    },
    {
      "cell_type": "markdown",
      "metadata": {
        "id": "CnpKbKtyWC4V"
      },
      "source": [
        "### Section27. 시간 범위, 속도(km/h)\n",
        "1. 점심시간(10시부터 13시 전까지)에 주문된 배달 데이터를 찾으시오.\n",
        "2. 점심시간 주문 건 중 과속(평균 속도가 50km/h 이상)하는 주문 수를 정수로 구하시오\n",
        "- 배달시간 = 실제 도착시간 - 주문시간\n",
        "- 속도(km/h)=거리(km)/시간(h)"
      ]
    },
    {
      "cell_type": "code",
      "execution_count": 31,
      "metadata": {
        "colab": {
          "base_uri": "https://localhost:8080/"
        },
        "id": "RUAg4sT2WFzj",
        "outputId": "94b7c1e3-be85-4d3d-9095-737ff9ab6bf5"
      },
      "outputs": [
        {
          "data": {
            "text/plain": [
              "1"
            ]
          },
          "execution_count": 31,
          "metadata": {},
          "output_type": "execute_result"
        }
      ],
      "source": [
        "import pandas as pd\n",
        "df = pd.read_csv(\"delivery_time.csv\")\n",
        "# df = pd.read_csv(\"https://raw.githubusercontent.com/lovedlim/bigdata_analyst_cert/main/part1/ch3/delivery_time.csv\")\n",
        "\n",
        "# datetime 자료형으로 변경\n",
        "df['주문시간'] = pd.to_datetime(df['주문시간'])\n",
        "df['실제도착시간'] = pd.to_datetime(df['실제도착시간'])\n",
        "\n",
        "# 점심시간 주문 선택\n",
        "df['시간'] = df['주문시간'].dt.hour\n",
        "cond1 = df['시간'] >= 10\n",
        "cond2 = df['시간'] < 13\n",
        "df = df[cond1 & cond2]\n",
        "\n",
        "# 속도(km/h) = 거리(km) / 시간(h)\n",
        "df['배달시간'] = df['실제도착시간'] - df['주문시간']\n",
        "df['배달시간'] = df['배달시간'].dt.total_seconds() / 60 / 60 # 시간 단위로 변경\n",
        "df['속도'] = df['거리'] / df['배달시간']\n",
        "sum(df['속도'] >= 50)"
      ]
    },
    {
      "cell_type": "markdown",
      "metadata": {
        "id": "KrdTvruoWGFP"
      },
      "source": [
        "### Section28. 날짜와 시간, 문자열\n",
        "1. 연도와 월을 기준으로 주문 수를 집계하시오.\n",
        "2. 가장 많은 주문이 있었던 연도와 월을 예시와 같은 형식으로 숫자로만 구하시오. (예: 2024년 2월인 경우 '202402')"
      ]
    },
    {
      "cell_type": "code",
      "execution_count": 32,
      "metadata": {
        "colab": {
          "base_uri": "https://localhost:8080/"
        },
        "id": "jgHA5q5iWHke",
        "outputId": "82c856b2-f689-40bf-e8d4-f1096afb3c5e"
      },
      "outputs": [
        {
          "name": "stdout",
          "output_type": "stream",
          "text": [
            "202209\n"
          ]
        }
      ],
      "source": [
        "import pandas as pd\n",
        "df = pd.read_csv(\"delivery_time.csv\")\n",
        "# df = pd.read_csv(\"https://raw.githubusercontent.com/lovedlim/bigdata_analyst_cert/main/part1/ch3/delivery_time.csv\")\n",
        "\n",
        "# 주문 연월 추출 (연도-월)\n",
        "df['주문시간'] = pd.to_datetime(df['주문시간'])\n",
        "df['주문월'] = df['주문시간'].dt.to_period('M')\n",
        "\n",
        "# 주문월을 기준으로 빈도 수(주문 횟수) 계산\n",
        "count_month = df.groupby('주문월').size()\n",
        "\n",
        "# 주문 횟수가 가장 많은 월의 인덱스 추출\n",
        "year_month = count_month.idxmax()\n",
        "\n",
        "# 문자열로 변경 및 하이픈(-) 제거\n",
        "year_month = str(year_month)\n",
        "result = year_month.replace(\"-\",\"\")\n",
        "print(result)"
      ]
    },
    {
      "cell_type": "markdown",
      "metadata": {
        "id": "VDcz3cQIWH93"
      },
      "source": [
        "### Section29. 함수, 월별 집계\n",
        "1. 배달료 계산 기준표에 따라 각 주문에 대한 배달료를 계산하시오.\n",
        "2. 월별로 배달료의 총합을 집계하시오.\n",
        "3. 배달료가 가장 많이 발생한 월을 찾고, 그 월의 총 배달료를 정수로 구하시오."
      ]
    },
    {
      "cell_type": "code",
      "execution_count": 34,
      "metadata": {
        "colab": {
          "base_uri": "https://localhost:8080/"
        },
        "id": "OipM5UbYWJG1",
        "outputId": "2ef35bdf-2e5a-42fd-e177-891bb7c1dc81"
      },
      "outputs": [
        {
          "data": {
            "text/plain": [
              "np.int64(448000)"
            ]
          },
          "execution_count": 34,
          "metadata": {},
          "output_type": "execute_result"
        }
      ],
      "source": [
        "import pandas as pd\n",
        "df = pd.read_csv(\"delivery_time.csv\")\n",
        "# df = pd.read_csv(\"https://raw.githubusercontent.com/lovedlim/bigdata_analyst_cert/main/part1/ch3/delivery_time.csv\")\n",
        "\n",
        "# 배달료 계산 함수 정의\n",
        "def delivery_fee(distance):\n",
        "    if distance < 5:\n",
        "        return 2000\n",
        "    elif distance < 10:\n",
        "        return 4000\n",
        "    elif distance < 15:\n",
        "        return 6000\n",
        "    elif distance < 20:\n",
        "        return 8000\n",
        "\n",
        "# 각 주문에 대한 배달료 계산\n",
        "df['배달료'] = df['거리'].apply(delivery_fee)\n",
        "\n",
        "# 월별로 배달료 집계\n",
        "df['주문시간'] = pd.to_datetime(df['주문시간'])\n",
        "period_M = df['주문시간'].dt.to_period(\"M\")\n",
        "monthly = df.groupby(period_M)['배달료'].sum()\n",
        "\n",
        "# 가장 많은 배달료가 발생한 월과 그 월의 총 배달료 찾기\n",
        "# print(monthly)\n",
        "max_fee_month = monthly.idxmax()\n",
        "max_fee_value = monthly[max_fee_month]\n",
        "max_fee_value"
      ]
    },
    {
      "cell_type": "markdown",
      "metadata": {
        "id": "1iBC38EkNvlN"
      },
      "source": [
        "### Section30. 주말, 평일 구분\n",
        "1. 주말 주문 건수와 평일 주문 건수를 구하시오.\n",
        "2. 주말 주문 건수와 평일 주문 건수의 차이를 절대값으로 구하고 정수형으로 구하시오."
      ]
    },
    {
      "cell_type": "code",
      "execution_count": 35,
      "metadata": {
        "colab": {
          "base_uri": "https://localhost:8080/"
        },
        "id": "Rjjl0YFwMIOR",
        "outputId": "5569dbc4-2ef8-429a-beae-281a35d3802f"
      },
      "outputs": [
        {
          "name": "stdout",
          "output_type": "stream",
          "text": [
            "412\n"
          ]
        }
      ],
      "source": [
        "import pandas as pd\n",
        "df = pd.read_csv(\"delivery_time.csv\")\n",
        "# df = pd.read_csv(\"https://raw.githubusercontent.com/lovedlim/bigdata_analyst_cert/main/part1/ch3/delivery_time.csv\")\n",
        "df['주문시간'] = pd.to_datetime(df['주문시간'])\n",
        "\n",
        "# 주말/평일 구분 0:월, 1:화 ~ 5:토, 6:일\n",
        "# dt.dayofweek를 사용해 해당 날짜의 요일을 숫자로 변경한 값을 구한다.\n",
        "df['dayofweek'] = df['주문시간'].dt.dayofweek\n",
        "df['주말'] = df['dayofweek'] >= 5\n",
        "\n",
        "# 주말 개수, 평일 개수 계산\n",
        "weekend = sum(df['주말'])\n",
        "weekday = sum(~df['주말'])\n",
        "\n",
        "# 차이 절대값 출력\n",
        "print(abs(weekend - weekday))"
      ]
    },
    {
      "cell_type": "markdown",
      "metadata": {
        "id": "SFA4nMg7WJiE"
      },
      "source": [
        "### Section31. 문자열, 형 변환\n",
        "1. 'user'컬럼에서 user 뒤에 있는 숫자 값만 추출하시오.\n",
        "2. 추출된 숫자 값을 모두 합한 값을 정수로 구하시오."
      ]
    },
    {
      "cell_type": "code",
      "execution_count": 36,
      "metadata": {
        "colab": {
          "base_uri": "https://localhost:8080/"
        },
        "id": "zAi-yt4wWLtj",
        "outputId": "e47fe15c-e04e-4c1a-8940-1bb8f54090f0"
      },
      "outputs": [
        {
          "name": "stdout",
          "output_type": "stream",
          "text": [
            "261387\n"
          ]
        }
      ],
      "source": [
        "import pandas as pd\n",
        "df = pd.read_csv(\"delivery_time.csv\")\n",
        "# df = pd.read_csv(\"https://raw.githubusercontent.com/lovedlim/bigdata_analyst_cert/main/part1/ch3/delivery_time.csv\")\n",
        "\n",
        "# 문자 슬라이싱\n",
        "df['user_int'] = df['user'].str[5:]\n",
        "\n",
        "# 자료형 변환\n",
        "df['user_int'] = df['user_int'].astype(int)\n",
        "\n",
        "# 합계\n",
        "print(df['user_int'].sum())\n"
      ]
    },
    {
      "cell_type": "markdown",
      "metadata": {
        "id": "m2eNPxcHCQMT"
      },
      "source": [
        "### Section32. 합계(열 방향), 상위 값 선택\n",
        "1. 수학, 영어, 국어 점수의 합을 구하시오.\n",
        "2. 합이 가장 큰 상위 10명을 찾으시오.\n",
        "3. 찾은 10명의 수학 평균 점수를 구하시오. (반올림 후 정수 출력)"
      ]
    },
    {
      "cell_type": "code",
      "execution_count": 38,
      "metadata": {
        "colab": {
          "base_uri": "https://localhost:8080/"
        },
        "id": "xNzYeMWP-iW1",
        "outputId": "c81daa09-10ec-43ac-a55a-2d3a703edd88"
      },
      "outputs": [
        {
          "name": "stdout",
          "output_type": "stream",
          "text": [
            "82\n"
          ]
        }
      ],
      "source": [
        "import pandas as pd\n",
        "df = pd.read_csv(\"school_data.csv\")\n",
        "# df = pd.read_csv(\"https://raw.githubusercontent.com/lovedlim/bigdata_analyst_cert/main/part1/ch3/school_data.csv\")\n",
        "\n",
        "# 수학, 영어, 국어 점수 합계\n",
        "df['total_score'] = df[['수학', '영어', '국어']].sum(axis=1)\n",
        "\n",
        "# 합계 점수를 기준으로 상위 10명 선택\n",
        "top10 = df.nlargest(10, 'total_score')\n",
        "\n",
        "# 선택된 10명의 수학 평균 점수 계산\n",
        "result = top10['수학'].mean()\n",
        "print(round(result))"
      ]
    },
    {
      "cell_type": "markdown",
      "metadata": {
        "id": "NvkyoUhwKjpr"
      },
      "source": [
        "### Section33. 데이터프레임 재구조화\n",
        "1. 과목에 상관없이 점수가 가장 작은 점수 25개를 찾으시오.\n",
        "2. 찾은 점수 25개의 합을 정수로 구하시오."
      ]
    },
    {
      "cell_type": "code",
      "execution_count": 39,
      "metadata": {
        "colab": {
          "base_uri": "https://localhost:8080/"
        },
        "id": "Nh9lB7yj-iZd",
        "outputId": "8f21db4d-4009-4b43-bbea-5257aa4c60d8"
      },
      "outputs": [
        {
          "name": "stdout",
          "output_type": "stream",
          "text": [
            "     이름 variable  value\n",
            "0   강아지       수학     66\n",
            "1   고양이       수학     92\n",
            "2    토끼       수학     98\n",
            "3    사자       수학     17\n",
            "4   호랑이       수학     83\n",
            "..  ...      ...    ...\n",
            "85   타조       국어     49\n",
            "86  개구리       국어     86\n",
            "87  펠리칸       국어      3\n",
            "88  돌고래       국어     67\n",
            "89    매       국어     11\n",
            "\n",
            "[90 rows x 3 columns]\n",
            "420\n"
          ]
        }
      ],
      "source": [
        "import pandas as pd\n",
        "# df = pd.read_csv(\"school_data.csv\")\n",
        "df = pd.read_csv(\"https://raw.githubusercontent.com/lovedlim/bigdata_analyst_cert/main/part1/ch3/school_data.csv\")\n",
        "\n",
        "# 이름을 유지하면서 수학, 영어, 국어 형태 변경\n",
        "# 특정 컬럼은 수평(열)으로 유지하면서 나머지 컬럼은 수평에서 수직(행)으로 변경할 때 melt()를 사용한다.\n",
        "# id_vars에는 유지할 컬럼, value_vars에는 수평에서 수직으로 재구조화할 컬럼을 대입한다.\n",
        "melted_df = df.melt(id_vars=['이름'], value_vars=['수학', '영어', '국어'])\n",
        "print(melted_df)\n",
        "\n",
        "# 가장 작은 값 25개의 합\n",
        "# 변경된 데이터에서 과목에 상관없이 가장 작은 25개의 값을 nsmallest()로 찾고 합한다.\n",
        "result = melted_df['value'].nsmallest(25).sum()\n",
        "print(result)"
      ]
    },
    {
      "cell_type": "markdown",
      "metadata": {
        "id": "UJGiDOMHKk3l"
      },
      "source": [
        "### Section34. 데이터 합치기(concat)\n",
        "1. school_data.csv와 school_data_science.csv의 학생 순서는 동일하다.\n",
        "2. 학생별로 수학, 영어, 국어, 과학 점수의 평균을 구하시오.\n",
        "2. 평균 점수가 60점 이상인 인원 수를 계산하시오."
      ]
    },
    {
      "cell_type": "code",
      "execution_count": 40,
      "metadata": {
        "colab": {
          "base_uri": "https://localhost:8080/"
        },
        "id": "q3A-C3XmKmL4",
        "outputId": "ec2ebe9d-f96c-42f9-eb63-3a8c6015f60b"
      },
      "outputs": [
        {
          "name": "stdout",
          "output_type": "stream",
          "text": [
            "9\n"
          ]
        }
      ],
      "source": [
        "import pandas as pd\n",
        "df = pd.read_csv(\"school_data.csv\")\n",
        "# df = pd.read_csv(\"https://raw.githubusercontent.com/lovedlim/bigdata_analyst_cert/main/part1/ch3/school_data.csv\")\n",
        "df_science = pd.read_csv(\"school_data_science.csv\")\n",
        "# df_science = pd.read_csv(\"https://raw.githubusercontent.com/lovedlim/bigdata_analyst_cert/main/part1/ch3/school_data_science.csv\")\n",
        "\n",
        "# 두 데이터프레임 합치기(axis=1)\n",
        "df = pd.concat([df, df_science], axis=1)\n",
        "\n",
        "# 수평(열)으로 평균 계산\n",
        "df['수영국과 평균'] = df[['수학', '영어', '국어', '과학']].mean(axis=1)\n",
        "\n",
        "# 수학, 영어, 국어, 과학 평균이 60점 이상\n",
        "result = sum(df['수영국과 평균'] >= 60)\n",
        "print(result)"
      ]
    },
    {
      "cell_type": "markdown",
      "metadata": {
        "id": "ShHG0GgUNmlL"
      },
      "source": [
        "### Section35. 데이터 합치기(merge)\n",
        "1. school_data.csv와 school_data_social.csv 파일을 '이름'을 기준으로 합치시오.\n",
        "2. 영어교사가 장선생이면서 사회교사가 오선생인 학생들을 필터링하시오.\n",
        "3. 필터링된 학생들의 수학 점수를 모두 더한 후 정수로 구하시오."
      ]
    },
    {
      "cell_type": "code",
      "execution_count": 41,
      "metadata": {
        "colab": {
          "base_uri": "https://localhost:8080/"
        },
        "id": "osSamxV3Gg5e",
        "outputId": "08d65bad-8d79-4077-a353-db9e45472c7b"
      },
      "outputs": [
        {
          "name": "stdout",
          "output_type": "stream",
          "text": [
            "602\n"
          ]
        }
      ],
      "source": [
        "import pandas as pd\n",
        "df = pd.read_csv(\"school_data.csv\")\n",
        "# df = pd.read_csv(\"https://raw.githubusercontent.com/lovedlim/bigdata_analyst_cert/main/part1/ch3/school_data.csv\")\n",
        "df_social = pd.read_csv(\"school_data_social.csv\")\n",
        "# df_social = pd.read_csv(\"https://raw.githubusercontent.com/lovedlim/bigdata_analyst_cert/main/part1/ch3/school_data_social.csv\")\n",
        "\n",
        "# '이름'을 기준으로 두 데이터프레임 합치기\n",
        "# 왼쪽 이름을 기준으로 오른쪽 데이터를 합친다.\n",
        "merged_df = pd.merge(df, df_social, on='이름')\n",
        "\n",
        "# 교사 필터링\n",
        "cond1 = merged_df['영어교사'] == '장선생'\n",
        "cond2 = merged_df['사회교사'] == '오선생'\n",
        "\n",
        "# 필터링된 데이터에서 수학점수 합\n",
        "result = merged_df[cond1 & cond2]['수학'].sum()\n",
        "print(result)"
      ]
    }
  ],
  "metadata": {
    "colab": {
      "provenance": [],
      "toc_visible": true
    },
    "kernelspec": {
      "display_name": "Python 3",
      "language": "python",
      "name": "python3"
    },
    "language_info": {
      "codemirror_mode": {
        "name": "ipython",
        "version": 3
      },
      "file_extension": ".py",
      "mimetype": "text/x-python",
      "name": "python",
      "nbconvert_exporter": "python",
      "pygments_lexer": "ipython3",
      "version": "3.13.5"
    }
  },
  "nbformat": 4,
  "nbformat_minor": 0
}
