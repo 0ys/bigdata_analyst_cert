{
  "nbformat": 4,
  "nbformat_minor": 0,
  "metadata": {
    "colab": {
      "provenance": [],
      "toc_visible": true
    },
    "kernelspec": {
      "name": "python3",
      "display_name": "Python 3"
    },
    "language_info": {
      "name": "python"
    }
  },
  "cells": [
    {
      "cell_type": "markdown",
      "source": [
        "[구글 코랩(Colab)에서 실행하기](https://colab.research.google.com/github/lovedlim/bigdata_analyst_cert/blob/main/part1/ch1/ch1_python.ipynb)"
      ],
      "metadata": {
        "id": "Q6Hu55_oruvQ"
      }
    },
    {
      "cell_type": "markdown",
      "metadata": {
        "id": "k2ulWwXXlIl8"
      },
      "source": [
        "# 파이썬(python)"
      ]
    },
    {
      "cell_type": "markdown",
      "metadata": {
        "id": "ZZo_KUGc2vcb"
      },
      "source": [
        "## Section1.출력"
      ]
    },
    {
      "cell_type": "code",
      "source": [
        "print(\"안녕! 시나공\")"
      ],
      "metadata": {
        "colab": {
          "base_uri": "https://localhost:8080/"
        },
        "id": "YYHIQ6KLExdm",
        "outputId": "00707fab-7b88-4f03-a610-eb6de85c81ab"
      },
      "execution_count": 1,
      "outputs": [
        {
          "output_type": "stream",
          "name": "stdout",
          "text": [
            "안녕! 시나공\n"
          ]
        }
      ]
    },
    {
      "cell_type": "code",
      "metadata": {
        "id": "LaqOXQChbEHz",
        "colab": {
          "base_uri": "https://localhost:8080/"
        },
        "outputId": "676abb5b-3108-467e-ff47-2633c070b2b3"
      },
      "source": [
        "print(2024)"
      ],
      "execution_count": 2,
      "outputs": [
        {
          "output_type": "stream",
          "name": "stdout",
          "text": [
            "2024\n"
          ]
        }
      ]
    },
    {
      "cell_type": "code",
      "source": [
        "\"길벗은\"\n",
        "\"여러분의 합격을 응원합니다.\""
      ],
      "metadata": {
        "colab": {
          "base_uri": "https://localhost:8080/",
          "height": 35
        },
        "id": "6eeY6fqj6ONs",
        "outputId": "2fa5e2d9-d4db-4f8f-f5b4-8dd3e537a4aa"
      },
      "execution_count": 3,
      "outputs": [
        {
          "output_type": "execute_result",
          "data": {
            "text/plain": [
              "'여러분의 합격을 응원합니다.'"
            ],
            "application/vnd.google.colaboratory.intrinsic+json": {
              "type": "string"
            }
          },
          "metadata": {},
          "execution_count": 3
        }
      ]
    },
    {
      "cell_type": "markdown",
      "metadata": {
        "id": "Q7nGnhavkTta"
      },
      "source": [
        "## Section2. 주석"
      ]
    },
    {
      "cell_type": "code",
      "metadata": {
        "id": "azuDs-2YkTGj",
        "colab": {
          "base_uri": "https://localhost:8080/"
        },
        "outputId": "2afea9a3-99e6-4021-c455-2f25d0110c2b"
      },
      "source": [
        "# 주석\n",
        "print(\"파이썬\")\n",
        "# print(\"파이썬은 쉽다\")"
      ],
      "execution_count": 4,
      "outputs": [
        {
          "output_type": "stream",
          "name": "stdout",
          "text": [
            "파이썬\n"
          ]
        }
      ]
    },
    {
      "cell_type": "code",
      "source": [
        "# print(\"이 책의 저자 김태헌입니다.\")\n",
        "print(\"여러분을 합격의 가장 빠른 길로 안내할게요!\")\n",
        "# print(\"믿고 따라와주세요!\")"
      ],
      "metadata": {
        "id": "GdgqR9wS_2n4",
        "colab": {
          "base_uri": "https://localhost:8080/"
        },
        "outputId": "dfeeb5bb-60bb-435d-f98f-0f6638f06eb0"
      },
      "execution_count": 5,
      "outputs": [
        {
          "output_type": "stream",
          "name": "stdout",
          "text": [
            "여러분을 합격의 가장 빠른 길로 안내할게요!\n"
          ]
        }
      ]
    },
    {
      "cell_type": "markdown",
      "metadata": {
        "id": "rPXrOqw23eYk"
      },
      "source": [
        "## Section3. 산술연산자"
      ]
    },
    {
      "cell_type": "code",
      "metadata": {
        "id": "kL1pwn9g3gSM",
        "colab": {
          "base_uri": "https://localhost:8080/"
        },
        "outputId": "ee4b0781-3398-40e5-8417-73767a02edd4"
      },
      "source": [
        "# 산술연산\n",
        "print(1+2, 4-1, 2*3, 16/3)"
      ],
      "execution_count": 6,
      "outputs": [
        {
          "output_type": "stream",
          "name": "stdout",
          "text": [
            "3 3 6 5.333333333333333\n"
          ]
        }
      ]
    },
    {
      "cell_type": "code",
      "source": [
        "# 나눗셈\n",
        "15/3"
      ],
      "metadata": {
        "colab": {
          "base_uri": "https://localhost:8080/"
        },
        "id": "ZokK5R2PAL6a",
        "outputId": "325ee44f-f003-4bbb-9ead-131381e23d21"
      },
      "execution_count": 7,
      "outputs": [
        {
          "output_type": "execute_result",
          "data": {
            "text/plain": [
              "5.0"
            ]
          },
          "metadata": {},
          "execution_count": 7
        }
      ]
    },
    {
      "cell_type": "code",
      "metadata": {
        "id": "aEqCTZCfs7zB",
        "colab": {
          "base_uri": "https://localhost:8080/"
        },
        "outputId": "6959c454-796a-4963-9373-52fddf740179"
      },
      "source": [
        "# 몫\n",
        "16//3"
      ],
      "execution_count": 8,
      "outputs": [
        {
          "output_type": "execute_result",
          "data": {
            "text/plain": [
              "5"
            ]
          },
          "metadata": {},
          "execution_count": 8
        }
      ]
    },
    {
      "cell_type": "code",
      "metadata": {
        "id": "tLhgikIPs_g5",
        "colab": {
          "base_uri": "https://localhost:8080/"
        },
        "outputId": "dc7a535a-6230-4d1a-e4be-3fc6b25692dd"
      },
      "source": [
        "# 나머지\n",
        "16%3"
      ],
      "execution_count": 9,
      "outputs": [
        {
          "output_type": "execute_result",
          "data": {
            "text/plain": [
              "1"
            ]
          },
          "metadata": {},
          "execution_count": 9
        }
      ]
    },
    {
      "cell_type": "code",
      "metadata": {
        "id": "ORtvddjetFxD",
        "colab": {
          "base_uri": "https://localhost:8080/"
        },
        "outputId": "194364a9-d78b-476b-90b6-ffc63637e2ca"
      },
      "source": [
        "# 거듭제곱\n",
        "4**2"
      ],
      "execution_count": 10,
      "outputs": [
        {
          "output_type": "execute_result",
          "data": {
            "text/plain": [
              "16"
            ]
          },
          "metadata": {},
          "execution_count": 10
        }
      ]
    },
    {
      "cell_type": "code",
      "source": [
        "# 제곱근\n",
        "16**0.5"
      ],
      "metadata": {
        "colab": {
          "base_uri": "https://localhost:8080/"
        },
        "id": "BdyRt9bVPvsR",
        "outputId": "993e729b-5372-4941-f2f2-064cd45c9c13"
      },
      "execution_count": 11,
      "outputs": [
        {
          "output_type": "execute_result",
          "data": {
            "text/plain": [
              "4.0"
            ]
          },
          "metadata": {},
          "execution_count": 11
        }
      ]
    },
    {
      "cell_type": "code",
      "source": [
        "# 연산자 우선순위\n",
        "4+3*2"
      ],
      "metadata": {
        "colab": {
          "base_uri": "https://localhost:8080/"
        },
        "id": "Hc9FBYmfI7rP",
        "outputId": "6f6a62ed-e5cb-4580-cfc5-7a8b15498e83"
      },
      "execution_count": 12,
      "outputs": [
        {
          "output_type": "execute_result",
          "data": {
            "text/plain": [
              "10"
            ]
          },
          "metadata": {},
          "execution_count": 12
        }
      ]
    },
    {
      "cell_type": "code",
      "source": [
        "# 괄호\n",
        "(4+3)*2"
      ],
      "metadata": {
        "colab": {
          "base_uri": "https://localhost:8080/"
        },
        "id": "dPUMn-prJEAa",
        "outputId": "900fef7f-1a51-45d0-8ce6-82de9c134f4d"
      },
      "execution_count": 13,
      "outputs": [
        {
          "output_type": "execute_result",
          "data": {
            "text/plain": [
              "14"
            ]
          },
          "metadata": {},
          "execution_count": 13
        }
      ]
    },
    {
      "cell_type": "code",
      "metadata": {
        "id": "QSZeZ8D-3gZQ",
        "colab": {
          "base_uri": "https://localhost:8080/",
          "height": 35
        },
        "outputId": "54c32f8b-7d32-48f0-df97-45600fe76895"
      },
      "source": [
        "# 문자열 더하기(합친다)\n",
        "\"py\" + \"thon\""
      ],
      "execution_count": 14,
      "outputs": [
        {
          "output_type": "execute_result",
          "data": {
            "text/plain": [
              "'python'"
            ],
            "application/vnd.google.colaboratory.intrinsic+json": {
              "type": "string"
            }
          },
          "metadata": {},
          "execution_count": 14
        }
      ]
    },
    {
      "cell_type": "code",
      "source": [
        "#\"py\" + 3"
      ],
      "metadata": {
        "id": "KleDQSvtUeJ-"
      },
      "execution_count": 15,
      "outputs": []
    },
    {
      "cell_type": "code",
      "source": [
        "\"py\" + \"3\""
      ],
      "metadata": {
        "colab": {
          "base_uri": "https://localhost:8080/",
          "height": 35
        },
        "id": "e-lx3leX8nCj",
        "outputId": "2f4930ea-695f-4f47-e22f-2dcd5a55b9ee"
      },
      "execution_count": 16,
      "outputs": [
        {
          "output_type": "execute_result",
          "data": {
            "text/plain": [
              "'py3'"
            ],
            "application/vnd.google.colaboratory.intrinsic+json": {
              "type": "string"
            }
          },
          "metadata": {},
          "execution_count": 16
        }
      ]
    },
    {
      "cell_type": "markdown",
      "metadata": {
        "id": "MjEH32hddNoh"
      },
      "source": [
        "## Section4. 자료형(데이터 타입)"
      ]
    },
    {
      "cell_type": "code",
      "metadata": {
        "id": "Xx1sQev5dOuO",
        "colab": {
          "base_uri": "https://localhost:8080/"
        },
        "outputId": "23734c06-9a19-4ce2-fc0e-d7250a7169e1"
      },
      "source": [
        "# 정수형\n",
        "type(1)"
      ],
      "execution_count": 17,
      "outputs": [
        {
          "output_type": "execute_result",
          "data": {
            "text/plain": [
              "int"
            ]
          },
          "metadata": {},
          "execution_count": 17
        }
      ]
    },
    {
      "cell_type": "code",
      "metadata": {
        "id": "SBbgexcCdVUH",
        "colab": {
          "base_uri": "https://localhost:8080/"
        },
        "outputId": "b652562d-557a-4599-ea2e-0e9ade428fbc"
      },
      "source": [
        "# 실수형\n",
        "type(1.1)"
      ],
      "execution_count": 18,
      "outputs": [
        {
          "output_type": "execute_result",
          "data": {
            "text/plain": [
              "float"
            ]
          },
          "metadata": {},
          "execution_count": 18
        }
      ]
    },
    {
      "cell_type": "code",
      "metadata": {
        "id": "KdElWU6bdWj6",
        "colab": {
          "base_uri": "https://localhost:8080/"
        },
        "outputId": "85a1bf3f-1a56-4d5d-e3f4-75cffd29f1d9"
      },
      "source": [
        "# 문자열\n",
        "type('hello')"
      ],
      "execution_count": 19,
      "outputs": [
        {
          "output_type": "execute_result",
          "data": {
            "text/plain": [
              "str"
            ]
          },
          "metadata": {},
          "execution_count": 19
        }
      ]
    },
    {
      "cell_type": "code",
      "source": [
        "type('3')"
      ],
      "metadata": {
        "id": "mEWXE934KgZz",
        "outputId": "68f77a15-b901-48af-c254-c5682d4da02f",
        "colab": {
          "base_uri": "https://localhost:8080/"
        }
      },
      "execution_count": 20,
      "outputs": [
        {
          "output_type": "execute_result",
          "data": {
            "text/plain": [
              "str"
            ]
          },
          "metadata": {},
          "execution_count": 20
        }
      ]
    },
    {
      "cell_type": "code",
      "source": [
        "type(3), type(3.0), type('3')"
      ],
      "metadata": {
        "colab": {
          "base_uri": "https://localhost:8080/"
        },
        "id": "k2RKhO8f9U7Y",
        "outputId": "2f50ba15-18db-458a-d527-7f4cd2605523"
      },
      "execution_count": 21,
      "outputs": [
        {
          "output_type": "execute_result",
          "data": {
            "text/plain": [
              "(int, float, str)"
            ]
          },
          "metadata": {},
          "execution_count": 21
        }
      ]
    },
    {
      "cell_type": "code",
      "metadata": {
        "id": "aM8UgBYSmeEg",
        "colab": {
          "base_uri": "https://localhost:8080/"
        },
        "outputId": "7b676f4b-d721-4705-94bf-6a37bd84fef2"
      },
      "source": [
        "# 참/거짓\n",
        "type(True), type(False)"
      ],
      "execution_count": 22,
      "outputs": [
        {
          "output_type": "execute_result",
          "data": {
            "text/plain": [
              "(bool, bool)"
            ]
          },
          "metadata": {},
          "execution_count": 22
        }
      ]
    },
    {
      "cell_type": "code",
      "source": [
        "True + True + True + False + False"
      ],
      "metadata": {
        "colab": {
          "base_uri": "https://localhost:8080/"
        },
        "id": "nmf76FVtMIyA",
        "outputId": "3adc66cb-858a-4781-d9ef-ac17f250593d"
      },
      "execution_count": 23,
      "outputs": [
        {
          "output_type": "execute_result",
          "data": {
            "text/plain": [
              "3"
            ]
          },
          "metadata": {},
          "execution_count": 23
        }
      ]
    },
    {
      "cell_type": "markdown",
      "metadata": {
        "id": "F6_6KAM-31QN"
      },
      "source": [
        "## Section5. 변수"
      ]
    },
    {
      "cell_type": "code",
      "source": [
        "#[tip]예약어\n",
        "import keyword\n",
        "keyword.kwlist"
      ],
      "metadata": {
        "colab": {
          "base_uri": "https://localhost:8080/"
        },
        "id": "XRCBVM0pPJLi",
        "outputId": "4cfefd22-a782-4aa1-cf11-05cc7001e74c"
      },
      "execution_count": 24,
      "outputs": [
        {
          "output_type": "execute_result",
          "data": {
            "text/plain": [
              "['False',\n",
              " 'None',\n",
              " 'True',\n",
              " 'and',\n",
              " 'as',\n",
              " 'assert',\n",
              " 'async',\n",
              " 'await',\n",
              " 'break',\n",
              " 'class',\n",
              " 'continue',\n",
              " 'def',\n",
              " 'del',\n",
              " 'elif',\n",
              " 'else',\n",
              " 'except',\n",
              " 'finally',\n",
              " 'for',\n",
              " 'from',\n",
              " 'global',\n",
              " 'if',\n",
              " 'import',\n",
              " 'in',\n",
              " 'is',\n",
              " 'lambda',\n",
              " 'nonlocal',\n",
              " 'not',\n",
              " 'or',\n",
              " 'pass',\n",
              " 'raise',\n",
              " 'return',\n",
              " 'try',\n",
              " 'while',\n",
              " 'with',\n",
              " 'yield']"
            ]
          },
          "metadata": {},
          "execution_count": 24
        }
      ]
    },
    {
      "cell_type": "code",
      "metadata": {
        "id": "6ouKLr5z334V"
      },
      "source": [
        "americano = 4500"
      ],
      "execution_count": 25,
      "outputs": []
    },
    {
      "cell_type": "code",
      "metadata": {
        "id": "hnIbRIsv339m",
        "colab": {
          "base_uri": "https://localhost:8080/"
        },
        "outputId": "5f145992-9221-482e-9856-57595610098e"
      },
      "source": [
        "print(americano)    #변수 출력\n",
        "print('americano')  #문자 출력"
      ],
      "execution_count": 26,
      "outputs": [
        {
          "output_type": "stream",
          "name": "stdout",
          "text": [
            "4500\n",
            "americano\n"
          ]
        }
      ]
    },
    {
      "cell_type": "code",
      "metadata": {
        "id": "lqmZl6Bd34At",
        "colab": {
          "base_uri": "https://localhost:8080/"
        },
        "outputId": "7106dee6-4911-4dc9-a8a8-65da706dffba"
      },
      "source": [
        "# 변수에 값 대입\n",
        "latte = 5000\n",
        "print(americano + latte)"
      ],
      "execution_count": 27,
      "outputs": [
        {
          "output_type": "stream",
          "name": "stdout",
          "text": [
            "9500\n"
          ]
        }
      ]
    },
    {
      "cell_type": "code",
      "metadata": {
        "id": "lFcDCOQT5P1A",
        "colab": {
          "base_uri": "https://localhost:8080/"
        },
        "outputId": "19234b97-5562-45f4-cfd8-fd0b03123e49"
      },
      "source": [
        "result = americano + latte\n",
        "print(result)"
      ],
      "execution_count": 28,
      "outputs": [
        {
          "output_type": "stream",
          "name": "stdout",
          "text": [
            "9500\n"
          ]
        }
      ]
    },
    {
      "cell_type": "code",
      "source": [
        "americano = 4500\n",
        "americano = americano - 1000\n",
        "print(americano)"
      ],
      "metadata": {
        "colab": {
          "base_uri": "https://localhost:8080/"
        },
        "id": "q0FcJKQFNiZU",
        "outputId": "bd89e162-ab70-411a-861b-fd88243dff5b"
      },
      "execution_count": 29,
      "outputs": [
        {
          "output_type": "stream",
          "name": "stdout",
          "text": [
            "3500\n"
          ]
        }
      ]
    },
    {
      "cell_type": "code",
      "source": [
        "a, b, c = 10, 20, 30\n",
        "print(a+b+c)"
      ],
      "metadata": {
        "colab": {
          "base_uri": "https://localhost:8080/"
        },
        "id": "yzeY0EjHecwW",
        "outputId": "569546fc-fd12-4506-f821-0b0a6ee5cc71"
      },
      "execution_count": 30,
      "outputs": [
        {
          "output_type": "stream",
          "name": "stdout",
          "text": [
            "60\n"
          ]
        }
      ]
    },
    {
      "cell_type": "markdown",
      "metadata": {
        "id": "PW5uDK2z4uSS"
      },
      "source": [
        "##  Section6. 자료형 변환"
      ]
    },
    {
      "cell_type": "code",
      "source": [
        "a = 2\n",
        "b = 0.17\n",
        "a = a + b\n",
        "type(a)"
      ],
      "metadata": {
        "colab": {
          "base_uri": "https://localhost:8080/"
        },
        "id": "Bhv2I5jKMAuA",
        "outputId": "1b9a318e-83c7-435b-84bc-c8e2ad45103e"
      },
      "execution_count": 31,
      "outputs": [
        {
          "output_type": "execute_result",
          "data": {
            "text/plain": [
              "float"
            ]
          },
          "metadata": {},
          "execution_count": 31
        }
      ]
    },
    {
      "cell_type": "code",
      "metadata": {
        "id": "n17X9ikmqDn7",
        "colab": {
          "base_uri": "https://localhost:8080/"
        },
        "outputId": "9ed9a0cc-15b4-4593-e9e5-6532997f23dd"
      },
      "source": [
        "box = 2.17\n",
        "print(\"문자열:\", str(box))\n",
        "print(\"정수형:\", int(box))"
      ],
      "execution_count": 32,
      "outputs": [
        {
          "output_type": "stream",
          "name": "stdout",
          "text": [
            "문자열: 2.17\n",
            "정수형: 2\n"
          ]
        }
      ]
    },
    {
      "cell_type": "code",
      "metadata": {
        "id": "egzIOnas4wxd",
        "colab": {
          "base_uri": "https://localhost:8080/"
        },
        "outputId": "559dbc13-0409-4dd7-df86-b1afba7f2e90"
      },
      "source": [
        "# str(문자)\n",
        "box = \"3.14\"\n",
        "box = float(box) + 10\n",
        "box"
      ],
      "execution_count": 33,
      "outputs": [
        {
          "output_type": "execute_result",
          "data": {
            "text/plain": [
              "13.14"
            ]
          },
          "metadata": {},
          "execution_count": 33
        }
      ]
    },
    {
      "cell_type": "markdown",
      "metadata": {
        "id": "_zM17gMJ5t5p"
      },
      "source": [
        "## Section7. 비교연산자"
      ]
    },
    {
      "cell_type": "code",
      "metadata": {
        "id": "fE2S36lStvaa",
        "colab": {
          "base_uri": "https://localhost:8080/"
        },
        "outputId": "837f55de-6eca-49a4-dd3d-5375b3689096"
      },
      "source": [
        "# 크다(참)\n",
        "10 > 5"
      ],
      "execution_count": 34,
      "outputs": [
        {
          "output_type": "execute_result",
          "data": {
            "text/plain": [
              "True"
            ]
          },
          "metadata": {},
          "execution_count": 34
        }
      ]
    },
    {
      "cell_type": "code",
      "metadata": {
        "id": "tD-UPP7D5GYL",
        "colab": {
          "base_uri": "https://localhost:8080/"
        },
        "outputId": "17dae412-f0d2-4f11-ac92-c4e9c2658520"
      },
      "source": [
        "# 작다\n",
        "10 < 5"
      ],
      "execution_count": 35,
      "outputs": [
        {
          "output_type": "execute_result",
          "data": {
            "text/plain": [
              "False"
            ]
          },
          "metadata": {},
          "execution_count": 35
        }
      ]
    },
    {
      "cell_type": "code",
      "metadata": {
        "id": "rfrS5wNA5jig",
        "colab": {
          "base_uri": "https://localhost:8080/"
        },
        "outputId": "674e2260-349d-4d71-e340-309e739ad321"
      },
      "source": [
        "# 같거나 크다\n",
        "10 >= 5"
      ],
      "execution_count": 36,
      "outputs": [
        {
          "output_type": "execute_result",
          "data": {
            "text/plain": [
              "True"
            ]
          },
          "metadata": {},
          "execution_count": 36
        }
      ]
    },
    {
      "cell_type": "code",
      "metadata": {
        "id": "lIUab7Mq5Ghf",
        "colab": {
          "base_uri": "https://localhost:8080/"
        },
        "outputId": "5fbff974-ad2b-42ec-bfad-5ec2670798e8"
      },
      "source": [
        "# 같다\n",
        "10 == 10"
      ],
      "execution_count": 37,
      "outputs": [
        {
          "output_type": "execute_result",
          "data": {
            "text/plain": [
              "True"
            ]
          },
          "metadata": {},
          "execution_count": 37
        }
      ]
    },
    {
      "cell_type": "code",
      "metadata": {
        "id": "_6kQowYCguce",
        "colab": {
          "base_uri": "https://localhost:8080/"
        },
        "outputId": "f1a1ce18-bf0c-46bb-c6d7-7eb01f2f06d8"
      },
      "source": [
        "# 같지 않다\n",
        "10 != 5"
      ],
      "execution_count": 38,
      "outputs": [
        {
          "output_type": "execute_result",
          "data": {
            "text/plain": [
              "True"
            ]
          },
          "metadata": {},
          "execution_count": 38
        }
      ]
    },
    {
      "cell_type": "code",
      "metadata": {
        "id": "Ih3z-dslAF1Z",
        "colab": {
          "base_uri": "https://localhost:8080/"
        },
        "outputId": "6f189c9d-f662-4ea0-d241-380324713c2a"
      },
      "source": [
        "# 같다\n",
        "a = 10\n",
        "b = 10\n",
        "a == b"
      ],
      "execution_count": 39,
      "outputs": [
        {
          "output_type": "execute_result",
          "data": {
            "text/plain": [
              "True"
            ]
          },
          "metadata": {},
          "execution_count": 39
        }
      ]
    },
    {
      "cell_type": "code",
      "metadata": {
        "id": "jUrfhIkmAF-K",
        "colab": {
          "base_uri": "https://localhost:8080/"
        },
        "outputId": "e6f60e0d-9039-47e1-c4c1-92ae793bd6a1"
      },
      "source": [
        "# 같거나 크다\n",
        "a >= b"
      ],
      "execution_count": 40,
      "outputs": [
        {
          "output_type": "execute_result",
          "data": {
            "text/plain": [
              "True"
            ]
          },
          "metadata": {},
          "execution_count": 40
        }
      ]
    },
    {
      "cell_type": "code",
      "metadata": {
        "id": "9g11nbHVAGGx",
        "colab": {
          "base_uri": "https://localhost:8080/"
        },
        "outputId": "9506bb3c-c6a1-406c-e93e-8d80d76a6360"
      },
      "source": [
        "# False\n",
        "a > b"
      ],
      "execution_count": 41,
      "outputs": [
        {
          "output_type": "execute_result",
          "data": {
            "text/plain": [
              "False"
            ]
          },
          "metadata": {},
          "execution_count": 41
        }
      ]
    },
    {
      "cell_type": "code",
      "metadata": {
        "id": "3vb1GxkZUJDk",
        "colab": {
          "base_uri": "https://localhost:8080/"
        },
        "outputId": "4a99cf39-4507-4a6d-f453-6778d43d3764"
      },
      "source": [
        "c = \"빅데이터\"\n",
        "d = \"빅데이터\"\n",
        "e = \"데이터\"\n",
        "\n",
        "print(c == d)\n",
        "print(d == e)"
      ],
      "execution_count": 42,
      "outputs": [
        {
          "output_type": "stream",
          "name": "stdout",
          "text": [
            "True\n",
            "False\n"
          ]
        }
      ]
    },
    {
      "cell_type": "markdown",
      "metadata": {
        "id": "pz4G7EFCT3ow"
      },
      "source": [
        "## Section8. 조건문"
      ]
    },
    {
      "cell_type": "code",
      "metadata": {
        "id": "MeetgWilCY_K",
        "colab": {
          "base_uri": "https://localhost:8080/"
        },
        "outputId": "7663b18e-87e4-47b1-bf6a-4435cbc200a4"
      },
      "source": [
        "if True:\n",
        "    print(\"실행\")"
      ],
      "execution_count": 43,
      "outputs": [
        {
          "output_type": "stream",
          "name": "stdout",
          "text": [
            "실행\n"
          ]
        }
      ]
    },
    {
      "cell_type": "code",
      "metadata": {
        "id": "G2APl1mxDlJ_"
      },
      "source": [
        "if False:\n",
        "    print(\"무시\")"
      ],
      "execution_count": 44,
      "outputs": []
    },
    {
      "cell_type": "code",
      "metadata": {
        "id": "kIu_ng9Kr_Z4",
        "colab": {
          "base_uri": "https://localhost:8080/"
        },
        "outputId": "9a4c9ef0-02f0-4145-dac1-af0534d0aec9"
      },
      "source": [
        "score = 10\n",
        "if score >= 10:\n",
        "    print(\"10보다 크거나 같다\")"
      ],
      "execution_count": 45,
      "outputs": [
        {
          "output_type": "stream",
          "name": "stdout",
          "text": [
            "10보다 크거나 같다\n"
          ]
        }
      ]
    },
    {
      "cell_type": "code",
      "source": [
        "if score > 9:\n",
        "    print(\"9 보다 크다\")"
      ],
      "metadata": {
        "colab": {
          "base_uri": "https://localhost:8080/"
        },
        "id": "00P6kmLYHv5H",
        "outputId": "4b693ad6-fe0c-45ad-8118-1aeb8a7c8e94"
      },
      "execution_count": 46,
      "outputs": [
        {
          "output_type": "stream",
          "name": "stdout",
          "text": [
            "9 보다 크다\n"
          ]
        }
      ]
    },
    {
      "cell_type": "code",
      "source": [
        "if score <= 10:\n",
        "    print(\"10 보다 작거나 같다\")"
      ],
      "metadata": {
        "colab": {
          "base_uri": "https://localhost:8080/"
        },
        "id": "Hp8h6lOYHv8f",
        "outputId": "b1fd3a8b-fff8-4cff-ac6e-215993a5b514"
      },
      "execution_count": 47,
      "outputs": [
        {
          "output_type": "stream",
          "name": "stdout",
          "text": [
            "10 보다 작거나 같다\n"
          ]
        }
      ]
    },
    {
      "cell_type": "code",
      "source": [
        "if score < 11:\n",
        "    print(\"11 보다 작다\")"
      ],
      "metadata": {
        "colab": {
          "base_uri": "https://localhost:8080/"
        },
        "id": "BB7XF4JvHv_q",
        "outputId": "77e54aee-1bf4-45b1-bdc3-5c54f83dd303"
      },
      "execution_count": 48,
      "outputs": [
        {
          "output_type": "stream",
          "name": "stdout",
          "text": [
            "11 보다 작다\n"
          ]
        }
      ]
    },
    {
      "cell_type": "code",
      "source": [
        "if score == 10:\n",
        "    print(\"score는 10이다\")"
      ],
      "metadata": {
        "colab": {
          "base_uri": "https://localhost:8080/"
        },
        "id": "Hy4vnhbBIxEA",
        "outputId": "87ae9aef-1329-4311-a178-0ebf8093eed4"
      },
      "execution_count": 49,
      "outputs": [
        {
          "output_type": "stream",
          "name": "stdout",
          "text": [
            "score는 10이다\n"
          ]
        }
      ]
    },
    {
      "cell_type": "code",
      "source": [
        "if score != 11:\n",
        "    print(\"score는 11과 같지 않다\")"
      ],
      "metadata": {
        "colab": {
          "base_uri": "https://localhost:8080/"
        },
        "id": "q5k2-aiXHwCQ",
        "outputId": "0c50b25a-ca21-4f38-dfa2-aeceeab4b3f8"
      },
      "execution_count": 50,
      "outputs": [
        {
          "output_type": "stream",
          "name": "stdout",
          "text": [
            "score는 11과 같지 않다\n"
          ]
        }
      ]
    },
    {
      "cell_type": "code",
      "source": [
        "print(\"True and False:\", True and False)\n",
        "print(\"True and True:\", True and True)\n",
        "print(\"True or False:\", True or False)\n",
        "print(\"True or True:\", True or True)"
      ],
      "metadata": {
        "colab": {
          "base_uri": "https://localhost:8080/"
        },
        "id": "VZnoR4YoHxuY",
        "outputId": "d7a1fbbf-60bd-429a-c451-9cb41d9ce327"
      },
      "execution_count": 51,
      "outputs": [
        {
          "output_type": "stream",
          "name": "stdout",
          "text": [
            "True and False: False\n",
            "True and True: True\n",
            "True or False: True\n",
            "True or True: True\n"
          ]
        }
      ]
    },
    {
      "cell_type": "code",
      "metadata": {
        "id": "ivMOAhUe5uKF",
        "colab": {
          "base_uri": "https://localhost:8080/"
        },
        "outputId": "dd88f08d-e9c9-4616-d0df-b2740beefb87"
      },
      "source": [
        "if score < 10 and score >= 5:\n",
        "    print(\"score는 5 이상, 10 미만입니다.\")\n",
        "else:\n",
        "    print(\"score는 5 미만, 10 이상입니다.\")"
      ],
      "execution_count": 52,
      "outputs": [
        {
          "output_type": "stream",
          "name": "stdout",
          "text": [
            "score는 5 미만, 10 이상입니다.\n"
          ]
        }
      ]
    },
    {
      "cell_type": "code",
      "metadata": {
        "id": "WtZ_KIo5LHs1",
        "colab": {
          "base_uri": "https://localhost:8080/"
        },
        "outputId": "5f66916c-c689-4e7a-9feb-7a87fb0d1bd9"
      },
      "source": [
        "score = 7\n",
        "\n",
        "if score >= 10:\n",
        "    print(\"A\")\n",
        "elif score < 10 and score >= 5:\n",
        "    print(\"B\")\n",
        "else:\n",
        "    print(\"C\")"
      ],
      "execution_count": 53,
      "outputs": [
        {
          "output_type": "stream",
          "name": "stdout",
          "text": [
            "B\n"
          ]
        }
      ]
    },
    {
      "cell_type": "code",
      "metadata": {
        "id": "XHZWWFTT5uNO",
        "colab": {
          "base_uri": "https://localhost:8080/"
        },
        "outputId": "c458610b-24fd-4fec-eb49-66f40d6bd86c"
      },
      "source": [
        "score = 2\n",
        "\n",
        "if score >= 10:\n",
        "    print(\"score는 10 이상입니다.\")\n",
        "elif score < 10 and score >= 5:\n",
        "    print(\"score는 5 이상 10 미만입니다.\")\n",
        "elif score < 4 and score >= 3:\n",
        "    print(\"score는 3 이상 4 미만입니다.\")\n",
        "else:\n",
        "    print(\"score는 2 이하입니다.\")"
      ],
      "execution_count": 54,
      "outputs": [
        {
          "output_type": "stream",
          "name": "stdout",
          "text": [
            "score는 2 이하입니다.\n"
          ]
        }
      ]
    },
    {
      "cell_type": "markdown",
      "metadata": {
        "id": "sn96Y4ue8eIh"
      },
      "source": [
        "## Section9. 리스트"
      ]
    },
    {
      "cell_type": "code",
      "metadata": {
        "id": "VZhB5Wyj5uQ9",
        "colab": {
          "base_uri": "https://localhost:8080/"
        },
        "outputId": "fa760870-c8a4-4cd9-9336-18d2fbcf7864"
      },
      "source": [
        "# 리스트 변수\n",
        "listbox = [4,2,10,6,8]\n",
        "print(listbox)"
      ],
      "execution_count": 55,
      "outputs": [
        {
          "output_type": "stream",
          "name": "stdout",
          "text": [
            "[4, 2, 10, 6, 8]\n"
          ]
        }
      ]
    },
    {
      "cell_type": "code",
      "source": [
        "print(listbox[0])"
      ],
      "metadata": {
        "colab": {
          "base_uri": "https://localhost:8080/"
        },
        "id": "VnKGyIDZYUiI",
        "outputId": "a08c0ca6-fa8b-44a1-de2f-d4c1752eedba"
      },
      "execution_count": 56,
      "outputs": [
        {
          "output_type": "stream",
          "name": "stdout",
          "text": [
            "4\n"
          ]
        }
      ]
    },
    {
      "cell_type": "code",
      "metadata": {
        "id": "yv3-b_gwOwjW",
        "colab": {
          "base_uri": "https://localhost:8080/"
        },
        "outputId": "252d848e-f77f-4f96-c925-08cabc915739"
      },
      "source": [
        "# type\n",
        "print(type(listbox))"
      ],
      "execution_count": 57,
      "outputs": [
        {
          "output_type": "stream",
          "name": "stdout",
          "text": [
            "<class 'list'>\n"
          ]
        }
      ]
    },
    {
      "cell_type": "code",
      "metadata": {
        "id": "C6aj7SJl5uTh",
        "colab": {
          "base_uri": "https://localhost:8080/"
        },
        "outputId": "f82dbd0f-1c80-488d-ce77-0ff5bf410519"
      },
      "source": [
        "# 문자열\n",
        "listbox = ['길벗','시나공','빅데이터']\n",
        "print(listbox)"
      ],
      "execution_count": 58,
      "outputs": [
        {
          "output_type": "stream",
          "name": "stdout",
          "text": [
            "['길벗', '시나공', '빅데이터']\n"
          ]
        }
      ]
    },
    {
      "cell_type": "code",
      "metadata": {
        "id": "ZZ3IhUFf-4wv",
        "colab": {
          "base_uri": "https://localhost:8080/"
        },
        "outputId": "821f678a-ec13-40b6-832e-83931af1e22e"
      },
      "source": [
        "# 추가\n",
        "listbox.append('분석')\n",
        "print(listbox)"
      ],
      "execution_count": 59,
      "outputs": [
        {
          "output_type": "stream",
          "name": "stdout",
          "text": [
            "['길벗', '시나공', '빅데이터', '분석']\n"
          ]
        }
      ]
    },
    {
      "cell_type": "code",
      "metadata": {
        "id": "ZculDc6Td-_0",
        "colab": {
          "base_uri": "https://localhost:8080/"
        },
        "outputId": "5b502ad4-af88-4e3e-de89-d7e6cfdf978e"
      },
      "source": [
        "listbox = [4,2,10,6,8]\n",
        "listbox.sort()\n",
        "listbox"
      ],
      "execution_count": 60,
      "outputs": [
        {
          "output_type": "execute_result",
          "data": {
            "text/plain": [
              "[2, 4, 6, 8, 10]"
            ]
          },
          "metadata": {},
          "execution_count": 60
        }
      ]
    },
    {
      "cell_type": "code",
      "source": [
        "listbox = [4,2,10,6,8]\n",
        "listbox_sorted = sorted(listbox)\n",
        "listbox_sorted"
      ],
      "metadata": {
        "colab": {
          "base_uri": "https://localhost:8080/"
        },
        "id": "23IokQDdPPaf",
        "outputId": "8a61cf7d-45ab-4cdf-8672-4173d53d70b4"
      },
      "execution_count": 61,
      "outputs": [
        {
          "output_type": "execute_result",
          "data": {
            "text/plain": [
              "[2, 4, 6, 8, 10]"
            ]
          },
          "metadata": {},
          "execution_count": 61
        }
      ]
    },
    {
      "cell_type": "code",
      "source": [
        "sorted(listbox, reverse = True)"
      ],
      "metadata": {
        "colab": {
          "base_uri": "https://localhost:8080/"
        },
        "id": "9tUz2x1hPtQ3",
        "outputId": "0cfa6d60-ca2f-4db4-ec85-28a7d251eae7"
      },
      "execution_count": 62,
      "outputs": [
        {
          "output_type": "execute_result",
          "data": {
            "text/plain": [
              "[10, 8, 6, 4, 2]"
            ]
          },
          "metadata": {},
          "execution_count": 62
        }
      ]
    },
    {
      "cell_type": "code",
      "source": [
        "listbox = ['길벗','시나공','빅데이터']\n",
        "listbox_sorted = sorted(listbox)\n",
        "listbox_sorted"
      ],
      "metadata": {
        "colab": {
          "base_uri": "https://localhost:8080/"
        },
        "id": "Z2B-CY9UTE4H",
        "outputId": "c365e726-5471-4ba6-b64e-c635acedeff2"
      },
      "execution_count": 63,
      "outputs": [
        {
          "output_type": "execute_result",
          "data": {
            "text/plain": [
              "['길벗', '빅데이터', '시나공']"
            ]
          },
          "metadata": {},
          "execution_count": 63
        }
      ]
    },
    {
      "cell_type": "markdown",
      "metadata": {
        "id": "sMaNulq9AeuE"
      },
      "source": [
        "## Section10. 딕셔너리(Dictionary)"
      ]
    },
    {
      "cell_type": "code",
      "metadata": {
        "id": "lzuN0U8IAg_A",
        "colab": {
          "base_uri": "https://localhost:8080/"
        },
        "outputId": "6eb86396-9d27-4cbb-adb7-c50210fb3469"
      },
      "source": [
        "# 딕셔너리\n",
        "dictbox = {'name':'쿼카', 'level': 5}\n",
        "dictbox"
      ],
      "execution_count": 64,
      "outputs": [
        {
          "output_type": "execute_result",
          "data": {
            "text/plain": [
              "{'name': '쿼카', 'level': 5}"
            ]
          },
          "metadata": {},
          "execution_count": 64
        }
      ]
    },
    {
      "cell_type": "code",
      "metadata": {
        "id": "W48Flt_fPzPl",
        "colab": {
          "base_uri": "https://localhost:8080/"
        },
        "outputId": "17c24178-d074-48f2-c411-5dbc6f6a4c6f"
      },
      "source": [
        "# type\n",
        "type(dictbox)"
      ],
      "execution_count": 65,
      "outputs": [
        {
          "output_type": "execute_result",
          "data": {
            "text/plain": [
              "dict"
            ]
          },
          "metadata": {},
          "execution_count": 65
        }
      ]
    },
    {
      "cell_type": "code",
      "source": [
        "# 키(key)로 값 출력하기\n",
        "print(dictbox['name'])\n",
        "print(dictbox['level'])"
      ],
      "metadata": {
        "colab": {
          "base_uri": "https://localhost:8080/"
        },
        "id": "LfmpJX8KnBfc",
        "outputId": "8052e33e-505f-4f24-f477-3503934ad97a"
      },
      "execution_count": 66,
      "outputs": [
        {
          "output_type": "stream",
          "name": "stdout",
          "text": [
            "쿼카\n",
            "5\n"
          ]
        }
      ]
    },
    {
      "cell_type": "code",
      "metadata": {
        "id": "K2aPJAQEzqoW",
        "colab": {
          "base_uri": "https://localhost:8080/"
        },
        "outputId": "3bd18d7f-883c-40b6-ec26-f7cbdc51a1b0"
      },
      "source": [
        "# 값 변경하기\n",
        "dictbox['level'] = 6\n",
        "dictbox['level']"
      ],
      "execution_count": 67,
      "outputs": [
        {
          "output_type": "execute_result",
          "data": {
            "text/plain": [
              "6"
            ]
          },
          "metadata": {},
          "execution_count": 67
        }
      ]
    },
    {
      "cell_type": "code",
      "metadata": {
        "id": "o0WZq19xzyyk",
        "colab": {
          "base_uri": "https://localhost:8080/"
        },
        "outputId": "5752ab47-4485-46a4-a59a-f0f56b7216a5"
      },
      "source": [
        "# 키 값\n",
        "dictbox.keys()"
      ],
      "execution_count": 68,
      "outputs": [
        {
          "output_type": "execute_result",
          "data": {
            "text/plain": [
              "dict_keys(['name', 'level'])"
            ]
          },
          "metadata": {},
          "execution_count": 68
        }
      ]
    },
    {
      "cell_type": "code",
      "metadata": {
        "id": "Fo8xrNgmz4kX",
        "colab": {
          "base_uri": "https://localhost:8080/"
        },
        "outputId": "6a2b78c5-5b51-414d-9740-3ff4e7b87a83"
      },
      "source": [
        "# 밸류 값\n",
        "dictbox.values()"
      ],
      "execution_count": 69,
      "outputs": [
        {
          "output_type": "execute_result",
          "data": {
            "text/plain": [
              "dict_values(['쿼카', 6])"
            ]
          },
          "metadata": {},
          "execution_count": 69
        }
      ]
    },
    {
      "cell_type": "code",
      "source": [
        "dictbox.items()"
      ],
      "metadata": {
        "colab": {
          "base_uri": "https://localhost:8080/"
        },
        "id": "a21TgIIFA9kX",
        "outputId": "7871d121-a3e5-4ae6-b219-7ad4878b2c91"
      },
      "execution_count": 70,
      "outputs": [
        {
          "output_type": "execute_result",
          "data": {
            "text/plain": [
              "dict_items([('name', '쿼카'), ('level', 6)])"
            ]
          },
          "metadata": {},
          "execution_count": 70
        }
      ]
    },
    {
      "cell_type": "code",
      "source": [
        "list(dictbox.values())"
      ],
      "metadata": {
        "colab": {
          "base_uri": "https://localhost:8080/"
        },
        "id": "2SHjT4dRSHSu",
        "outputId": "a008f5ea-d047-449d-f94f-37f437467b0e"
      },
      "execution_count": 71,
      "outputs": [
        {
          "output_type": "execute_result",
          "data": {
            "text/plain": [
              "['쿼카', 6]"
            ]
          },
          "metadata": {},
          "execution_count": 71
        }
      ]
    },
    {
      "cell_type": "code",
      "source": [
        "a = '합격맛집'\n",
        "b = '길벗'\n",
        "c = '출판사'\n",
        "\n",
        "dictbox = {'닉네임': a, c : b}\n",
        "dictbox"
      ],
      "metadata": {
        "colab": {
          "base_uri": "https://localhost:8080/"
        },
        "id": "SEKvs8olUdWq",
        "outputId": "dbe9051e-285b-4866-9eff-56898cec22b4"
      },
      "execution_count": 72,
      "outputs": [
        {
          "output_type": "execute_result",
          "data": {
            "text/plain": [
              "{'닉네임': '합격맛집', '출판사': '길벗'}"
            ]
          },
          "metadata": {},
          "execution_count": 72
        }
      ]
    },
    {
      "cell_type": "code",
      "source": [
        "listbox1 = ['딴짓분식','딴짓카페','딴짓피자']\n",
        "listbox2 = [4.8, 4.9, 5.0]\n",
        "\n",
        "dictbox = {'가게': listbox1, '평점': listbox2}\n",
        "dictbox"
      ],
      "metadata": {
        "colab": {
          "base_uri": "https://localhost:8080/"
        },
        "id": "517DzCrCTbRs",
        "outputId": "3d5196e2-6931-488b-b9ac-b46dbec49445"
      },
      "execution_count": 73,
      "outputs": [
        {
          "output_type": "execute_result",
          "data": {
            "text/plain": [
              "{'가게': ['딴짓분식', '딴짓카페', '딴짓피자'], '평점': [4.8, 4.9, 5.0]}"
            ]
          },
          "metadata": {},
          "execution_count": 73
        }
      ]
    },
    {
      "cell_type": "markdown",
      "metadata": {
        "id": "tHba7NxMsY-r"
      },
      "source": [
        "## Section11. 인덱싱과 슬라이싱"
      ]
    },
    {
      "cell_type": "code",
      "metadata": {
        "id": "X3jgCz-KXAHt",
        "colab": {
          "base_uri": "https://localhost:8080/"
        },
        "outputId": "e0f75f55-72e4-48f0-8a91-87fe38ab6917"
      },
      "source": [
        "# list[index] 원소 값\n",
        "\n",
        "listbox = [2,4,6,8,10]\n",
        "print(listbox[0])  # index 첫번째 값\n",
        "print(listbox[3])  # index 3 (네번째)"
      ],
      "execution_count": 74,
      "outputs": [
        {
          "output_type": "stream",
          "name": "stdout",
          "text": [
            "2\n",
            "8\n"
          ]
        }
      ]
    },
    {
      "cell_type": "code",
      "metadata": {
        "id": "lmi4cQp-memb",
        "colab": {
          "base_uri": "https://localhost:8080/"
        },
        "outputId": "2b313612-ae3d-4032-dc1a-01db924b9f83"
      },
      "source": [
        "# index 마지막 값\n",
        "print(listbox[-1])"
      ],
      "execution_count": 75,
      "outputs": [
        {
          "output_type": "stream",
          "name": "stdout",
          "text": [
            "10\n"
          ]
        }
      ]
    },
    {
      "cell_type": "code",
      "metadata": {
        "id": "wrjMxzGosXZ-",
        "colab": {
          "base_uri": "https://localhost:8080/"
        },
        "outputId": "e231479c-309c-4eaa-8320-819e331ca77e"
      },
      "source": [
        "# list[start:stop]\n",
        "# index 0부터 2까지\n",
        "print(listbox[0:3])"
      ],
      "execution_count": 76,
      "outputs": [
        {
          "output_type": "stream",
          "name": "stdout",
          "text": [
            "[2, 4, 6]\n"
          ]
        }
      ]
    },
    {
      "cell_type": "code",
      "source": [
        "# index 1부터 2까지\n",
        "print(listbox[1:3])"
      ],
      "metadata": {
        "colab": {
          "base_uri": "https://localhost:8080/"
        },
        "id": "zATlUjI8CD8t",
        "outputId": "34077cf0-632a-4932-f75d-6060cbd2dd5a"
      },
      "execution_count": 77,
      "outputs": [
        {
          "output_type": "stream",
          "name": "stdout",
          "text": [
            "[4, 6]\n"
          ]
        }
      ]
    },
    {
      "cell_type": "code",
      "metadata": {
        "id": "GFY0NdKSW5A-",
        "colab": {
          "base_uri": "https://localhost:8080/"
        },
        "outputId": "a638e130-869a-4853-d114-fcec9cac95aa"
      },
      "source": [
        "# index 3부터 끝까지\n",
        "print(listbox[3:])"
      ],
      "execution_count": 78,
      "outputs": [
        {
          "output_type": "stream",
          "name": "stdout",
          "text": [
            "[8, 10]\n"
          ]
        }
      ]
    },
    {
      "cell_type": "code",
      "source": [
        "# 처음부터 index 3까지\n",
        "print(listbox[:3])"
      ],
      "metadata": {
        "colab": {
          "base_uri": "https://localhost:8080/"
        },
        "id": "w_W2paYPBscS",
        "outputId": "2a9e72c6-a846-4eaa-91c0-ec20ee313175"
      },
      "execution_count": 79,
      "outputs": [
        {
          "output_type": "stream",
          "name": "stdout",
          "text": [
            "[2, 4, 6]\n"
          ]
        }
      ]
    },
    {
      "cell_type": "code",
      "metadata": {
        "id": "3l7vc-WEmEjL",
        "colab": {
          "base_uri": "https://localhost:8080/"
        },
        "outputId": "ea100921-bb9a-409c-cec0-e051c46fb639"
      },
      "source": [
        "# list[start:stop:step]\n",
        "# index 처음부터 끝까지, 한칸 건너띄기\n",
        "print(listbox[::2])"
      ],
      "execution_count": 80,
      "outputs": [
        {
          "output_type": "stream",
          "name": "stdout",
          "text": [
            "[2, 6, 10]\n"
          ]
        }
      ]
    },
    {
      "cell_type": "code",
      "source": [
        "listbox[1:3] = [10, 20]\n",
        "print(listbox)"
      ],
      "metadata": {
        "colab": {
          "base_uri": "https://localhost:8080/"
        },
        "id": "kP5wAhSy39Us",
        "outputId": "3f43d3d0-3b4f-4466-9b5f-8b405574c3a7"
      },
      "execution_count": 81,
      "outputs": [
        {
          "output_type": "stream",
          "name": "stdout",
          "text": [
            "[2, 10, 20, 8, 10]\n"
          ]
        }
      ]
    },
    {
      "cell_type": "markdown",
      "metadata": {
        "id": "88qGNAwFU36g"
      },
      "source": [
        "## Section12. 내장 함수"
      ]
    },
    {
      "cell_type": "code",
      "metadata": {
        "id": "r4mkP9Q0VWay",
        "colab": {
          "base_uri": "https://localhost:8080/"
        },
        "outputId": "178d0aab-9470-479e-a620-dd00918e66a7"
      },
      "source": [
        "# 합계\n",
        "listbox = [4,2,10,6,8]\n",
        "sum(listbox)"
      ],
      "execution_count": 82,
      "outputs": [
        {
          "output_type": "execute_result",
          "data": {
            "text/plain": [
              "30"
            ]
          },
          "metadata": {},
          "execution_count": 82
        }
      ]
    },
    {
      "cell_type": "code",
      "source": [
        "boolbox = [True, False, True]\n",
        "sum(boolbox)"
      ],
      "metadata": {
        "colab": {
          "base_uri": "https://localhost:8080/"
        },
        "id": "bWl5KmdeESgz",
        "outputId": "aca19d6c-32d2-46cc-c968-1e5c3cede4c8"
      },
      "execution_count": 83,
      "outputs": [
        {
          "output_type": "execute_result",
          "data": {
            "text/plain": [
              "2"
            ]
          },
          "metadata": {},
          "execution_count": 83
        }
      ]
    },
    {
      "cell_type": "code",
      "metadata": {
        "id": "KesjV3w0U774",
        "colab": {
          "base_uri": "https://localhost:8080/"
        },
        "outputId": "6d6b6a47-d2f4-413f-ca44-2d54e692139d"
      },
      "source": [
        "# 최대값\n",
        "max(listbox)"
      ],
      "execution_count": 84,
      "outputs": [
        {
          "output_type": "execute_result",
          "data": {
            "text/plain": [
              "10"
            ]
          },
          "metadata": {},
          "execution_count": 84
        }
      ]
    },
    {
      "cell_type": "code",
      "metadata": {
        "id": "qlxoqmVrVmIi",
        "colab": {
          "base_uri": "https://localhost:8080/"
        },
        "outputId": "a43e9691-ecba-4452-dfa0-f5e63d9e00c1"
      },
      "source": [
        "# 최소값\n",
        "min(listbox)"
      ],
      "execution_count": 85,
      "outputs": [
        {
          "output_type": "execute_result",
          "data": {
            "text/plain": [
              "2"
            ]
          },
          "metadata": {},
          "execution_count": 85
        }
      ]
    },
    {
      "cell_type": "code",
      "metadata": {
        "id": "nWOmvtLrVjvN",
        "colab": {
          "base_uri": "https://localhost:8080/"
        },
        "outputId": "c8341420-5178-4605-b911-11f1f1e9246e"
      },
      "source": [
        "# 길이(갯수)\n",
        "len(listbox)"
      ],
      "execution_count": 86,
      "outputs": [
        {
          "output_type": "execute_result",
          "data": {
            "text/plain": [
              "5"
            ]
          },
          "metadata": {},
          "execution_count": 86
        }
      ]
    },
    {
      "cell_type": "code",
      "metadata": {
        "id": "UfHaZY7Y1Cf8",
        "colab": {
          "base_uri": "https://localhost:8080/"
        },
        "outputId": "5c881656-8534-4ec0-8efe-3b14f716b6c6"
      },
      "source": [
        "# 반올림\n",
        "round(1.2345, 2), round(1.2375, 2)"
      ],
      "execution_count": 87,
      "outputs": [
        {
          "output_type": "execute_result",
          "data": {
            "text/plain": [
              "(1.23, 1.24)"
            ]
          },
          "metadata": {},
          "execution_count": 87
        }
      ]
    },
    {
      "cell_type": "markdown",
      "metadata": {
        "id": "60a8CfviXNzB"
      },
      "source": [
        "## Section13. 문자열"
      ]
    },
    {
      "cell_type": "markdown",
      "metadata": {
        "id": "GC88pkXCVtXW"
      },
      "source": [
        "### 문자열 변경"
      ]
    },
    {
      "cell_type": "code",
      "metadata": {
        "id": "4v6OZg0beGNn",
        "colab": {
          "base_uri": "https://localhost:8080/",
          "height": 35
        },
        "outputId": "32d9a033-dfd7-4969-9258-e3c51bd07e29"
      },
      "source": [
        "# 한 단어 변경\n",
        "text = \"빅데이터 분석기사 파이썬 공부\"\n",
        "text = text.replace(\"공부\",\"스터디\")\n",
        "text"
      ],
      "execution_count": 88,
      "outputs": [
        {
          "output_type": "execute_result",
          "data": {
            "text/plain": [
              "'빅데이터 분석기사 파이썬 스터디'"
            ],
            "application/vnd.google.colaboratory.intrinsic+json": {
              "type": "string"
            }
          },
          "metadata": {},
          "execution_count": 88
        }
      ]
    },
    {
      "cell_type": "code",
      "metadata": {
        "id": "TWaRdm59euuw",
        "colab": {
          "base_uri": "https://localhost:8080/",
          "height": 35
        },
        "outputId": "06f12a6b-d9d9-4757-e0fb-fbb86b7580f9"
      },
      "source": [
        "# 여러 단어 변경\n",
        "text = \"빅데이터 분석기사 파이썬 공부\"\n",
        "text = text.replace(\"파이썬\",\"머신러닝\").replace(\"분석기사\",\"분석을 위한\")\n",
        "text"
      ],
      "execution_count": 89,
      "outputs": [
        {
          "output_type": "execute_result",
          "data": {
            "text/plain": [
              "'빅데이터 분석을 위한 머신러닝 공부'"
            ],
            "application/vnd.google.colaboratory.intrinsic+json": {
              "type": "string"
            }
          },
          "metadata": {},
          "execution_count": 89
        }
      ]
    },
    {
      "cell_type": "markdown",
      "metadata": {
        "id": "tJ4TMr1Zr3uk"
      },
      "source": [
        "### 문자열 슬라이싱"
      ]
    },
    {
      "cell_type": "code",
      "metadata": {
        "id": "i8nqO6HRr6Rp",
        "colab": {
          "base_uri": "https://localhost:8080/",
          "height": 35
        },
        "outputId": "d846ac7e-908f-4f36-bbf6-79a2964f718a"
      },
      "source": [
        "# 문자열 슬라이싱\n",
        "text = \"안녕하세요! 함께 성장해요.\"\n",
        "text[:2]"
      ],
      "execution_count": 90,
      "outputs": [
        {
          "output_type": "execute_result",
          "data": {
            "text/plain": [
              "'안녕'"
            ],
            "application/vnd.google.colaboratory.intrinsic+json": {
              "type": "string"
            }
          },
          "metadata": {},
          "execution_count": 90
        }
      ]
    },
    {
      "cell_type": "code",
      "source": [
        "text[7:9]"
      ],
      "metadata": {
        "colab": {
          "base_uri": "https://localhost:8080/",
          "height": 35
        },
        "id": "p6ReCrlEo4C9",
        "outputId": "ad61c557-cc20-4c03-e61e-1e3cfe2157ec"
      },
      "execution_count": 91,
      "outputs": [
        {
          "output_type": "execute_result",
          "data": {
            "text/plain": [
              "'함께'"
            ],
            "application/vnd.google.colaboratory.intrinsic+json": {
              "type": "string"
            }
          },
          "metadata": {},
          "execution_count": 91
        }
      ]
    },
    {
      "cell_type": "code",
      "metadata": {
        "id": "-Gn-Q-m2sOG7",
        "colab": {
          "base_uri": "https://localhost:8080/",
          "height": 35
        },
        "outputId": "202aae20-3697-450d-f9c7-62b1e3731e17"
      },
      "source": [
        "# 월-일\n",
        "date = \"2022-12-25\"\n",
        "date[5:]"
      ],
      "execution_count": 92,
      "outputs": [
        {
          "output_type": "execute_result",
          "data": {
            "text/plain": [
              "'12-25'"
            ],
            "application/vnd.google.colaboratory.intrinsic+json": {
              "type": "string"
            }
          },
          "metadata": {},
          "execution_count": 92
        }
      ]
    },
    {
      "cell_type": "code",
      "source": [
        "print(date.split('-'))\n",
        "print(text.split())"
      ],
      "metadata": {
        "colab": {
          "base_uri": "https://localhost:8080/"
        },
        "id": "IlTtRzLUYrUu",
        "outputId": "45523a88-81b8-4472-9ba3-a74110304584"
      },
      "execution_count": 93,
      "outputs": [
        {
          "output_type": "stream",
          "name": "stdout",
          "text": [
            "['2022', '12', '25']\n",
            "['안녕하세요!', '함께', '성장해요.']\n"
          ]
        }
      ]
    },
    {
      "cell_type": "code",
      "source": [
        "list(date)"
      ],
      "metadata": {
        "colab": {
          "base_uri": "https://localhost:8080/"
        },
        "id": "_FJGaW6hX-TP",
        "outputId": "4488a80a-9f37-4ace-800b-8ca7c58c32d4"
      },
      "execution_count": 94,
      "outputs": [
        {
          "output_type": "execute_result",
          "data": {
            "text/plain": [
              "['2', '0', '2', '2', '-', '1', '2', '-', '2', '5']"
            ]
          },
          "metadata": {},
          "execution_count": 94
        }
      ]
    },
    {
      "cell_type": "markdown",
      "metadata": {
        "id": "EXgwKIeQ9LSc"
      },
      "source": [
        "## Section14. 반복문"
      ]
    },
    {
      "cell_type": "code",
      "metadata": {
        "id": "xOe8qt-G5uVv",
        "colab": {
          "base_uri": "https://localhost:8080/"
        },
        "outputId": "2f6d65a5-37df-49e5-dd4a-7b99844bde76"
      },
      "source": [
        "# 리스트에 있는 값, 반복문을 통해 출력\n",
        "listbox = [2,4,6,8,10]\n",
        "for item in listbox:\n",
        "    print(item)"
      ],
      "execution_count": 95,
      "outputs": [
        {
          "output_type": "stream",
          "name": "stdout",
          "text": [
            "2\n",
            "4\n",
            "6\n",
            "8\n",
            "10\n"
          ]
        }
      ]
    },
    {
      "cell_type": "code",
      "metadata": {
        "id": "8FfABDZt9QL2",
        "colab": {
          "base_uri": "https://localhost:8080/"
        },
        "outputId": "69988a16-517e-4d5a-a9ec-3063bd85ba97"
      },
      "source": [
        "# 리스트에 있는 문자열 출력\n",
        "listbox = ['길벗','시나공','빅분기']\n",
        "for i in listbox:\n",
        "    print(i)"
      ],
      "execution_count": 96,
      "outputs": [
        {
          "output_type": "stream",
          "name": "stdout",
          "text": [
            "길벗\n",
            "시나공\n",
            "빅분기\n"
          ]
        }
      ]
    },
    {
      "cell_type": "code",
      "source": [
        "# 리스트에 있는 값, 반복문을 통해 출력\n",
        "listbox = [2,4,6,8,10]\n",
        "for item in listbox:\n",
        "    print(item)\n",
        "print(\"끝\")"
      ],
      "metadata": {
        "colab": {
          "base_uri": "https://localhost:8080/"
        },
        "id": "PWNLWhSbPhFc",
        "outputId": "c9de7d20-aa87-4035-d55e-f9bb19bd6bc2"
      },
      "execution_count": 97,
      "outputs": [
        {
          "output_type": "stream",
          "name": "stdout",
          "text": [
            "2\n",
            "4\n",
            "6\n",
            "8\n",
            "10\n",
            "끝\n"
          ]
        }
      ]
    },
    {
      "cell_type": "code",
      "metadata": {
        "id": "-e3ldxTl9fC2",
        "colab": {
          "base_uri": "https://localhost:8080/"
        },
        "outputId": "39fa52af-b323-4e34-f490-00617733312d"
      },
      "source": [
        "# 리스트에 있는 값 반복문을 통해 +1 한 값, 출력\n",
        "listbox = [2,4,6,8,10]\n",
        "for item in listbox:\n",
        "    result = item + 1\n",
        "    print(result)"
      ],
      "execution_count": 98,
      "outputs": [
        {
          "output_type": "stream",
          "name": "stdout",
          "text": [
            "3\n",
            "5\n",
            "7\n",
            "9\n",
            "11\n"
          ]
        }
      ]
    },
    {
      "cell_type": "code",
      "metadata": {
        "id": "xSa4BJrlC5gl",
        "colab": {
          "base_uri": "https://localhost:8080/"
        },
        "outputId": "36a28158-3a19-42c8-fd74-e4c8fe70b03c"
      },
      "source": [
        "# 0부터 4까지 반복 출력\n",
        "for item in range(5):\n",
        "    print(item)"
      ],
      "execution_count": 99,
      "outputs": [
        {
          "output_type": "stream",
          "name": "stdout",
          "text": [
            "0\n",
            "1\n",
            "2\n",
            "3\n",
            "4\n"
          ]
        }
      ]
    },
    {
      "cell_type": "code",
      "metadata": {
        "id": "AYO-Jaunw92V",
        "colab": {
          "base_uri": "https://localhost:8080/"
        },
        "outputId": "d183d3ad-78a7-4b85-a3ea-2ed76e3dc017"
      },
      "source": [
        "# 5부터 9까지 반복 출력\n",
        "for i in range(5,10):\n",
        "    print(i)"
      ],
      "execution_count": 100,
      "outputs": [
        {
          "output_type": "stream",
          "name": "stdout",
          "text": [
            "5\n",
            "6\n",
            "7\n",
            "8\n",
            "9\n"
          ]
        }
      ]
    },
    {
      "cell_type": "code",
      "metadata": {
        "id": "HbAA3JX11HBu",
        "colab": {
          "base_uri": "https://localhost:8080/"
        },
        "outputId": "76e1e776-ad45-42ad-cebe-d1079b455ec4"
      },
      "source": [
        "listbox = []\n",
        "for i in range(1,6):\n",
        "    listbox.append(i)\n",
        "\n",
        "listbox"
      ],
      "execution_count": 101,
      "outputs": [
        {
          "output_type": "execute_result",
          "data": {
            "text/plain": [
              "[1, 2, 3, 4, 5]"
            ]
          },
          "metadata": {},
          "execution_count": 101
        }
      ]
    },
    {
      "cell_type": "code",
      "source": [
        "# 리스트에 있는 문자열과 인덱스값 출력\n",
        "listbox = ['길벗','시나공','빅분기', '분석']\n",
        "for index, item in enumerate(listbox):\n",
        "    print(index, item)"
      ],
      "metadata": {
        "colab": {
          "base_uri": "https://localhost:8080/"
        },
        "id": "AVvP0X5ycPDn",
        "outputId": "1283cb7a-93b4-4a11-cb9f-d23c992411cf"
      },
      "execution_count": 102,
      "outputs": [
        {
          "output_type": "stream",
          "name": "stdout",
          "text": [
            "0 길벗\n",
            "1 시나공\n",
            "2 빅분기\n",
            "3 분석\n"
          ]
        }
      ]
    },
    {
      "cell_type": "code",
      "source": [
        "person_info = {\n",
        "    'name': '사랑',\n",
        "    'age': 20,\n",
        "    'city': '부산',\n",
        "    'hobbies': ['연애', '수영', '코딩']\n",
        "}\n",
        "for k, v in zip(person_info.keys(), person_info.values()):\n",
        "    print(k, v)"
      ],
      "metadata": {
        "colab": {
          "base_uri": "https://localhost:8080/"
        },
        "id": "ZRHxoT_vd_lL",
        "outputId": "30809d50-f338-415c-a34f-ee9948511257"
      },
      "execution_count": 103,
      "outputs": [
        {
          "output_type": "stream",
          "name": "stdout",
          "text": [
            "name 사랑\n",
            "age 20\n",
            "city 부산\n",
            "hobbies ['연애', '수영', '코딩']\n"
          ]
        }
      ]
    },
    {
      "cell_type": "code",
      "metadata": {
        "id": "8dkdcNRI2tUu"
      },
      "source": [
        "# # Tip (print(f스트링))\n",
        "# for index, item in enumerate(listbox):\n",
        "#     print(f'인덱스{index}인 값은{item}입니다.')"
      ],
      "execution_count": 104,
      "outputs": []
    },
    {
      "cell_type": "markdown",
      "metadata": {
        "id": "j7bxnMRkCvee"
      },
      "source": [
        "## Section15. 함수"
      ]
    },
    {
      "cell_type": "markdown",
      "metadata": {
        "id": "xwknzPFZqLC9"
      },
      "source": [
        "### 기본함수"
      ]
    },
    {
      "cell_type": "code",
      "metadata": {
        "id": "v-5HTz-UoCrC",
        "colab": {
          "base_uri": "https://localhost:8080/"
        },
        "outputId": "42d88f75-6a6a-47bc-9e9e-1f1660f79e7f"
      },
      "source": [
        "def hello():   #함수 정의\n",
        "    print(\"안녕하세요!\")\n",
        "\n",
        "hello()        #함수 호출\n",
        "hello()        #함수 호출\n",
        "hello()        #함수 호출"
      ],
      "execution_count": 105,
      "outputs": [
        {
          "output_type": "stream",
          "name": "stdout",
          "text": [
            "안녕하세요!\n",
            "안녕하세요!\n",
            "안녕하세요!\n"
          ]
        }
      ]
    },
    {
      "cell_type": "markdown",
      "metadata": {
        "id": "m8UUcfokqNDe"
      },
      "source": [
        "### 함수(파라미터)"
      ]
    },
    {
      "cell_type": "code",
      "source": [
        "# 함수 정의 (파라미터)\n",
        "def hello(name):\n",
        "    print(\"hello \" + name)\n",
        "\n",
        "hello(\"빅분기\")"
      ],
      "metadata": {
        "colab": {
          "base_uri": "https://localhost:8080/"
        },
        "id": "c9uSjs2cAT_K",
        "outputId": "fa2f913b-0e2d-462f-da88-32de248262f5"
      },
      "execution_count": 106,
      "outputs": [
        {
          "output_type": "stream",
          "name": "stdout",
          "text": [
            "hello 빅분기\n"
          ]
        }
      ]
    },
    {
      "cell_type": "code",
      "source": [
        "# def hello(name):\n",
        "#     print(name)\n",
        "# print(name)\n",
        "\n",
        "# hello(\"빅분기\")"
      ],
      "metadata": {
        "id": "J472tyenMtvr"
      },
      "execution_count": 107,
      "outputs": []
    },
    {
      "cell_type": "code",
      "metadata": {
        "id": "T5ZMWdSLW0RD",
        "colab": {
          "base_uri": "https://localhost:8080/"
        },
        "outputId": "ff38c9f9-dce8-4175-fbad-2df19ea3520f"
      },
      "source": [
        "# 함수 정의 (파라미터)\n",
        "def plus(x, y):\n",
        "    print(x+y)\n",
        "\n",
        "# 함수 호출\n",
        "a=2\n",
        "b=3\n",
        "plus(a,b)"
      ],
      "execution_count": 108,
      "outputs": [
        {
          "output_type": "stream",
          "name": "stdout",
          "text": [
            "5\n"
          ]
        }
      ]
    },
    {
      "cell_type": "markdown",
      "metadata": {
        "id": "EmP4p9izqREt"
      },
      "source": [
        "### 리턴이 있는 함수"
      ]
    },
    {
      "cell_type": "code",
      "metadata": {
        "id": "QbUnPQhtpYBN"
      },
      "source": [
        "# 함수 정의 (리턴 값)\n",
        "def plus(x, y):\n",
        "    result = x+y\n",
        "    return result"
      ],
      "execution_count": 109,
      "outputs": []
    },
    {
      "cell_type": "code",
      "metadata": {
        "id": "WRli89l4pYK2",
        "colab": {
          "base_uri": "https://localhost:8080/"
        },
        "outputId": "1f115d4d-acbd-4c50-fb96-98797dba3883"
      },
      "source": [
        "# 함수 호출\n",
        "a = plus(2,3)\n",
        "print(a)"
      ],
      "execution_count": 110,
      "outputs": [
        {
          "output_type": "stream",
          "name": "stdout",
          "text": [
            "5\n"
          ]
        }
      ]
    },
    {
      "cell_type": "code",
      "metadata": {
        "id": "AcTLatFGwXV9",
        "colab": {
          "base_uri": "https://localhost:8080/"
        },
        "outputId": "bdd3952d-e76d-4e45-d55a-03608b696b38"
      },
      "source": [
        "# 리턴값이 2개 (최소, 최대값을 구하는 함수)\n",
        "listbox = [15, 46, 78, 24, 56]\n",
        "def min_max(data):\n",
        "    mi = min(data)\n",
        "    ma = max(data)\n",
        "    return mi, ma\n",
        "\n",
        "a, b = min_max(listbox)\n",
        "print(a,b)"
      ],
      "execution_count": 111,
      "outputs": [
        {
          "output_type": "stream",
          "name": "stdout",
          "text": [
            "15 78\n"
          ]
        }
      ]
    },
    {
      "cell_type": "code",
      "metadata": {
        "colab": {
          "base_uri": "https://localhost:8080/"
        },
        "id": "s0AfIdrZ5Vkg",
        "outputId": "cbcf6934-55c6-4632-dd29-928eeb80180e"
      },
      "source": [
        "# 평균을 구하는 함수\n",
        "listbox = [15, 46, 78, 24, 56]\n",
        "\n",
        "def mean(data):\n",
        "    return sum(data) / len(data)\n",
        "\n",
        "mean(listbox)\n"
      ],
      "execution_count": 112,
      "outputs": [
        {
          "output_type": "execute_result",
          "data": {
            "text/plain": [
              "43.8"
            ]
          },
          "metadata": {},
          "execution_count": 112
        }
      ]
    },
    {
      "cell_type": "markdown",
      "metadata": {
        "id": "O1QnE6ZaliuP"
      },
      "source": [
        "## Section16. Quiz"
      ]
    },
    {
      "cell_type": "code",
      "metadata": {
        "id": "veDH5XwYixWa",
        "colab": {
          "base_uri": "https://localhost:8080/"
        },
        "outputId": "5d3b41b4-5496-412f-e849-0f5463f40354"
      },
      "source": [
        "listbox = [\"감사\", \"행복\", \"사랑\", \"성공\", \"긍정\", \"변화\", \"성장\", \"희망\"]\n",
        "listbox"
      ],
      "execution_count": 113,
      "outputs": [
        {
          "output_type": "execute_result",
          "data": {
            "text/plain": [
              "['감사', '행복', '사랑', '성공', '긍정', '변화', '성장', '희망']"
            ]
          },
          "metadata": {},
          "execution_count": 113
        }
      ]
    },
    {
      "cell_type": "code",
      "metadata": {
        "id": "lPFvMHhVuGZ0",
        "colab": {
          "base_uri": "https://localhost:8080/"
        },
        "outputId": "0c0fd2b0-b1d0-4568-be55-a47663dc070b"
      },
      "source": [
        "# Q1.리스트에 있는 값은 몇개인가?\n",
        "len(listbox)"
      ],
      "execution_count": 114,
      "outputs": [
        {
          "output_type": "execute_result",
          "data": {
            "text/plain": [
              "8"
            ]
          },
          "metadata": {},
          "execution_count": 114
        }
      ]
    },
    {
      "cell_type": "code",
      "metadata": {
        "id": "xeDlrQnHuZu8",
        "colab": {
          "base_uri": "https://localhost:8080/",
          "height": 35
        },
        "outputId": "3c966500-ee25-4cd1-b5f0-64839bfafc2c"
      },
      "source": [
        "# Q2.리스트의 첫번째 값을 출력하시오\n",
        "listbox[0]"
      ],
      "execution_count": 115,
      "outputs": [
        {
          "output_type": "execute_result",
          "data": {
            "text/plain": [
              "'감사'"
            ],
            "application/vnd.google.colaboratory.intrinsic+json": {
              "type": "string"
            }
          },
          "metadata": {},
          "execution_count": 115
        }
      ]
    },
    {
      "cell_type": "code",
      "metadata": {
        "id": "X9ekhyU3vIng",
        "colab": {
          "base_uri": "https://localhost:8080/",
          "height": 35
        },
        "outputId": "936e1fe4-4603-4362-fed0-68f2027e9fc3"
      },
      "source": [
        "# Q3.리스트의 마지막 값을 출력하시오\n",
        "listbox[-1]"
      ],
      "execution_count": 116,
      "outputs": [
        {
          "output_type": "execute_result",
          "data": {
            "text/plain": [
              "'희망'"
            ],
            "application/vnd.google.colaboratory.intrinsic+json": {
              "type": "string"
            }
          },
          "metadata": {},
          "execution_count": 116
        }
      ]
    },
    {
      "cell_type": "code",
      "metadata": {
        "id": "E77pYhgsuV4C",
        "colab": {
          "base_uri": "https://localhost:8080/"
        },
        "outputId": "9a76f540-ffea-4695-ec3a-bc3e158c4143"
      },
      "source": [
        "# Q4.리스트에서 처음부터 세번째 값까지 출력하시오\n",
        "listbox[:3]"
      ],
      "execution_count": 117,
      "outputs": [
        {
          "output_type": "execute_result",
          "data": {
            "text/plain": [
              "['감사', '행복', '사랑']"
            ]
          },
          "metadata": {},
          "execution_count": 117
        }
      ]
    },
    {
      "cell_type": "code",
      "metadata": {
        "id": "Lnr-3gUhuKhB",
        "colab": {
          "base_uri": "https://localhost:8080/",
          "height": 35
        },
        "outputId": "804d73e3-d516-4e4b-ad51-c8018961a75b"
      },
      "source": [
        "# Q5.리스트에서 마지막 앞 단어를 출력하시오\n",
        "listbox[-2]"
      ],
      "execution_count": 118,
      "outputs": [
        {
          "output_type": "execute_result",
          "data": {
            "text/plain": [
              "'성장'"
            ],
            "application/vnd.google.colaboratory.intrinsic+json": {
              "type": "string"
            }
          },
          "metadata": {},
          "execution_count": 118
        }
      ]
    },
    {
      "cell_type": "code",
      "metadata": {
        "id": "C_P8l56RvQuB",
        "colab": {
          "base_uri": "https://localhost:8080/"
        },
        "outputId": "d75917a6-3647-4663-85f5-e911b8b0a62f"
      },
      "source": [
        "# Q6.리스트 값 중 ‘행복’과 ‘사랑’만 출력하시오\n",
        "listbox[1:3]"
      ],
      "execution_count": 119,
      "outputs": [
        {
          "output_type": "execute_result",
          "data": {
            "text/plain": [
              "['행복', '사랑']"
            ]
          },
          "metadata": {},
          "execution_count": 119
        }
      ]
    },
    {
      "cell_type": "code",
      "source": [
        "# Q7.리스트 값 중 \"변화\" -> \"웃음\"으로 변경하시오\n",
        "listbox[5] = '웃음'\n",
        "listbox"
      ],
      "metadata": {
        "colab": {
          "base_uri": "https://localhost:8080/"
        },
        "id": "R8rC1oPEBeiH",
        "outputId": "6863f4ed-01c3-4144-8c00-a5a35bd03ba5"
      },
      "execution_count": 120,
      "outputs": [
        {
          "output_type": "execute_result",
          "data": {
            "text/plain": [
              "['감사', '행복', '사랑', '성공', '긍정', '웃음', '성장', '희망']"
            ]
          },
          "metadata": {},
          "execution_count": 120
        }
      ]
    },
    {
      "cell_type": "code",
      "metadata": {
        "id": "FnDj6uJ7ixCz",
        "colab": {
          "base_uri": "https://localhost:8080/"
        },
        "outputId": "d9825837-b2fe-4049-d983-f33931317dbf"
      },
      "source": [
        "# Q8. 리스트에 있는 name, age, phone 컬럼명을 반복문을 통해 출력하시오\n",
        "cols = ['name', 'age', 'phone']\n",
        "for col in cols:\n",
        "    print(col)"
      ],
      "execution_count": 121,
      "outputs": [
        {
          "output_type": "stream",
          "name": "stdout",
          "text": [
            "name\n",
            "age\n",
            "phone\n"
          ]
        }
      ]
    },
    {
      "cell_type": "code",
      "metadata": {
        "id": "jJD-lq6mwDfs",
        "colab": {
          "base_uri": "https://localhost:8080/"
        },
        "outputId": "ea0e4a72-1ff5-4a80-f0f0-9972aba5a265"
      },
      "source": [
        "# Q9. 리스트에서 최대값에서 최소값을 뺀 결과를 리턴하는 함수를 만들고 실행하시오\n",
        "listbox = [15, 46, 78, 24, 56]\n",
        "def maxmin(data):\n",
        "    return max(data) - min(data)\n",
        "\n",
        "maxmin(listbox)"
      ],
      "execution_count": 122,
      "outputs": [
        {
          "output_type": "execute_result",
          "data": {
            "text/plain": [
              "63"
            ]
          },
          "metadata": {},
          "execution_count": 122
        }
      ]
    },
    {
      "cell_type": "code",
      "source": [
        "# Q10. 다음 문자열에서 \"여러분\"을 \"당신\"으로 변경한 결과를 리턴하는 함수를 만들고 실행하시오\n",
        "str_data = \"여러분의 합격을 응원합니다!\"\n",
        "def rep(data):\n",
        "    return data.replace(\"여러분\", \"당신\")\n",
        "\n",
        "rep(str_data)"
      ],
      "metadata": {
        "colab": {
          "base_uri": "https://localhost:8080/",
          "height": 35
        },
        "id": "E55R4Iu4LpAD",
        "outputId": "35a06726-6eb2-49e7-8eb4-e1e579371b7e"
      },
      "execution_count": 123,
      "outputs": [
        {
          "output_type": "execute_result",
          "data": {
            "text/plain": [
              "'당신의 합격을 응원합니다!'"
            ],
            "application/vnd.google.colaboratory.intrinsic+json": {
              "type": "string"
            }
          },
          "metadata": {},
          "execution_count": 123
        }
      ]
    },
    {
      "cell_type": "code",
      "source": [],
      "metadata": {
        "id": "QLXCt0qUyILT"
      },
      "execution_count": 123,
      "outputs": []
    }
  ]
}