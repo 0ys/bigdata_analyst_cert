{
  "cells": [
    {
      "cell_type": "markdown",
      "metadata": {
        "id": "EWn4k5PJr2B8"
      },
      "source": [
        "[구글 코랩(Colab)에서 실행하기](https://colab.research.google.com/github/lovedlim/bigdata_analyst_cert/blob/main/part1/ch2/ch2_pandas.ipynb)"
      ]
    },
    {
      "cell_type": "markdown",
      "metadata": {
        "id": "7yPVcge36d1C"
      },
      "source": [
        "# 판다스"
      ]
    },
    {
      "cell_type": "markdown",
      "metadata": {
        "id": "O8OF1HA5kkUd"
      },
      "source": [
        "## Section1. 데이터프레임과 시리즈"
      ]
    },
    {
      "cell_type": "code",
      "execution_count": null,
      "metadata": {},
      "outputs": [],
      "source": [
        "print(\"hello\")"
      ]
    },
    {
      "cell_type": "code",
      "execution_count": 1,
      "metadata": {
        "id": "93EqcIRU6EQ4"
      },
      "outputs": [],
      "source": [
        "# 판다스 라이브러리 불러오기\n",
        "import pandas as pd\n",
        "# 판다스 데이터는 시리즈와 데이터프레임으로 구성된다.\n",
        "# Series는 1차원 형태이고, DataFrame은 행과 열이 있는 2차원 형태다.\n",
        "# 판다스에서 축(axis)을 숫자로 나타낼 때 행은 0, 열은 1로 표시한다. = \"행(0)렬(1)\""
      ]
    },
    {
      "cell_type": "code",
      "execution_count": 2,
      "metadata": {
        "colab": {
          "base_uri": "https://localhost:8080/",
          "height": 178
        },
        "id": "XRZVXmWa7xeR",
        "outputId": "ebb97e31-264d-4887-851a-9b890bf4e509"
      },
      "outputs": [
        {
          "data": {
            "text/plain": [
              "0     비빔밥\n",
              "1    김치찌개\n",
              "2    된장찌개\n",
              "dtype: object"
            ]
          },
          "execution_count": 2,
          "metadata": {},
          "output_type": "execute_result"
        }
      ],
      "source": [
        "# 시리즈 만들기 (문자열) - Object형은 주로 문자열 데이터를 나타내는 데 사용된다.\n",
        "menu = pd.Series(['비빔밥', '김치찌개', '된장찌개'])\n",
        "menu"
      ]
    },
    {
      "cell_type": "code",
      "execution_count": 3,
      "metadata": {
        "colab": {
          "base_uri": "https://localhost:8080/",
          "height": 178
        },
        "id": "dQjVo19F8V7j",
        "outputId": "c40c5d38-1d21-49ae-bf3b-62a4cc99f8f5"
      },
      "outputs": [
        {
          "data": {
            "text/plain": [
              "0    10000\n",
              "1     9000\n",
              "2     8000\n",
              "dtype: int64"
            ]
          },
          "execution_count": 3,
          "metadata": {},
          "output_type": "execute_result"
        }
      ],
      "source": [
        "# 시리즈 만들기(정수형)\n",
        "# 판다스는 리스트에 포함된 데이터 타입을 기반으로 시리즈의 데이터 타입을 자동으로 결정한다.\n",
        "price = pd.Series([10000, 9000, 8000])\n",
        "price"
      ]
    },
    {
      "cell_type": "code",
      "execution_count": 4,
      "metadata": {
        "colab": {
          "base_uri": "https://localhost:8080/",
          "height": 143
        },
        "id": "IMIKjmjo700G",
        "outputId": "5fd81080-2085-4bc1-b406-37d717a40921"
      },
      "outputs": [
        {
          "data": {
            "text/html": [
              "<div>\n",
              "<style scoped>\n",
              "    .dataframe tbody tr th:only-of-type {\n",
              "        vertical-align: middle;\n",
              "    }\n",
              "\n",
              "    .dataframe tbody tr th {\n",
              "        vertical-align: top;\n",
              "    }\n",
              "\n",
              "    .dataframe thead th {\n",
              "        text-align: right;\n",
              "    }\n",
              "</style>\n",
              "<table border=\"1\" class=\"dataframe\">\n",
              "  <thead>\n",
              "    <tr style=\"text-align: right;\">\n",
              "      <th></th>\n",
              "      <th>menu</th>\n",
              "      <th>price</th>\n",
              "    </tr>\n",
              "  </thead>\n",
              "  <tbody>\n",
              "    <tr>\n",
              "      <th>0</th>\n",
              "      <td>비빔밥</td>\n",
              "      <td>10000</td>\n",
              "    </tr>\n",
              "    <tr>\n",
              "      <th>1</th>\n",
              "      <td>김치찌개</td>\n",
              "      <td>9000</td>\n",
              "    </tr>\n",
              "    <tr>\n",
              "      <th>2</th>\n",
              "      <td>된장찌개</td>\n",
              "      <td>8000</td>\n",
              "    </tr>\n",
              "  </tbody>\n",
              "</table>\n",
              "</div>"
            ],
            "text/plain": [
              "   menu  price\n",
              "0   비빔밥  10000\n",
              "1  김치찌개   9000\n",
              "2  된장찌개   8000"
            ]
          },
          "execution_count": 4,
          "metadata": {},
          "output_type": "execute_result"
        }
      ],
      "source": [
        "# 데이터 프레임 만들기 pd.DataFrame({\"컬럼명\":데이터})\n",
        "pd.DataFrame({\n",
        "    \"menu\" : menu,\n",
        "    \"price\" : price\n",
        "})"
      ]
    },
    {
      "cell_type": "code",
      "execution_count": 5,
      "metadata": {
        "colab": {
          "base_uri": "https://localhost:8080/",
          "height": 143
        },
        "id": "xtPW-rfnfG7Z",
        "outputId": "5d2871ae-0f73-46d6-8e18-b3422f754009"
      },
      "outputs": [
        {
          "data": {
            "text/html": [
              "<div>\n",
              "<style scoped>\n",
              "    .dataframe tbody tr th:only-of-type {\n",
              "        vertical-align: middle;\n",
              "    }\n",
              "\n",
              "    .dataframe tbody tr th {\n",
              "        vertical-align: top;\n",
              "    }\n",
              "\n",
              "    .dataframe thead th {\n",
              "        text-align: right;\n",
              "    }\n",
              "</style>\n",
              "<table border=\"1\" class=\"dataframe\">\n",
              "  <thead>\n",
              "    <tr style=\"text-align: right;\">\n",
              "      <th></th>\n",
              "      <th>메뉴</th>\n",
              "      <th>가격</th>\n",
              "      <th>원산지</th>\n",
              "    </tr>\n",
              "  </thead>\n",
              "  <tbody>\n",
              "    <tr>\n",
              "      <th>0</th>\n",
              "      <td>비빔밥</td>\n",
              "      <td>10000</td>\n",
              "      <td>국내산</td>\n",
              "    </tr>\n",
              "    <tr>\n",
              "      <th>1</th>\n",
              "      <td>김치찌게</td>\n",
              "      <td>9000</td>\n",
              "      <td>국내산</td>\n",
              "    </tr>\n",
              "    <tr>\n",
              "      <th>2</th>\n",
              "      <td>된장찌게</td>\n",
              "      <td>8000</td>\n",
              "      <td>국내산</td>\n",
              "    </tr>\n",
              "  </tbody>\n",
              "</table>\n",
              "</div>"
            ],
            "text/plain": [
              "     메뉴     가격  원산지\n",
              "0   비빔밥  10000  국내산\n",
              "1  김치찌게   9000  국내산\n",
              "2  된장찌게   8000  국내산"
            ]
          },
          "execution_count": 5,
          "metadata": {},
          "output_type": "execute_result"
        }
      ],
      "source": [
        "# 데이터 프레임 만들기 pd.DataFrame({\"컬럼명\":데이터})\n",
        "df = pd.DataFrame({\n",
        "    \"메뉴\":['비빔밥', '김치찌게', '된장찌게'],\n",
        "    \"가격\":[10000, 9000, 8000],\n",
        "    \"원산지\":['국내산', '국내산', '국내산']\n",
        "})\n",
        "df"
      ]
    },
    {
      "cell_type": "code",
      "execution_count": 6,
      "metadata": {
        "colab": {
          "base_uri": "https://localhost:8080/",
          "height": 178
        },
        "id": "u0Ot-0SSGIIM",
        "outputId": "22cc735e-979c-438b-c931-924cf8173e55"
      },
      "outputs": [
        {
          "data": {
            "text/plain": [
              "0     비빔밥\n",
              "1    김치찌게\n",
              "2    된장찌게\n",
              "Name: 메뉴, dtype: object"
            ]
          },
          "execution_count": 6,
          "metadata": {},
          "output_type": "execute_result"
        }
      ],
      "source": [
        "# 시리즈로 선택 (가격)\n",
        "# 1개의 컬럼명만 선택하면 시리즈 형태로 출력한다.\n",
        "df['메뉴']"
      ]
    },
    {
      "cell_type": "code",
      "execution_count": 7,
      "metadata": {
        "colab": {
          "base_uri": "https://localhost:8080/",
          "height": 143
        },
        "id": "_ys40sC5GZ48",
        "outputId": "bb03eb33-90c7-49f0-eb91-c614eda1d757"
      },
      "outputs": [
        {
          "data": {
            "text/html": [
              "<div>\n",
              "<style scoped>\n",
              "    .dataframe tbody tr th:only-of-type {\n",
              "        vertical-align: middle;\n",
              "    }\n",
              "\n",
              "    .dataframe tbody tr th {\n",
              "        vertical-align: top;\n",
              "    }\n",
              "\n",
              "    .dataframe thead th {\n",
              "        text-align: right;\n",
              "    }\n",
              "</style>\n",
              "<table border=\"1\" class=\"dataframe\">\n",
              "  <thead>\n",
              "    <tr style=\"text-align: right;\">\n",
              "      <th></th>\n",
              "      <th>메뉴</th>\n",
              "    </tr>\n",
              "  </thead>\n",
              "  <tbody>\n",
              "    <tr>\n",
              "      <th>0</th>\n",
              "      <td>비빔밥</td>\n",
              "    </tr>\n",
              "    <tr>\n",
              "      <th>1</th>\n",
              "      <td>김치찌게</td>\n",
              "    </tr>\n",
              "    <tr>\n",
              "      <th>2</th>\n",
              "      <td>된장찌게</td>\n",
              "    </tr>\n",
              "  </tbody>\n",
              "</table>\n",
              "</div>"
            ],
            "text/plain": [
              "     메뉴\n",
              "0   비빔밥\n",
              "1  김치찌게\n",
              "2  된장찌게"
            ]
          },
          "execution_count": 7,
          "metadata": {},
          "output_type": "execute_result"
        }
      ],
      "source": [
        "# 데이터프레임으로 선택 (가격)\n",
        "# 1개의 컬럼을 시리즈가 아닌 데이터프레임으로 만드려면 대괄호로 한 번 더 묶어준다.\n",
        "df[['메뉴']]"
      ]
    },
    {
      "cell_type": "code",
      "execution_count": 8,
      "metadata": {
        "colab": {
          "base_uri": "https://localhost:8080/",
          "height": 143
        },
        "id": "ifwI_ao-jNkQ",
        "outputId": "d7124b5d-57cb-4389-b177-a4033acc4801"
      },
      "outputs": [
        {
          "data": {
            "text/html": [
              "<div>\n",
              "<style scoped>\n",
              "    .dataframe tbody tr th:only-of-type {\n",
              "        vertical-align: middle;\n",
              "    }\n",
              "\n",
              "    .dataframe tbody tr th {\n",
              "        vertical-align: top;\n",
              "    }\n",
              "\n",
              "    .dataframe thead th {\n",
              "        text-align: right;\n",
              "    }\n",
              "</style>\n",
              "<table border=\"1\" class=\"dataframe\">\n",
              "  <thead>\n",
              "    <tr style=\"text-align: right;\">\n",
              "      <th></th>\n",
              "      <th>메뉴</th>\n",
              "      <th>가격</th>\n",
              "    </tr>\n",
              "  </thead>\n",
              "  <tbody>\n",
              "    <tr>\n",
              "      <th>0</th>\n",
              "      <td>비빔밥</td>\n",
              "      <td>10000</td>\n",
              "    </tr>\n",
              "    <tr>\n",
              "      <th>1</th>\n",
              "      <td>김치찌게</td>\n",
              "      <td>9000</td>\n",
              "    </tr>\n",
              "    <tr>\n",
              "      <th>2</th>\n",
              "      <td>된장찌게</td>\n",
              "      <td>8000</td>\n",
              "    </tr>\n",
              "  </tbody>\n",
              "</table>\n",
              "</div>"
            ],
            "text/plain": [
              "     메뉴     가격\n",
              "0   비빔밥  10000\n",
              "1  김치찌게   9000\n",
              "2  된장찌게   8000"
            ]
          },
          "execution_count": 8,
          "metadata": {},
          "output_type": "execute_result"
        }
      ],
      "source": [
        "# 복수의 컬럼 선택 = 데이터프레임 자료형\n",
        "df[['메뉴', '가격']]"
      ]
    },
    {
      "cell_type": "code",
      "execution_count": 9,
      "metadata": {
        "colab": {
          "base_uri": "https://localhost:8080/",
          "height": 143
        },
        "id": "Qe5jybTLpPNE",
        "outputId": "e59764e0-b090-4cd4-dbe7-93037b36ab94"
      },
      "outputs": [
        {
          "data": {
            "text/html": [
              "<div>\n",
              "<style scoped>\n",
              "    .dataframe tbody tr th:only-of-type {\n",
              "        vertical-align: middle;\n",
              "    }\n",
              "\n",
              "    .dataframe tbody tr th {\n",
              "        vertical-align: top;\n",
              "    }\n",
              "\n",
              "    .dataframe thead th {\n",
              "        text-align: right;\n",
              "    }\n",
              "</style>\n",
              "<table border=\"1\" class=\"dataframe\">\n",
              "  <thead>\n",
              "    <tr style=\"text-align: right;\">\n",
              "      <th></th>\n",
              "      <th>메뉴</th>\n",
              "      <th>가격</th>\n",
              "    </tr>\n",
              "  </thead>\n",
              "  <tbody>\n",
              "    <tr>\n",
              "      <th>0</th>\n",
              "      <td>비빔밥</td>\n",
              "      <td>10000</td>\n",
              "    </tr>\n",
              "    <tr>\n",
              "      <th>1</th>\n",
              "      <td>김치찌게</td>\n",
              "      <td>9000</td>\n",
              "    </tr>\n",
              "    <tr>\n",
              "      <th>2</th>\n",
              "      <td>된장찌게</td>\n",
              "      <td>8000</td>\n",
              "    </tr>\n",
              "  </tbody>\n",
              "</table>\n",
              "</div>"
            ],
            "text/plain": [
              "     메뉴     가격\n",
              "0   비빔밥  10000\n",
              "1  김치찌게   9000\n",
              "2  된장찌게   8000"
            ]
          },
          "execution_count": 9,
          "metadata": {},
          "output_type": "execute_result"
        }
      ],
      "source": [
        "# 데이터프레임 선택 (가격)\n",
        "# 컬럼을 복수로 선택할 때는 주로 리스트를 활용한다.\n",
        "cols = ['메뉴', '가격']\n",
        "df[cols]"
      ]
    },
    {
      "cell_type": "code",
      "execution_count": 10,
      "metadata": {
        "colab": {
          "base_uri": "https://localhost:8080/"
        },
        "id": "4RkRWsM87DY5",
        "outputId": "5782bf5d-36d9-41d5-b342-fe90c9c57989"
      },
      "outputs": [
        {
          "name": "stdout",
          "output_type": "stream",
          "text": [
            "df          :  <class 'pandas.core.frame.DataFrame'>\n",
            "df['가격']   :  <class 'pandas.core.series.Series'>\n",
            "df[['가격']] :  <class 'pandas.core.frame.DataFrame'>\n"
          ]
        }
      ],
      "source": [
        "# 데이터 프레임 type 확인\n",
        "print(\"df          : \", type(df))\n",
        "print(\"df['가격']   : \", type(df['가격']))\n",
        "print(\"df[['가격']] : \", type(df[['가격']]))"
      ]
    },
    {
      "cell_type": "markdown",
      "metadata": {
        "id": "ivVkNq9KkBZy"
      },
      "source": [
        "## Section2. 데이터 저장 및 불러오기"
      ]
    },
    {
      "cell_type": "code",
      "execution_count": 11,
      "metadata": {
        "colab": {
          "base_uri": "https://localhost:8080/",
          "height": 268
        },
        "id": "mxLWvmgPAG_n",
        "outputId": "8b3968ea-c0e5-48b5-9bf3-28862be91a2b"
      },
      "outputs": [
        {
          "data": {
            "text/html": [
              "<div>\n",
              "<style scoped>\n",
              "    .dataframe tbody tr th:only-of-type {\n",
              "        vertical-align: middle;\n",
              "    }\n",
              "\n",
              "    .dataframe tbody tr th {\n",
              "        vertical-align: top;\n",
              "    }\n",
              "\n",
              "    .dataframe thead th {\n",
              "        text-align: right;\n",
              "    }\n",
              "</style>\n",
              "<table border=\"1\" class=\"dataframe\">\n",
              "  <thead>\n",
              "    <tr style=\"text-align: right;\">\n",
              "      <th></th>\n",
              "      <th>메뉴</th>\n",
              "      <th>가격</th>\n",
              "      <th>칼로리</th>\n",
              "    </tr>\n",
              "  </thead>\n",
              "  <tbody>\n",
              "    <tr>\n",
              "      <th>0</th>\n",
              "      <td>아메리카노</td>\n",
              "      <td>4500</td>\n",
              "      <td>10</td>\n",
              "    </tr>\n",
              "    <tr>\n",
              "      <th>1</th>\n",
              "      <td>카페라떼</td>\n",
              "      <td>5000</td>\n",
              "      <td>110</td>\n",
              "    </tr>\n",
              "    <tr>\n",
              "      <th>2</th>\n",
              "      <td>카페모카</td>\n",
              "      <td>5500</td>\n",
              "      <td>250</td>\n",
              "    </tr>\n",
              "    <tr>\n",
              "      <th>3</th>\n",
              "      <td>카푸치노</td>\n",
              "      <td>5000</td>\n",
              "      <td>110</td>\n",
              "    </tr>\n",
              "    <tr>\n",
              "      <th>4</th>\n",
              "      <td>에스프레소</td>\n",
              "      <td>4000</td>\n",
              "      <td>20</td>\n",
              "    </tr>\n",
              "    <tr>\n",
              "      <th>5</th>\n",
              "      <td>밀크티</td>\n",
              "      <td>5900</td>\n",
              "      <td>210</td>\n",
              "    </tr>\n",
              "    <tr>\n",
              "      <th>6</th>\n",
              "      <td>녹차</td>\n",
              "      <td>5300</td>\n",
              "      <td>0</td>\n",
              "    </tr>\n",
              "  </tbody>\n",
              "</table>\n",
              "</div>"
            ],
            "text/plain": [
              "      메뉴    가격  칼로리\n",
              "0  아메리카노  4500   10\n",
              "1   카페라떼  5000  110\n",
              "2   카페모카  5500  250\n",
              "3   카푸치노  5000  110\n",
              "4  에스프레소  4000   20\n",
              "5    밀크티  5900  210\n",
              "6     녹차  5300    0"
            ]
          },
          "execution_count": 11,
          "metadata": {},
          "output_type": "execute_result"
        }
      ],
      "source": [
        "# 데이터 준비\n",
        "df = pd.DataFrame({\n",
        "    \"메뉴\":['아메리카노', '카페라떼', '카페모카', '카푸치노', '에스프레소', '밀크티', '녹차'],\n",
        "    \"가격\":[4500, 5000, 5500, 5000, 4000, 5900, 5300],\n",
        "    \"칼로리\":[10, 110, 250, 110, 20, 210, 0],\n",
        "})\n",
        "df"
      ]
    },
    {
      "cell_type": "code",
      "execution_count": 12,
      "metadata": {
        "id": "FZSfcU3Ly-Ma"
      },
      "outputs": [],
      "source": [
        "df.to_csv('temp.csv')"
      ]
    },
    {
      "cell_type": "code",
      "execution_count": 13,
      "metadata": {
        "colab": {
          "base_uri": "https://localhost:8080/",
          "height": 206
        },
        "id": "5M5bv9bryMYV",
        "outputId": "6bc64092-17f1-4a8e-b5da-1fd36036557d"
      },
      "outputs": [
        {
          "data": {
            "text/html": [
              "<div>\n",
              "<style scoped>\n",
              "    .dataframe tbody tr th:only-of-type {\n",
              "        vertical-align: middle;\n",
              "    }\n",
              "\n",
              "    .dataframe tbody tr th {\n",
              "        vertical-align: top;\n",
              "    }\n",
              "\n",
              "    .dataframe thead th {\n",
              "        text-align: right;\n",
              "    }\n",
              "</style>\n",
              "<table border=\"1\" class=\"dataframe\">\n",
              "  <thead>\n",
              "    <tr style=\"text-align: right;\">\n",
              "      <th></th>\n",
              "      <th>Unnamed: 0</th>\n",
              "      <th>메뉴</th>\n",
              "      <th>가격</th>\n",
              "      <th>칼로리</th>\n",
              "    </tr>\n",
              "  </thead>\n",
              "  <tbody>\n",
              "    <tr>\n",
              "      <th>0</th>\n",
              "      <td>0</td>\n",
              "      <td>아메리카노</td>\n",
              "      <td>4500</td>\n",
              "      <td>10</td>\n",
              "    </tr>\n",
              "    <tr>\n",
              "      <th>1</th>\n",
              "      <td>1</td>\n",
              "      <td>카페라떼</td>\n",
              "      <td>5000</td>\n",
              "      <td>110</td>\n",
              "    </tr>\n",
              "    <tr>\n",
              "      <th>2</th>\n",
              "      <td>2</td>\n",
              "      <td>카페모카</td>\n",
              "      <td>5500</td>\n",
              "      <td>250</td>\n",
              "    </tr>\n",
              "    <tr>\n",
              "      <th>3</th>\n",
              "      <td>3</td>\n",
              "      <td>카푸치노</td>\n",
              "      <td>5000</td>\n",
              "      <td>110</td>\n",
              "    </tr>\n",
              "    <tr>\n",
              "      <th>4</th>\n",
              "      <td>4</td>\n",
              "      <td>에스프레소</td>\n",
              "      <td>4000</td>\n",
              "      <td>20</td>\n",
              "    </tr>\n",
              "  </tbody>\n",
              "</table>\n",
              "</div>"
            ],
            "text/plain": [
              "   Unnamed: 0     메뉴    가격  칼로리\n",
              "0           0  아메리카노  4500   10\n",
              "1           1   카페라떼  5000  110\n",
              "2           2   카페모카  5500  250\n",
              "3           3   카푸치노  5000  110\n",
              "4           4  에스프레소  4000   20"
            ]
          },
          "execution_count": 13,
          "metadata": {},
          "output_type": "execute_result"
        }
      ],
      "source": [
        "# Unnamed: 0 컬럼은 데이터를 저장할 때 기본 설정으로 기존 인덱스가 값으로 함께 저장된 것이다.\n",
        "# 가장 왼쪽에 있는 인덱스는 pd.read_csv()로 데이터를 불러올 때 새로 생성된 인덱스다.\n",
        "temp_df = pd.read_csv('temp.csv')\n",
        "temp_df.head()"
      ]
    },
    {
      "cell_type": "code",
      "execution_count": 14,
      "metadata": {
        "colab": {
          "base_uri": "https://localhost:8080/",
          "height": 206
        },
        "id": "IfcRjmL0kETD",
        "outputId": "9c837263-92c7-479d-b6a8-125d8b361d5c"
      },
      "outputs": [
        {
          "data": {
            "text/html": [
              "<div>\n",
              "<style scoped>\n",
              "    .dataframe tbody tr th:only-of-type {\n",
              "        vertical-align: middle;\n",
              "    }\n",
              "\n",
              "    .dataframe tbody tr th {\n",
              "        vertical-align: top;\n",
              "    }\n",
              "\n",
              "    .dataframe thead th {\n",
              "        text-align: right;\n",
              "    }\n",
              "</style>\n",
              "<table border=\"1\" class=\"dataframe\">\n",
              "  <thead>\n",
              "    <tr style=\"text-align: right;\">\n",
              "      <th></th>\n",
              "      <th>메뉴</th>\n",
              "      <th>가격</th>\n",
              "      <th>칼로리</th>\n",
              "    </tr>\n",
              "  </thead>\n",
              "  <tbody>\n",
              "    <tr>\n",
              "      <th>0</th>\n",
              "      <td>아메리카노</td>\n",
              "      <td>4500</td>\n",
              "      <td>10</td>\n",
              "    </tr>\n",
              "    <tr>\n",
              "      <th>1</th>\n",
              "      <td>카페라떼</td>\n",
              "      <td>5000</td>\n",
              "      <td>110</td>\n",
              "    </tr>\n",
              "    <tr>\n",
              "      <th>2</th>\n",
              "      <td>카페모카</td>\n",
              "      <td>5500</td>\n",
              "      <td>250</td>\n",
              "    </tr>\n",
              "    <tr>\n",
              "      <th>3</th>\n",
              "      <td>카푸치노</td>\n",
              "      <td>5000</td>\n",
              "      <td>110</td>\n",
              "    </tr>\n",
              "    <tr>\n",
              "      <th>4</th>\n",
              "      <td>에스프레소</td>\n",
              "      <td>4000</td>\n",
              "      <td>20</td>\n",
              "    </tr>\n",
              "  </tbody>\n",
              "</table>\n",
              "</div>"
            ],
            "text/plain": [
              "      메뉴    가격  칼로리\n",
              "0  아메리카노  4500   10\n",
              "1   카페라떼  5000  110\n",
              "2   카페모카  5500  250\n",
              "3   카푸치노  5000  110\n",
              "4  에스프레소  4000   20"
            ]
          },
          "execution_count": 14,
          "metadata": {},
          "output_type": "execute_result"
        }
      ],
      "source": [
        "# 데이터 불러오기\n",
        "# 인덱스를 제외하고 저장하기 위해 index=false로 설정한다.(필수!)\n",
        "df.to_csv('cafe.csv', index=False)\n",
        "df = pd.read_csv('cafe.csv')\n",
        "df.head()"
      ]
    },
    {
      "cell_type": "code",
      "execution_count": 15,
      "metadata": {},
      "outputs": [
        {
          "data": {
            "text/html": [
              "<div>\n",
              "<style scoped>\n",
              "    .dataframe tbody tr th:only-of-type {\n",
              "        vertical-align: middle;\n",
              "    }\n",
              "\n",
              "    .dataframe tbody tr th {\n",
              "        vertical-align: top;\n",
              "    }\n",
              "\n",
              "    .dataframe thead th {\n",
              "        text-align: right;\n",
              "    }\n",
              "</style>\n",
              "<table border=\"1\" class=\"dataframe\">\n",
              "  <thead>\n",
              "    <tr style=\"text-align: right;\">\n",
              "      <th></th>\n",
              "      <th>메뉴</th>\n",
              "      <th>가격</th>\n",
              "    </tr>\n",
              "  </thead>\n",
              "  <tbody>\n",
              "    <tr>\n",
              "      <th>0</th>\n",
              "      <td>아메리카노</td>\n",
              "      <td>4500</td>\n",
              "    </tr>\n",
              "    <tr>\n",
              "      <th>1</th>\n",
              "      <td>카페라떼</td>\n",
              "      <td>5000</td>\n",
              "    </tr>\n",
              "    <tr>\n",
              "      <th>2</th>\n",
              "      <td>카페모카</td>\n",
              "      <td>5500</td>\n",
              "    </tr>\n",
              "    <tr>\n",
              "      <th>3</th>\n",
              "      <td>카푸치노</td>\n",
              "      <td>5000</td>\n",
              "    </tr>\n",
              "    <tr>\n",
              "      <th>4</th>\n",
              "      <td>에스프레소</td>\n",
              "      <td>4000</td>\n",
              "    </tr>\n",
              "    <tr>\n",
              "      <th>5</th>\n",
              "      <td>밀크티</td>\n",
              "      <td>5900</td>\n",
              "    </tr>\n",
              "    <tr>\n",
              "      <th>6</th>\n",
              "      <td>녹차</td>\n",
              "      <td>5300</td>\n",
              "    </tr>\n",
              "  </tbody>\n",
              "</table>\n",
              "</div>"
            ],
            "text/plain": [
              "      메뉴    가격\n",
              "0  아메리카노  4500\n",
              "1   카페라떼  5000\n",
              "2   카페모카  5500\n",
              "3   카푸치노  5000\n",
              "4  에스프레소  4000\n",
              "5    밀크티  5900\n",
              "6     녹차  5300"
            ]
          },
          "execution_count": 15,
          "metadata": {},
          "output_type": "execute_result"
        }
      ],
      "source": [
        "# 데이터 불러오기 옵션\n",
        "# 1.index_col : 인덱스로 사용할 컬럼명 또는 열의 번호를 지정할 수 있음\n",
        "# pd.read_csv('data.csv', index_col='컬럼명')\n",
        "# pd.read_csv('data.csv', index_col=0)\n",
        "\n",
        "# 2.usecols : 불러올 컬럼명 또는 열의 번호를 지정\n",
        "pd.read_csv('cafe.csv', usecols=['메뉴', '가격']) \n",
        "\n",
        "# 3.parse_dates : 데이터를 불러올 때, 문자열로 된 컬럼을 날짜 datetime으로 파싱함\n",
        "# pd.read_csv('data.csv', parse_dates=['컬럼명'])\n",
        "\n",
        "# 4.encoding : 판다스는 utf-8을 기본 인코딩 방식으로 사용한다. 인코딩 방식을 변경할 수 있다.\n",
        "# pd.read_csv('data.csv', encoding='cp949')\n",
        "# pd.read_csv('data.csv', encoding='euc-kr')"
      ]
    },
    {
      "cell_type": "markdown",
      "metadata": {
        "id": "X3jMeN1kkBch"
      },
      "source": [
        "## Section3. 탐색적 데이터 분석(EDA)\n",
        "\n",
        "EDA는 데이터를 탐색하고 이해하기 위해 수행한다. 데이터를 다양한 각도에서 관찰하고 이해하자.\n",
        "결측치, 이상치, 패턴, 변수 파악 등 데이터 전처리를 하기 전에 데이터에 대한 이해를 돕는 중요한 단계다."
      ]
    },
    {
      "cell_type": "code",
      "execution_count": 16,
      "metadata": {
        "colab": {
          "base_uri": "https://localhost:8080/",
          "height": 112
        },
        "id": "1MfIlboqJViO",
        "outputId": "6d8913b0-b60a-4501-87eb-610bf4a665f1"
      },
      "outputs": [
        {
          "data": {
            "text/html": [
              "<div>\n",
              "<style scoped>\n",
              "    .dataframe tbody tr th:only-of-type {\n",
              "        vertical-align: middle;\n",
              "    }\n",
              "\n",
              "    .dataframe tbody tr th {\n",
              "        vertical-align: top;\n",
              "    }\n",
              "\n",
              "    .dataframe thead th {\n",
              "        text-align: right;\n",
              "    }\n",
              "</style>\n",
              "<table border=\"1\" class=\"dataframe\">\n",
              "  <thead>\n",
              "    <tr style=\"text-align: right;\">\n",
              "      <th></th>\n",
              "      <th>메뉴</th>\n",
              "      <th>가격</th>\n",
              "      <th>칼로리</th>\n",
              "    </tr>\n",
              "  </thead>\n",
              "  <tbody>\n",
              "    <tr>\n",
              "      <th>0</th>\n",
              "      <td>아메리카노</td>\n",
              "      <td>4500</td>\n",
              "      <td>10</td>\n",
              "    </tr>\n",
              "    <tr>\n",
              "      <th>1</th>\n",
              "      <td>카페라떼</td>\n",
              "      <td>5000</td>\n",
              "      <td>110</td>\n",
              "    </tr>\n",
              "  </tbody>\n",
              "</table>\n",
              "</div>"
            ],
            "text/plain": [
              "      메뉴    가격  칼로리\n",
              "0  아메리카노  4500   10\n",
              "1   카페라떼  5000  110"
            ]
          },
          "execution_count": 16,
          "metadata": {},
          "output_type": "execute_result"
        }
      ],
      "source": [
        "# 데이터 샘플 확인: 앞에서 부터 N개 (기본 5개)\n",
        "df.head(2)"
      ]
    },
    {
      "cell_type": "code",
      "execution_count": 17,
      "metadata": {
        "colab": {
          "base_uri": "https://localhost:8080/",
          "height": 143
        },
        "id": "02U-Sel2OfP1",
        "outputId": "699f46c1-2171-4e4c-d3d6-0c2b3c0bee48"
      },
      "outputs": [
        {
          "data": {
            "text/html": [
              "<div>\n",
              "<style scoped>\n",
              "    .dataframe tbody tr th:only-of-type {\n",
              "        vertical-align: middle;\n",
              "    }\n",
              "\n",
              "    .dataframe tbody tr th {\n",
              "        vertical-align: top;\n",
              "    }\n",
              "\n",
              "    .dataframe thead th {\n",
              "        text-align: right;\n",
              "    }\n",
              "</style>\n",
              "<table border=\"1\" class=\"dataframe\">\n",
              "  <thead>\n",
              "    <tr style=\"text-align: right;\">\n",
              "      <th></th>\n",
              "      <th>메뉴</th>\n",
              "      <th>가격</th>\n",
              "      <th>칼로리</th>\n",
              "    </tr>\n",
              "  </thead>\n",
              "  <tbody>\n",
              "    <tr>\n",
              "      <th>4</th>\n",
              "      <td>에스프레소</td>\n",
              "      <td>4000</td>\n",
              "      <td>20</td>\n",
              "    </tr>\n",
              "    <tr>\n",
              "      <th>5</th>\n",
              "      <td>밀크티</td>\n",
              "      <td>5900</td>\n",
              "      <td>210</td>\n",
              "    </tr>\n",
              "    <tr>\n",
              "      <th>6</th>\n",
              "      <td>녹차</td>\n",
              "      <td>5300</td>\n",
              "      <td>0</td>\n",
              "    </tr>\n",
              "  </tbody>\n",
              "</table>\n",
              "</div>"
            ],
            "text/plain": [
              "      메뉴    가격  칼로리\n",
              "4  에스프레소  4000   20\n",
              "5    밀크티  5900  210\n",
              "6     녹차  5300    0"
            ]
          },
          "execution_count": 17,
          "metadata": {},
          "output_type": "execute_result"
        }
      ],
      "source": [
        "# 데이터 샘플 확인: 뒤에서 부터 N개 (기본 5개)\n",
        "df.tail(3)"
      ]
    },
    {
      "cell_type": "code",
      "execution_count": 22,
      "metadata": {
        "colab": {
          "base_uri": "https://localhost:8080/",
          "height": 143
        },
        "id": "lQ7zecxqNAfJ",
        "outputId": "64075eb4-17ab-4123-8d16-3b2020b84fd9"
      },
      "outputs": [
        {
          "data": {
            "text/html": [
              "<div>\n",
              "<style scoped>\n",
              "    .dataframe tbody tr th:only-of-type {\n",
              "        vertical-align: middle;\n",
              "    }\n",
              "\n",
              "    .dataframe tbody tr th {\n",
              "        vertical-align: top;\n",
              "    }\n",
              "\n",
              "    .dataframe thead th {\n",
              "        text-align: right;\n",
              "    }\n",
              "</style>\n",
              "<table border=\"1\" class=\"dataframe\">\n",
              "  <thead>\n",
              "    <tr style=\"text-align: right;\">\n",
              "      <th></th>\n",
              "      <th>메뉴</th>\n",
              "      <th>가격</th>\n",
              "      <th>칼로리</th>\n",
              "    </tr>\n",
              "  </thead>\n",
              "  <tbody>\n",
              "    <tr>\n",
              "      <th>3</th>\n",
              "      <td>카푸치노</td>\n",
              "      <td>5000</td>\n",
              "      <td>110</td>\n",
              "    </tr>\n",
              "  </tbody>\n",
              "</table>\n",
              "</div>"
            ],
            "text/plain": [
              "     메뉴    가격  칼로리\n",
              "3  카푸치노  5000  110"
            ]
          },
          "execution_count": 22,
          "metadata": {},
          "output_type": "execute_result"
        }
      ],
      "source": [
        "# 데이터 샘플 확인: 임의로 샘플링해 N개의 행을 반환 (기본 1개)\n",
        "# 실행할 때마다 다른 결과를 샘플링해 보여준다.\n",
        "df.sample()"
      ]
    },
    {
      "cell_type": "code",
      "execution_count": 23,
      "metadata": {
        "colab": {
          "base_uri": "https://localhost:8080/"
        },
        "id": "YuFrJ_D97hPD",
        "outputId": "5a818545-e8f0-4c14-bb75-b93d0b1c4d5d"
      },
      "outputs": [
        {
          "data": {
            "text/plain": [
              "(7, 3)"
            ]
          },
          "execution_count": 23,
          "metadata": {},
          "output_type": "execute_result"
        }
      ],
      "source": [
        "# 데이터 프레임 크기 (행, 컬럼)\n",
        "# 주의) 뒤에 괄호가 없다.\n",
        "# shape는 데이터프레임의 속성이어서 괄호가 없고, head(), tail() 등은 함수 형태라서 괄호가 존재한다.\n",
        "df.shape"
      ]
    },
    {
      "cell_type": "code",
      "execution_count": 24,
      "metadata": {
        "colab": {
          "base_uri": "https://localhost:8080/"
        },
        "id": "iKlsLu1a9une",
        "outputId": "a78abedb-918b-460b-98c2-53e0622bb692"
      },
      "outputs": [
        {
          "name": "stdout",
          "output_type": "stream",
          "text": [
            "<class 'pandas.core.frame.DataFrame'>\n",
            "RangeIndex: 7 entries, 0 to 6\n",
            "Data columns (total 3 columns):\n",
            " #   Column  Non-Null Count  Dtype \n",
            "---  ------  --------------  ----- \n",
            " 0   메뉴      7 non-null      object\n",
            " 1   가격      7 non-null      int64 \n",
            " 2   칼로리     7 non-null      int64 \n",
            "dtypes: int64(2), object(1)\n",
            "memory usage: 300.0+ bytes\n"
          ]
        }
      ],
      "source": [
        "# 컬럼 형태(type)\n",
        "# 데이터프레임 안 컬럼의 자료형을 확인한다.\n",
        "df.info()"
      ]
    },
    {
      "cell_type": "markdown",
      "metadata": {},
      "source": [
        "### 상관 관계\n",
        "\n",
        "상관관계를 확인할 수 있다. 가격과 칼로리는 0.7의 양의 상관 관계를 가진다.\n",
        "\n",
        "데이터프레임에 숫자형과 문자형 컬럼이 혼합되어 있을 때 corr(), mean(), sum() 같은 함수를 사용하면 에러가 발생한다.\n",
        "- ValueError : 문자열 데이터를 숫자로 변환할 수 없음\n",
        "\n",
        "따라서 해당 함수에 numeric_only=True 옵션을 추가해주어야 한다.\n",
        "\n",
        "시험 환경은 낮은 판다스 버전이기 때문에 설정이 따로 필요없다!"
      ]
    },
    {
      "cell_type": "code",
      "execution_count": 25,
      "metadata": {
        "colab": {
          "base_uri": "https://localhost:8080/",
          "height": 112
        },
        "id": "uwlBwxnQk2lr",
        "outputId": "6840072e-b9c4-43ae-9110-00962bf2409b"
      },
      "outputs": [
        {
          "data": {
            "text/html": [
              "<div>\n",
              "<style scoped>\n",
              "    .dataframe tbody tr th:only-of-type {\n",
              "        vertical-align: middle;\n",
              "    }\n",
              "\n",
              "    .dataframe tbody tr th {\n",
              "        vertical-align: top;\n",
              "    }\n",
              "\n",
              "    .dataframe thead th {\n",
              "        text-align: right;\n",
              "    }\n",
              "</style>\n",
              "<table border=\"1\" class=\"dataframe\">\n",
              "  <thead>\n",
              "    <tr style=\"text-align: right;\">\n",
              "      <th></th>\n",
              "      <th>가격</th>\n",
              "      <th>칼로리</th>\n",
              "    </tr>\n",
              "  </thead>\n",
              "  <tbody>\n",
              "    <tr>\n",
              "      <th>가격</th>\n",
              "      <td>1.000000</td>\n",
              "      <td>0.713227</td>\n",
              "    </tr>\n",
              "    <tr>\n",
              "      <th>칼로리</th>\n",
              "      <td>0.713227</td>\n",
              "      <td>1.000000</td>\n",
              "    </tr>\n",
              "  </tbody>\n",
              "</table>\n",
              "</div>"
            ],
            "text/plain": [
              "           가격       칼로리\n",
              "가격   1.000000  0.713227\n",
              "칼로리  0.713227  1.000000"
            ]
          },
          "execution_count": 25,
          "metadata": {},
          "output_type": "execute_result"
        }
      ],
      "source": [
        "# 상관관계 corr\n",
        "df.corr(numeric_only=True)"
      ]
    },
    {
      "cell_type": "markdown",
      "metadata": {},
      "source": [
        "### 범주형 데이터 탐색"
      ]
    },
    {
      "cell_type": "code",
      "execution_count": 26,
      "metadata": {
        "colab": {
          "base_uri": "https://localhost:8080/",
          "height": 143
        },
        "id": "iv_EDy1nPaCt",
        "outputId": "b4f0d619-8a9f-40dd-d2e7-9a1b36f54a54"
      },
      "outputs": [
        {
          "data": {
            "text/html": [
              "<div>\n",
              "<style scoped>\n",
              "    .dataframe tbody tr th:only-of-type {\n",
              "        vertical-align: middle;\n",
              "    }\n",
              "\n",
              "    .dataframe tbody tr th {\n",
              "        vertical-align: top;\n",
              "    }\n",
              "\n",
              "    .dataframe thead th {\n",
              "        text-align: right;\n",
              "    }\n",
              "</style>\n",
              "<table border=\"1\" class=\"dataframe\">\n",
              "  <thead>\n",
              "    <tr style=\"text-align: right;\">\n",
              "      <th></th>\n",
              "      <th>car</th>\n",
              "      <th>size</th>\n",
              "    </tr>\n",
              "  </thead>\n",
              "  <tbody>\n",
              "    <tr>\n",
              "      <th>0</th>\n",
              "      <td>Sedan</td>\n",
              "      <td>S</td>\n",
              "    </tr>\n",
              "    <tr>\n",
              "      <th>1</th>\n",
              "      <td>SUV</td>\n",
              "      <td>M</td>\n",
              "    </tr>\n",
              "    <tr>\n",
              "      <th>2</th>\n",
              "      <td>Sedan</td>\n",
              "      <td>S</td>\n",
              "    </tr>\n",
              "  </tbody>\n",
              "</table>\n",
              "</div>"
            ],
            "text/plain": [
              "     car size\n",
              "0  Sedan    S\n",
              "1    SUV    M\n",
              "2  Sedan    S"
            ]
          },
          "execution_count": 26,
          "metadata": {},
          "output_type": "execute_result"
        }
      ],
      "source": [
        "# 중복 값이 있는 데이터 생성\n",
        "df_car = pd.DataFrame({\n",
        "    \"car\":['Sedan','SUV','Sedan','SUV','SUV','SUV','Sedan','Sedan','Sedan','Sedan','Sedan'],\n",
        "    \"size\":['S','M','S','S','M','M','L','S','S', 'M','S']\n",
        "})\n",
        "df_car.head(3)"
      ]
    },
    {
      "cell_type": "code",
      "execution_count": 27,
      "metadata": {
        "colab": {
          "base_uri": "https://localhost:8080/",
          "height": 146
        },
        "id": "af52xRBGRS-6",
        "outputId": "ea3ab528-7db6-4a24-d036-639209776229"
      },
      "outputs": [
        {
          "data": {
            "text/plain": [
              "car     2\n",
              "size    3\n",
              "dtype: int64"
            ]
          },
          "execution_count": 27,
          "metadata": {},
          "output_type": "execute_result"
        }
      ],
      "source": [
        "# 항목 종류 수 nunique()\n",
        "# 데이터프레임에서 컬럼별로 고유한 값의 개수를 찾는다.\n",
        "df_car.nunique()"
      ]
    },
    {
      "cell_type": "code",
      "execution_count": 28,
      "metadata": {
        "colab": {
          "base_uri": "https://localhost:8080/"
        },
        "id": "xWGrMhivBlCj",
        "outputId": "de2c76bb-77f1-42dc-b07e-3ad032e6597f"
      },
      "outputs": [
        {
          "name": "stdout",
          "output_type": "stream",
          "text": [
            "['Sedan' 'SUV']\n",
            "['S' 'M' 'L']\n"
          ]
        }
      ],
      "source": [
        "# 항목 종류\n",
        "# 구체적인 항목을 파악할 수 있다.\n",
        "print(df_car['car'].unique())\n",
        "print(df_car['size'].unique())"
      ]
    },
    {
      "cell_type": "code",
      "execution_count": 29,
      "metadata": {
        "colab": {
          "base_uri": "https://localhost:8080/"
        },
        "id": "3hZtvaAjPaLO",
        "outputId": "b5e9e1d2-ae9e-4169-d659-c2a901a5095b"
      },
      "outputs": [
        {
          "name": "stdout",
          "output_type": "stream",
          "text": [
            "car\n",
            "Sedan    7\n",
            "SUV      4\n",
            "Name: count, dtype: int64\n",
            "size\n",
            "S    6\n",
            "M    4\n",
            "L    1\n",
            "Name: count, dtype: int64\n"
          ]
        }
      ],
      "source": [
        "# 항목별 개수(중요)\n",
        "# 주로 시리즈(데이터프레임 특정 컬럼)에 적용하여 많이 사용한다.\n",
        "print(df_car['car'].value_counts())\n",
        "print(df_car['size'].value_counts())"
      ]
    },
    {
      "cell_type": "markdown",
      "metadata": {},
      "source": [
        "### 기술통계\n",
        "\n",
        "**수치형 데이터**\n",
        "- count: 값이 있는 데이터 수\n",
        "- mean\n",
        "- std: 표준편차\n",
        "- min\n",
        "- 00%: 백분위수에서 00%\n",
        "- max\n",
        "\n",
        "**object 자료형**\n",
        "- count: 값이 있는 데이터 수\n",
        "- unique: 고유한 데이터 수(종류)\n",
        "- top: 최빈값\n",
        "- freq: 가장 많이 나오는 값의 빈도 수"
      ]
    },
    {
      "cell_type": "code",
      "execution_count": 30,
      "metadata": {
        "colab": {
          "base_uri": "https://localhost:8080/",
          "height": 300
        },
        "id": "IUcx4Y32Rlsb",
        "outputId": "b7a59ef1-42f4-40aa-9ce2-5f9079d4a07a"
      },
      "outputs": [
        {
          "data": {
            "text/html": [
              "<div>\n",
              "<style scoped>\n",
              "    .dataframe tbody tr th:only-of-type {\n",
              "        vertical-align: middle;\n",
              "    }\n",
              "\n",
              "    .dataframe tbody tr th {\n",
              "        vertical-align: top;\n",
              "    }\n",
              "\n",
              "    .dataframe thead th {\n",
              "        text-align: right;\n",
              "    }\n",
              "</style>\n",
              "<table border=\"1\" class=\"dataframe\">\n",
              "  <thead>\n",
              "    <tr style=\"text-align: right;\">\n",
              "      <th></th>\n",
              "      <th>가격</th>\n",
              "      <th>칼로리</th>\n",
              "    </tr>\n",
              "  </thead>\n",
              "  <tbody>\n",
              "    <tr>\n",
              "      <th>count</th>\n",
              "      <td>7.000000</td>\n",
              "      <td>7.000000</td>\n",
              "    </tr>\n",
              "    <tr>\n",
              "      <th>mean</th>\n",
              "      <td>5028.571429</td>\n",
              "      <td>101.428571</td>\n",
              "    </tr>\n",
              "    <tr>\n",
              "      <th>std</th>\n",
              "      <td>631.702160</td>\n",
              "      <td>99.402980</td>\n",
              "    </tr>\n",
              "    <tr>\n",
              "      <th>min</th>\n",
              "      <td>4000.000000</td>\n",
              "      <td>0.000000</td>\n",
              "    </tr>\n",
              "    <tr>\n",
              "      <th>25%</th>\n",
              "      <td>4750.000000</td>\n",
              "      <td>15.000000</td>\n",
              "    </tr>\n",
              "    <tr>\n",
              "      <th>50%</th>\n",
              "      <td>5000.000000</td>\n",
              "      <td>110.000000</td>\n",
              "    </tr>\n",
              "    <tr>\n",
              "      <th>75%</th>\n",
              "      <td>5400.000000</td>\n",
              "      <td>160.000000</td>\n",
              "    </tr>\n",
              "    <tr>\n",
              "      <th>max</th>\n",
              "      <td>5900.000000</td>\n",
              "      <td>250.000000</td>\n",
              "    </tr>\n",
              "  </tbody>\n",
              "</table>\n",
              "</div>"
            ],
            "text/plain": [
              "                가격         칼로리\n",
              "count     7.000000    7.000000\n",
              "mean   5028.571429  101.428571\n",
              "std     631.702160   99.402980\n",
              "min    4000.000000    0.000000\n",
              "25%    4750.000000   15.000000\n",
              "50%    5000.000000  110.000000\n",
              "75%    5400.000000  160.000000\n",
              "max    5900.000000  250.000000"
            ]
          },
          "execution_count": 30,
          "metadata": {},
          "output_type": "execute_result"
        }
      ],
      "source": [
        "# 데이터의 기술 통계량\n",
        "# 기본적으로 수치형 데이터(int, float 등)만 기본적으로 적용해 기술통계 결과를 확인할 수 있다.\n",
        "df.describe()"
      ]
    },
    {
      "cell_type": "code",
      "execution_count": 32,
      "metadata": {
        "colab": {
          "base_uri": "https://localhost:8080/",
          "height": 174
        },
        "id": "4SvhI-1hsFs0",
        "outputId": "ac638e23-04aa-441e-f37e-69ad29f92367"
      },
      "outputs": [
        {
          "data": {
            "text/html": [
              "<div>\n",
              "<style scoped>\n",
              "    .dataframe tbody tr th:only-of-type {\n",
              "        vertical-align: middle;\n",
              "    }\n",
              "\n",
              "    .dataframe tbody tr th {\n",
              "        vertical-align: top;\n",
              "    }\n",
              "\n",
              "    .dataframe thead th {\n",
              "        text-align: right;\n",
              "    }\n",
              "</style>\n",
              "<table border=\"1\" class=\"dataframe\">\n",
              "  <thead>\n",
              "    <tr style=\"text-align: right;\">\n",
              "      <th></th>\n",
              "      <th>car</th>\n",
              "      <th>size</th>\n",
              "    </tr>\n",
              "  </thead>\n",
              "  <tbody>\n",
              "    <tr>\n",
              "      <th>count</th>\n",
              "      <td>11</td>\n",
              "      <td>11</td>\n",
              "    </tr>\n",
              "    <tr>\n",
              "      <th>unique</th>\n",
              "      <td>2</td>\n",
              "      <td>3</td>\n",
              "    </tr>\n",
              "    <tr>\n",
              "      <th>top</th>\n",
              "      <td>Sedan</td>\n",
              "      <td>S</td>\n",
              "    </tr>\n",
              "    <tr>\n",
              "      <th>freq</th>\n",
              "      <td>7</td>\n",
              "      <td>6</td>\n",
              "    </tr>\n",
              "  </tbody>\n",
              "</table>\n",
              "</div>"
            ],
            "text/plain": [
              "          car size\n",
              "count      11   11\n",
              "unique      2    3\n",
              "top     Sedan    S\n",
              "freq        7    6"
            ]
          },
          "execution_count": 32,
          "metadata": {},
          "output_type": "execute_result"
        }
      ],
      "source": [
        "# 데이터 타입이 object인 기술 통계\n",
        "df_car.describe(include=\"object\")"
      ]
    },
    {
      "cell_type": "code",
      "execution_count": 33,
      "metadata": {
        "colab": {
          "base_uri": "https://localhost:8080/",
          "height": 174
        },
        "id": "ywRm8EHdaQs0",
        "outputId": "7d8db3fa-5f4a-4452-a69c-ceabb2782dcf"
      },
      "outputs": [
        {
          "data": {
            "text/html": [
              "<div>\n",
              "<style scoped>\n",
              "    .dataframe tbody tr th:only-of-type {\n",
              "        vertical-align: middle;\n",
              "    }\n",
              "\n",
              "    .dataframe tbody tr th {\n",
              "        vertical-align: top;\n",
              "    }\n",
              "\n",
              "    .dataframe thead th {\n",
              "        text-align: right;\n",
              "    }\n",
              "</style>\n",
              "<table border=\"1\" class=\"dataframe\">\n",
              "  <thead>\n",
              "    <tr style=\"text-align: right;\">\n",
              "      <th></th>\n",
              "      <th>메뉴</th>\n",
              "    </tr>\n",
              "  </thead>\n",
              "  <tbody>\n",
              "    <tr>\n",
              "      <th>count</th>\n",
              "      <td>7</td>\n",
              "    </tr>\n",
              "    <tr>\n",
              "      <th>unique</th>\n",
              "      <td>7</td>\n",
              "    </tr>\n",
              "    <tr>\n",
              "      <th>top</th>\n",
              "      <td>아메리카노</td>\n",
              "    </tr>\n",
              "    <tr>\n",
              "      <th>freq</th>\n",
              "      <td>1</td>\n",
              "    </tr>\n",
              "  </tbody>\n",
              "</table>\n",
              "</div>"
            ],
            "text/plain": [
              "           메뉴\n",
              "count       7\n",
              "unique      7\n",
              "top     아메리카노\n",
              "freq        1"
            ]
          },
          "execution_count": 33,
          "metadata": {},
          "output_type": "execute_result"
        }
      ],
      "source": [
        "df.describe(include=\"O\")"
      ]
    },
    {
      "cell_type": "markdown",
      "metadata": {
        "id": "EZJqO_MANGXX"
      },
      "source": [
        "## Section4. 자료형 변환"
      ]
    },
    {
      "cell_type": "code",
      "execution_count": null,
      "metadata": {
        "colab": {
          "base_uri": "https://localhost:8080/"
        },
        "id": "Eauy5lUXNKOS",
        "outputId": "e1067c43-7928-4ec2-c6d7-927efbc40ade"
      },
      "outputs": [],
      "source": [
        "# 데이터 준비\n",
        "data = {\n",
        "    \"메뉴\":['아메리카노', '카페라떼', '카페모카', '카푸치노', '에스프레소', '밀크티', '녹차'],\n",
        "    \"가격\":[4500.0, 5000.0, 5500.0, 5000.0, 4000.0, 5900.0, 5300.0],\n",
        "    \"칼로리\":['10', '110', '250', '110', '20', '210', '0'],\n",
        "}\n",
        "df = pd.DataFrame(data)\n",
        "df.info()"
      ]
    },
    {
      "cell_type": "code",
      "execution_count": null,
      "metadata": {
        "colab": {
          "base_uri": "https://localhost:8080/"
        },
        "id": "84n8hBVpNC_D",
        "outputId": "33928705-ff7d-4e19-e84a-d5b5e30463e4"
      },
      "outputs": [],
      "source": [
        "# 자료형 변환 / astype /  object -> int\n",
        "df['가격'] = df['가격'].astype('int')\n",
        "df.info()"
      ]
    },
    {
      "cell_type": "code",
      "execution_count": null,
      "metadata": {
        "colab": {
          "base_uri": "https://localhost:8080/"
        },
        "id": "Koc-E56FF0N3",
        "outputId": "a99c64e3-6de9-49bf-d5cd-039cda24e81d"
      },
      "outputs": [],
      "source": [
        "df['칼로리'] = df['칼로리'].astype('float')\n",
        "df.info()"
      ]
    },
    {
      "cell_type": "markdown",
      "metadata": {
        "id": "fbJ20eKMD8GX"
      },
      "source": [
        "## Section5. 새로운 컬럼 추가"
      ]
    },
    {
      "cell_type": "code",
      "execution_count": null,
      "metadata": {
        "colab": {
          "base_uri": "https://localhost:8080/",
          "height": 112
        },
        "id": "r8q3vzuPrKA8",
        "outputId": "8c1ac070-56bd-4bc1-9485-92306ef11a12"
      },
      "outputs": [],
      "source": [
        "df = pd.read_csv('cafe.csv')\n",
        "df.head(2)"
      ]
    },
    {
      "cell_type": "code",
      "execution_count": null,
      "metadata": {
        "colab": {
          "base_uri": "https://localhost:8080/",
          "height": 112
        },
        "id": "LpWpaefEQbkW",
        "outputId": "3f5d991c-3d00-4070-e041-3046a27ba9d6"
      },
      "outputs": [],
      "source": [
        "# 새로운 컬럼 추가 (값은 0)\n",
        "df['new'] = 0\n",
        "df.head(2)"
      ]
    },
    {
      "cell_type": "code",
      "execution_count": null,
      "metadata": {
        "colab": {
          "base_uri": "https://localhost:8080/",
          "height": 112
        },
        "id": "NRsejG44BUTY",
        "outputId": "a7cda83b-b88b-479e-c99a-0373353b7d85"
      },
      "outputs": [],
      "source": [
        "# 할인가 컬럼 추가\n",
        "discount = 0.2\n",
        "df['할인가'] = df['가격'] * (1-discount)\n",
        "df.head(2)"
      ]
    },
    {
      "cell_type": "markdown",
      "metadata": {
        "id": "evJPOQSlEhWB"
      },
      "source": [
        "## Section6. 데이터 삭제 (컬럼, 행)"
      ]
    },
    {
      "cell_type": "code",
      "execution_count": null,
      "metadata": {
        "colab": {
          "base_uri": "https://localhost:8080/",
          "height": 143
        },
        "id": "5BqmAo3BStj7",
        "outputId": "84938276-ce08-4421-e957-24072c7ae52d"
      },
      "outputs": [],
      "source": [
        "df = pd.read_csv('cafe.csv')\n",
        "df.head(3)"
      ]
    },
    {
      "cell_type": "markdown",
      "metadata": {
        "id": "1vHnyB8GSdxn"
      },
      "source": [
        "### 행 삭제"
      ]
    },
    {
      "cell_type": "code",
      "execution_count": null,
      "metadata": {
        "colab": {
          "base_uri": "https://localhost:8080/",
          "height": 143
        },
        "id": "EzyfhmqSGiu8",
        "outputId": "b4383557-7969-4c84-c74e-a7cf718109f1"
      },
      "outputs": [],
      "source": [
        "# 행 삭제\n",
        "df.drop(1, axis=0, inplace=True)\n",
        "df.head(3)"
      ]
    },
    {
      "cell_type": "markdown",
      "metadata": {
        "id": "fMrw9p00SXwl"
      },
      "source": [
        "### 컬럼 삭제"
      ]
    },
    {
      "cell_type": "code",
      "execution_count": null,
      "metadata": {
        "colab": {
          "base_uri": "https://localhost:8080/",
          "height": 143
        },
        "id": "bssi1thvEC0A",
        "outputId": "0ddf6dd9-b851-4fca-abca-691519af6ae3"
      },
      "outputs": [],
      "source": [
        "# 데이터 삭제\n",
        "# axis=0:행방향, axis=1:열방향(컬럼)\n",
        "df = df.drop('칼로리', axis=1)\n",
        "df.head(3)"
      ]
    },
    {
      "cell_type": "markdown",
      "metadata": {
        "id": "9e5viszADw4y"
      },
      "source": [
        "## Section7. 인덱싱/슬라이싱(loc)\n",
        "- 인덱스 명\n",
        "- 인덱스 명(범위), 컬럼 명(범위)"
      ]
    },
    {
      "cell_type": "code",
      "execution_count": null,
      "metadata": {
        "colab": {
          "base_uri": "https://localhost:8080/",
          "height": 112
        },
        "id": "5gAMs6AkXS5W",
        "outputId": "f8026e0a-3512-4e19-9331-8b79f29c66ae"
      },
      "outputs": [],
      "source": [
        "# 데이터 불러오기\n",
        "df = pd.read_csv('cafe.csv')\n",
        "df.head(2)"
      ]
    },
    {
      "cell_type": "code",
      "execution_count": null,
      "metadata": {
        "colab": {
          "base_uri": "https://localhost:8080/",
          "height": 178
        },
        "id": "dkRH4uWHIQnl",
        "outputId": "efa2192e-c577-4262-b416-6caa056944ae"
      },
      "outputs": [],
      "source": [
        "# 인덱싱 (행 전체)\n",
        "# 아메리카노\n",
        "df.loc[0]"
      ]
    },
    {
      "cell_type": "code",
      "execution_count": null,
      "metadata": {
        "colab": {
          "base_uri": "https://localhost:8080/"
        },
        "id": "OccrSqyII8LV",
        "outputId": "e11facbe-ffe1-4953-fb4f-3bbcc4e282e2"
      },
      "outputs": [],
      "source": [
        "# 카페라떼 가격\n",
        "df.loc[1, \"가격\"]"
      ]
    },
    {
      "cell_type": "code",
      "execution_count": null,
      "metadata": {
        "colab": {
          "base_uri": "https://localhost:8080/",
          "height": 303
        },
        "id": "rYNRUJy7HLkn",
        "outputId": "a75edfb1-a9b0-42cd-90ca-23dfb57897b5"
      },
      "outputs": [],
      "source": [
        "# 슬라이싱 (컬럼 전체)\n",
        "# 가격\n",
        "df.loc[:, \"가격\"]"
      ]
    },
    {
      "cell_type": "code",
      "execution_count": null,
      "metadata": {
        "colab": {
          "base_uri": "https://localhost:8080/",
          "height": 178
        },
        "id": "8IBgIgy-LwL3",
        "outputId": "f4b48611-3cb0-41bf-cba7-53aeb3f59220"
      },
      "outputs": [],
      "source": [
        "# 슬라이싱\n",
        "df.loc[2, '메뉴':'칼로리']"
      ]
    },
    {
      "cell_type": "code",
      "execution_count": null,
      "metadata": {
        "colab": {
          "base_uri": "https://localhost:8080/",
          "height": 146
        },
        "id": "kLildI-eJRjp",
        "outputId": "e5b9e4ce-2796-404a-a7a0-25dd8a9cd02d"
      },
      "outputs": [],
      "source": [
        "# 슬라이싱\n",
        "# 카페모카 메뉴와 칼로리\n",
        "df.loc[2, ['메뉴', '칼로리']]"
      ]
    },
    {
      "cell_type": "code",
      "execution_count": null,
      "metadata": {
        "colab": {
          "base_uri": "https://localhost:8080/",
          "height": 143
        },
        "id": "f4WDHdOLII4D",
        "outputId": "4737e0ef-810d-4744-fff5-2c5f5160a793"
      },
      "outputs": [],
      "source": [
        "# 슬라이싱\n",
        "df.loc[1:3, '메뉴':'가격']"
      ]
    },
    {
      "cell_type": "markdown",
      "metadata": {
        "id": "RyJ_zv-qHPBx"
      },
      "source": [
        "## Section8. 인덱싱/슬라이싱(iloc)\n",
        "- 인덱스 번호\n",
        "- 인덱스 번호(범위), 컬럼 번호(범위)"
      ]
    },
    {
      "cell_type": "code",
      "execution_count": null,
      "metadata": {
        "colab": {
          "base_uri": "https://localhost:8080/",
          "height": 112
        },
        "id": "rlAr57EVMwR3",
        "outputId": "d444d586-b18a-4214-bc76-6cd615f93ed6"
      },
      "outputs": [],
      "source": [
        "# 데이터 불러오기\n",
        "df = pd.read_csv('cafe.csv')\n",
        "df.drop(0, axis=0, inplace=True) # 첫번째 행 삭제\n",
        "df.head(2)"
      ]
    },
    {
      "cell_type": "code",
      "execution_count": null,
      "metadata": {
        "colab": {
          "base_uri": "https://localhost:8080/",
          "height": 178
        },
        "id": "_A8BYikKEgSu",
        "outputId": "c4ddbbe9-e789-4abf-d9ba-1033a1d1e70c"
      },
      "outputs": [],
      "source": [
        "# 인덱싱 (행 전체)\n",
        "# 카페라떼\n",
        "df.iloc[0]"
      ]
    },
    {
      "cell_type": "code",
      "execution_count": null,
      "metadata": {
        "colab": {
          "base_uri": "https://localhost:8080/",
          "height": 272
        },
        "id": "_-imo9arJHBF",
        "outputId": "b74d7e21-d738-454d-dbef-62ea7a071264"
      },
      "outputs": [],
      "source": [
        "# 슬라이싱 (컬럼 전체)\n",
        "# 가격\n",
        "df.iloc[:, 1]"
      ]
    },
    {
      "cell_type": "code",
      "execution_count": null,
      "metadata": {
        "colab": {
          "base_uri": "https://localhost:8080/",
          "height": 146
        },
        "id": "C0yBDPY_EgWY",
        "outputId": "802eed0e-f9f8-491b-d9db-f3720ab9abd9"
      },
      "outputs": [],
      "source": [
        "# 슬라이싱\n",
        "# 카페모카 메뉴와 가격\n",
        "df.iloc[2, 0:2]"
      ]
    },
    {
      "cell_type": "code",
      "execution_count": null,
      "metadata": {
        "colab": {
          "base_uri": "https://localhost:8080/",
          "height": 112
        },
        "id": "Ry5UVS6SEggz",
        "outputId": "36251531-be15-47f6-a651-6e5cd88c95c1"
      },
      "outputs": [],
      "source": [
        "# 슬라이싱 (카페라떼와 카페모카의 전체 데이터)\n",
        "df.iloc[1:3]"
      ]
    },
    {
      "cell_type": "code",
      "execution_count": null,
      "metadata": {
        "colab": {
          "base_uri": "https://localhost:8080/",
          "height": 112
        },
        "id": "jw2pmPW5d97r",
        "outputId": "38c2e5c9-de1a-4df0-d23b-13553c804cfe"
      },
      "outputs": [],
      "source": [
        "df.loc[2:3,'메뉴':'칼로리']"
      ]
    },
    {
      "cell_type": "markdown",
      "metadata": {
        "id": "4QLkGL6AZAXV"
      },
      "source": [
        "## Section9. 데이터 추가/변경"
      ]
    },
    {
      "cell_type": "code",
      "execution_count": null,
      "metadata": {
        "colab": {
          "base_uri": "https://localhost:8080/",
          "height": 112
        },
        "id": "cheZAE31UVqG",
        "outputId": "cc85a28d-a702-464a-ab91-3b06a415aba4"
      },
      "outputs": [],
      "source": [
        "# 데이터 불러오기\n",
        "df = pd.read_csv('cafe.csv')\n",
        "df.head(2)"
      ]
    },
    {
      "cell_type": "code",
      "execution_count": null,
      "metadata": {
        "colab": {
          "base_uri": "https://localhost:8080/",
          "height": 174
        },
        "id": "mk82ZG14ZUFY",
        "outputId": "5c9409e0-60c9-4f77-857b-dbcfeaad9c1f"
      },
      "outputs": [],
      "source": [
        "# 결측값으로 추가, 원두 컬럼을 만들고 결측값(NaN)으로 대입\n",
        "import numpy as np\n",
        "df['원산지'] = np.nan\n",
        "df.head(4)"
      ]
    },
    {
      "cell_type": "code",
      "execution_count": null,
      "metadata": {
        "colab": {
          "base_uri": "https://localhost:8080/",
          "height": 229
        },
        "id": "IROwfeubZJcr",
        "outputId": "41d2f760-b955-48ec-e558-e1c6df041d8f"
      },
      "outputs": [],
      "source": [
        "# 아메리카노의 원두는 '콜롬비아' 데이터 추가\n",
        "df.loc[0, \"원산지\"] = '콜롬비아'\n",
        "df.loc[2:3, \"원산지\"] = '과테말라'\n",
        "df.head(4)"
      ]
    },
    {
      "cell_type": "code",
      "execution_count": null,
      "metadata": {
        "colab": {
          "base_uri": "https://localhost:8080/",
          "height": 143
        },
        "id": "1PhWCpOcZJe1",
        "outputId": "0a57bbd3-7a1d-4d60-d68a-4e43e2e03b42"
      },
      "outputs": [],
      "source": [
        "# 리스트 형태로 데이터(행) 추가\n",
        "df.loc['시즌'] = ['크리스마스라떼', 6000, 300, '한국']\n",
        "df.tail(3)"
      ]
    },
    {
      "cell_type": "code",
      "execution_count": null,
      "metadata": {
        "colab": {
          "base_uri": "https://localhost:8080/",
          "height": 143
        },
        "id": "m7WbGNEhZOCN",
        "outputId": "69d663e6-2794-4d42-dca3-cf59acb2d6a5"
      },
      "outputs": [],
      "source": [
        "# 딕셔너리 형태로 데이터(행) 추가\n",
        "df.loc[7] = {'메뉴':'딴짓커피', '가격':2000, '칼로리':20}\n",
        "df.tail(3)"
      ]
    },
    {
      "cell_type": "code",
      "execution_count": 217,
      "metadata": {
        "id": "HLJKK_q_NVxV"
      },
      "outputs": [],
      "source": [
        "df.drop(\"시즌\", axis=0, inplace=True)\n",
        "df.to_csv('cafe2.csv', index=False)"
      ]
    },
    {
      "cell_type": "markdown",
      "metadata": {
        "id": "lnoRWW-7LlIe"
      },
      "source": [
        "## Section10. 정렬"
      ]
    },
    {
      "cell_type": "code",
      "execution_count": null,
      "metadata": {
        "colab": {
          "base_uri": "https://localhost:8080/",
          "height": 112
        },
        "id": "cmGeQa_kUqop",
        "outputId": "e4eaff5a-72f9-4465-9615-d9ba5044ce87"
      },
      "outputs": [],
      "source": [
        "# 데이터 불러오기\n",
        "df = pd.read_csv('cafe2.csv')\n",
        "df.head(2)"
      ]
    },
    {
      "cell_type": "code",
      "execution_count": null,
      "metadata": {
        "colab": {
          "base_uri": "https://localhost:8080/",
          "height": 300
        },
        "id": "9jiYrLeoKzvv",
        "outputId": "3a542e99-8d78-454d-f6d2-2e5522a8b03f"
      },
      "outputs": [],
      "source": [
        "# 인덱스 기준 (기본값 ascending=True)\n",
        "df.sort_index(ascending=False)"
      ]
    },
    {
      "cell_type": "code",
      "execution_count": null,
      "metadata": {
        "colab": {
          "base_uri": "https://localhost:8080/",
          "height": 300
        },
        "id": "03JwE0BeNAO5",
        "outputId": "c89bafb7-c836-44a8-f339-ecc971a6c864"
      },
      "outputs": [],
      "source": [
        "# 값 기준 (기본값 ascending=True)\n",
        "# 메뉴 기준 정렬\n",
        "df.sort_values('메뉴',ascending=False)"
      ]
    },
    {
      "cell_type": "code",
      "execution_count": null,
      "metadata": {
        "colab": {
          "base_uri": "https://localhost:8080/",
          "height": 300
        },
        "id": "kDQEmdIKRtes",
        "outputId": "86969246-d69a-49bc-f098-160f0454db32"
      },
      "outputs": [],
      "source": [
        "# 가격과 메뉴 기준 정렬\n",
        "df.sort_values(['가격', '메뉴'],ascending=[False, True], inplace=True)\n",
        "df"
      ]
    },
    {
      "cell_type": "code",
      "execution_count": null,
      "metadata": {
        "colab": {
          "base_uri": "https://localhost:8080/",
          "height": 300
        },
        "id": "FHW_uuN8MpBd",
        "outputId": "4c0d6244-53c3-45e7-fe08-6175764b9a0d"
      },
      "outputs": [],
      "source": [
        "# 인덱스 새로 만들기 drop=True\n",
        "df.reset_index(drop=True)"
      ]
    },
    {
      "cell_type": "markdown",
      "metadata": {
        "id": "06SgdXdeKxRl"
      },
      "source": [
        "## Section11. 필터링"
      ]
    },
    {
      "cell_type": "code",
      "execution_count": null,
      "metadata": {
        "colab": {
          "base_uri": "https://localhost:8080/",
          "height": 112
        },
        "id": "aRSadY4OU9VV",
        "outputId": "c62be271-7a36-4bb9-8c85-73500d320d59"
      },
      "outputs": [],
      "source": [
        "# 데이터 불러오기\n",
        "df = pd.read_csv('cafe2.csv')\n",
        "df.head(2)"
      ]
    },
    {
      "cell_type": "code",
      "execution_count": null,
      "metadata": {
        "colab": {
          "base_uri": "https://localhost:8080/",
          "height": 334
        },
        "id": "3gzy2ehN5jUC",
        "outputId": "c984aff0-5d66-4bc6-d4ce-c39f2942f083"
      },
      "outputs": [],
      "source": [
        "df['칼로리'] < 50"
      ]
    },
    {
      "cell_type": "code",
      "execution_count": null,
      "metadata": {
        "colab": {
          "base_uri": "https://localhost:8080/",
          "height": 174
        },
        "id": "wOy8UEKoKznr",
        "outputId": "e8c7518b-f4cb-49ce-cec3-aa45526b6065"
      },
      "outputs": [],
      "source": [
        "# 1개 조건\n",
        "cond = df['칼로리'] < 50\n",
        "df[cond]"
      ]
    },
    {
      "cell_type": "code",
      "execution_count": null,
      "metadata": {
        "colab": {
          "base_uri": "https://localhost:8080/",
          "height": 174
        },
        "id": "g5FL4TSIuJQJ",
        "outputId": "4a4f72bd-5e41-4ffd-b918-ffff6815d5dd"
      },
      "outputs": [],
      "source": [
        "# 1개 조건\n",
        "df[df['칼로리'] < 50]"
      ]
    },
    {
      "cell_type": "code",
      "execution_count": null,
      "metadata": {
        "colab": {
          "base_uri": "https://localhost:8080/",
          "height": 174
        },
        "id": "EhepeTll8SmC",
        "outputId": "fa2de86d-6a47-475e-a6fb-5fd6741b49d6"
      },
      "outputs": [],
      "source": [
        "cond = df['칼로리'] < 50\n",
        "df[~cond]"
      ]
    },
    {
      "cell_type": "code",
      "execution_count": null,
      "metadata": {
        "colab": {
          "base_uri": "https://localhost:8080/",
          "height": 174
        },
        "id": "sQbJLVTnKzqh",
        "outputId": "6e63fe0e-9522-4006-cf39-abb4f0f31ac4"
      },
      "outputs": [],
      "source": [
        "# 2개 이상 일때 (AND)\n",
        "cond1 = df['가격'] >= 5000\n",
        "cond2 = df['칼로리'] > 100\n",
        "df[cond1 & cond2]"
      ]
    },
    {
      "cell_type": "code",
      "execution_count": null,
      "metadata": {
        "colab": {
          "base_uri": "https://localhost:8080/",
          "height": 206
        },
        "id": "Jgq0rNkffQ1M",
        "outputId": "29da43fe-e37f-4530-a2ae-9ce57bf31324"
      },
      "outputs": [],
      "source": [
        "# 2개 이상 일때 (OR)\n",
        "df[cond1 | cond2]"
      ]
    },
    {
      "cell_type": "code",
      "execution_count": null,
      "metadata": {
        "colab": {
          "base_uri": "https://localhost:8080/",
          "height": 112
        },
        "id": "GJnGeV_4e3H4",
        "outputId": "7d8c8c70-c35c-4547-d7ee-87a9a2562bd0"
      },
      "outputs": [],
      "source": [
        "# 문자열 1개 조건\n",
        "# 원두 == 콜롬비아\n",
        "cond = (df['원산지'] == \"과테말라\")\n",
        "df[cond]"
      ]
    },
    {
      "cell_type": "code",
      "execution_count": null,
      "metadata": {
        "colab": {
          "base_uri": "https://localhost:8080/",
          "height": 80
        },
        "id": "imUqjC7-fNH8",
        "outputId": "de2e8115-5621-4166-952d-2926b771a7d9"
      },
      "outputs": [],
      "source": [
        "# 문자열과 숫자 조건 (AND)\n",
        "cond1 = df['원산지'] == \"과테말라\"\n",
        "cond2 = df['가격'] <= 5000\n",
        "df[cond1 & cond2]"
      ]
    },
    {
      "cell_type": "code",
      "execution_count": null,
      "metadata": {
        "colab": {
          "base_uri": "https://localhost:8080/",
          "height": 334
        },
        "id": "BLF9kG1H86bN",
        "outputId": "c27a5325-801a-4f98-8622-35be84f45af0"
      },
      "outputs": [],
      "source": [
        "df['메뉴'].isin(['녹차'])"
      ]
    },
    {
      "cell_type": "code",
      "execution_count": null,
      "metadata": {
        "colab": {
          "base_uri": "https://localhost:8080/",
          "height": 80
        },
        "id": "eYAyv_vQ9Dqp",
        "outputId": "b7afffa2-c5cb-46b5-b5af-cd9791e6c163"
      },
      "outputs": [],
      "source": [
        "cond = df['메뉴'].isin(['녹차'])\n",
        "df[cond]"
      ]
    },
    {
      "cell_type": "code",
      "execution_count": null,
      "metadata": {
        "colab": {
          "base_uri": "https://localhost:8080/",
          "height": 143
        },
        "id": "pOU3pq3J9IoZ",
        "outputId": "a1046bd5-366c-43e8-d65c-d42a15c90f85"
      },
      "outputs": [],
      "source": [
        "box = ['녹차', '카푸치노', '카페라떼']\n",
        "cond = df['메뉴'].isin(box)\n",
        "df[cond]"
      ]
    },
    {
      "cell_type": "markdown",
      "metadata": {
        "id": "1P9xjj8YkSBf"
      },
      "source": [
        "## Section12. 결측치 처리"
      ]
    },
    {
      "cell_type": "code",
      "execution_count": null,
      "metadata": {
        "colab": {
          "base_uri": "https://localhost:8080/",
          "height": 112
        },
        "id": "PqGtjeVlWh4M",
        "outputId": "f1882b0b-c5b5-482e-f15c-2c048acdc0c4"
      },
      "outputs": [],
      "source": [
        "# 데이터 불러오기\n",
        "df = pd.read_csv('cafe2.csv')\n",
        "df.head(2)"
      ]
    },
    {
      "cell_type": "code",
      "execution_count": null,
      "metadata": {
        "colab": {
          "base_uri": "https://localhost:8080/",
          "height": 300
        },
        "id": "cX60WBVRDfo8",
        "outputId": "fa4cccdb-941e-4d8f-e1e7-e1467dee94d6"
      },
      "outputs": [],
      "source": [
        "df.isnull()"
      ]
    },
    {
      "cell_type": "code",
      "execution_count": null,
      "metadata": {
        "colab": {
          "base_uri": "https://localhost:8080/",
          "height": 209
        },
        "id": "dZ5Ep3LQDxi1",
        "outputId": "430c4521-f966-4ad0-cd52-487f5575d339"
      },
      "outputs": [],
      "source": [
        "# 컬럼별 결측치 확인\n",
        "df.isnull().sum()"
      ]
    },
    {
      "cell_type": "code",
      "execution_count": null,
      "metadata": {
        "colab": {
          "base_uri": "https://localhost:8080/",
          "height": 209
        },
        "id": "TT7zRmaeCria",
        "outputId": "cc99e677-1f7f-4bda-bcdd-c32ebe3feb9e"
      },
      "outputs": [],
      "source": [
        "# 컬럼별 결측치 확인\n",
        "df.isna().sum()"
      ]
    },
    {
      "cell_type": "code",
      "execution_count": null,
      "metadata": {
        "colab": {
          "base_uri": "https://localhost:8080/",
          "height": 300
        },
        "id": "RGdmKLSbDxla",
        "outputId": "71726c7d-934f-4d15-9147-7b6daac85920"
      },
      "outputs": [],
      "source": [
        "# 결측값 채우기\n",
        "df['원산지'].fillna('코스타리카', inplace=True)\n",
        "df"
      ]
    },
    {
      "cell_type": "code",
      "execution_count": 240,
      "metadata": {
        "id": "Ebr7kBViW6m0"
      },
      "outputs": [],
      "source": [
        "df.to_csv(\"cafe3.csv\", index=False)"
      ]
    },
    {
      "cell_type": "markdown",
      "metadata": {
        "id": "w-UHeNsKkBke"
      },
      "source": [
        "## Section13. 값 변경"
      ]
    },
    {
      "cell_type": "code",
      "execution_count": null,
      "metadata": {
        "colab": {
          "base_uri": "https://localhost:8080/",
          "height": 143
        },
        "id": "-SUmyffWRy5p",
        "outputId": "fe5d4854-489e-4266-f4c5-c8bb31f6e7cc"
      },
      "outputs": [],
      "source": [
        "# 데이터 확인\n",
        "pd.read_csv(\"cafe3.csv\")\n",
        "df.head(3)"
      ]
    },
    {
      "cell_type": "code",
      "execution_count": null,
      "metadata": {
        "colab": {
          "base_uri": "https://localhost:8080/",
          "height": 300
        },
        "id": "QUNH3Srok5As",
        "outputId": "54918047-d65d-4df2-bffd-9bc44294d49a"
      },
      "outputs": [],
      "source": [
        "# 문자 변경 : 아메리카노 -> 룽고, 녹차 -> 그린티\n",
        "df.replace('아메리카노', '룽고', inplace=True)\n",
        "df.replace('녹차','그린티', inplace=True)\n",
        "df"
      ]
    },
    {
      "cell_type": "code",
      "execution_count": null,
      "metadata": {
        "colab": {
          "base_uri": "https://localhost:8080/",
          "height": 300
        },
        "id": "B9CB-PGxFiCl",
        "outputId": "b71500d4-a093-4dbe-84f0-4fd6f4b76558"
      },
      "outputs": [],
      "source": [
        "change = {'룽고':'아메리카노', '그린티':'녹차'}\n",
        "df.replace(change, inplace=True)\n",
        "df"
      ]
    },
    {
      "cell_type": "code",
      "execution_count": null,
      "metadata": {
        "colab": {
          "base_uri": "https://localhost:8080/",
          "height": 143
        },
        "id": "QHrYVNM_78lu",
        "outputId": "fb977556-460c-450d-a5b1-6456cf44d197"
      },
      "outputs": [],
      "source": [
        "# loc로 값 변경하기\n",
        "df.loc[6, '원산지'] = '대한민국'\n",
        "df.tail(3)"
      ]
    },
    {
      "cell_type": "code",
      "execution_count": null,
      "metadata": {
        "colab": {
          "base_uri": "https://localhost:8080/",
          "height": 206
        },
        "id": "dyuMEZ9M8TGa",
        "outputId": "51ea28a3-9ec8-48ff-ed10-b0b1b72777ca"
      },
      "outputs": [],
      "source": [
        "# 이벤트가 전체 1000으로 변경\n",
        "df.loc[1:2, '이벤트가'] = 1000\n",
        "df.head()"
      ]
    },
    {
      "cell_type": "code",
      "execution_count": 246,
      "metadata": {
        "id": "Mh7bgXOsam5N"
      },
      "outputs": [],
      "source": [
        "df.to_csv(\"cafe4.csv\", index=False)"
      ]
    },
    {
      "cell_type": "markdown",
      "metadata": {
        "id": "Ppl4bKyhVpg3"
      },
      "source": [
        "## Section14. 문자열"
      ]
    },
    {
      "cell_type": "code",
      "execution_count": null,
      "metadata": {
        "colab": {
          "base_uri": "https://localhost:8080/",
          "height": 143
        },
        "id": "60iKGhzTWn51",
        "outputId": "5e5c19ce-f580-42d1-c8af-69ad8ba84715"
      },
      "outputs": [],
      "source": [
        "import pandas as pd\n",
        "df = pd.DataFrame({'A': ['데이터 분석', '기본 학습서', '퇴근 후 열공'],\n",
        "                   'B': [10, 20, 30],\n",
        "                   'C': ['ab cd', 'AB CD', 'ab cd ']\n",
        "                   })\n",
        "df"
      ]
    },
    {
      "cell_type": "code",
      "execution_count": null,
      "metadata": {
        "colab": {
          "base_uri": "https://localhost:8080/",
          "height": 143
        },
        "id": "60fjxAGeWL_i",
        "outputId": "96637f45-2ac2-4d78-fd91-6ac1b08690aa"
      },
      "outputs": [],
      "source": [
        "df['A'] = df['A'].replace('분석', '시각화')\n",
        "df"
      ]
    },
    {
      "cell_type": "code",
      "execution_count": null,
      "metadata": {
        "colab": {
          "base_uri": "https://localhost:8080/",
          "height": 143
        },
        "id": "5yjV9qvCXSKD",
        "outputId": "35d361ae-89d9-4de9-d7fa-68744a7a4cac"
      },
      "outputs": [],
      "source": [
        "df['A'] = df['A'].str.replace('분석', '시각화')\n",
        "df"
      ]
    },
    {
      "cell_type": "code",
      "execution_count": null,
      "metadata": {
        "colab": {
          "base_uri": "https://localhost:8080/",
          "height": 143
        },
        "id": "e8f9sGv5WEjh",
        "outputId": "b56fed44-6bfc-4150-a7ca-c806546a976d"
      },
      "outputs": [],
      "source": [
        "df['B'] = df['B'].replace(10, 100)\n",
        "df"
      ]
    },
    {
      "cell_type": "code",
      "execution_count": 251,
      "metadata": {
        "id": "tlzY5qzVWElz"
      },
      "outputs": [],
      "source": [
        "# 에러\n",
        "# df['B'] = df['B'].str.replace(20, 200)\n",
        "# print(df)"
      ]
    },
    {
      "cell_type": "code",
      "execution_count": null,
      "metadata": {
        "colab": {
          "base_uri": "https://localhost:8080/",
          "height": 178
        },
        "id": "ywrWca_AWEoC",
        "outputId": "a8cee849-9d76-414f-cb22-10b20aff29d5"
      },
      "outputs": [],
      "source": [
        "# 문자열 분리\n",
        "df['A'].str.split()"
      ]
    },
    {
      "cell_type": "code",
      "execution_count": null,
      "metadata": {
        "colab": {
          "base_uri": "https://localhost:8080/"
        },
        "id": "Uq5tvhKTWEql",
        "outputId": "b82e7037-e2aa-4f97-fad0-5167d79b19f6"
      },
      "outputs": [],
      "source": [
        "df['A'].str.split()[0]"
      ]
    },
    {
      "cell_type": "code",
      "execution_count": null,
      "metadata": {
        "colab": {
          "base_uri": "https://localhost:8080/",
          "height": 143
        },
        "id": "X5ZM42Q3WEvB",
        "outputId": "770b9a3b-3086-493f-9f7e-b42db5fd9944"
      },
      "outputs": [],
      "source": [
        "df['D'] = df['A'].str.split().str[0]\n",
        "df"
      ]
    },
    {
      "cell_type": "code",
      "execution_count": null,
      "metadata": {
        "colab": {
          "base_uri": "https://localhost:8080/",
          "height": 178
        },
        "id": "lOIKsV4bWEyE",
        "outputId": "940e6127-446a-49c1-e630-9400f429c8a4"
      },
      "outputs": [],
      "source": [
        "# 문자 검색\n",
        "df['A'].str.contains('기본')"
      ]
    },
    {
      "cell_type": "code",
      "execution_count": null,
      "metadata": {
        "colab": {
          "base_uri": "https://localhost:8080/",
          "height": 143
        },
        "id": "mhyJfGtHb7iV",
        "outputId": "0c03b203-8559-420f-d6a6-1045828f7b7a"
      },
      "outputs": [],
      "source": [
        "df['기본포함유무'] = df['A'].str.contains('기본')\n",
        "df"
      ]
    },
    {
      "cell_type": "code",
      "execution_count": null,
      "metadata": {
        "colab": {
          "base_uri": "https://localhost:8080/",
          "height": 178
        },
        "id": "czuN-m0fBsrZ",
        "outputId": "e3c4af12-7ab0-490c-e01c-f2e1f41cee17"
      },
      "outputs": [],
      "source": [
        "menu = pd.Series(['맛난버거 세트', '매운 치킨버거', '더블 치즈버거'])\n",
        "menu.isin(['맛난버거 세트', '더블 치즈버거'])"
      ]
    },
    {
      "cell_type": "code",
      "execution_count": null,
      "metadata": {
        "colab": {
          "base_uri": "https://localhost:8080/",
          "height": 178
        },
        "id": "G84AzAJ9Bs0H",
        "outputId": "de707f5b-81be-48b1-9f72-3351d553c324"
      },
      "outputs": [],
      "source": [
        "menu.str.contains('세트')"
      ]
    },
    {
      "cell_type": "code",
      "execution_count": null,
      "metadata": {
        "colab": {
          "base_uri": "https://localhost:8080/",
          "height": 143
        },
        "id": "vM6YVDfScIFE",
        "outputId": "50bdfd9b-77dd-4800-b8b0-38fab0054b1d"
      },
      "outputs": [],
      "source": [
        "df['문자길이'] = df['A'].str.len()\n",
        "df"
      ]
    },
    {
      "cell_type": "code",
      "execution_count": null,
      "metadata": {
        "colab": {
          "base_uri": "https://localhost:8080/"
        },
        "id": "mWZU6-sxc6UY",
        "outputId": "09ec4059-961a-47f4-d6e7-e95ac56060ca"
      },
      "outputs": [],
      "source": [
        "'AB cd' == 'ab CD'"
      ]
    },
    {
      "cell_type": "code",
      "execution_count": null,
      "metadata": {
        "colab": {
          "base_uri": "https://localhost:8080/",
          "height": 178
        },
        "id": "tTPHWQTFcRlw",
        "outputId": "86d510e9-bd9f-4b1c-a27b-7e7f92f32782"
      },
      "outputs": [],
      "source": [
        "df['C'] = df['C'].str.lower()\n",
        "df['C']"
      ]
    },
    {
      "cell_type": "code",
      "execution_count": null,
      "metadata": {
        "colab": {
          "base_uri": "https://localhost:8080/",
          "height": 178
        },
        "id": "i6HwdFOkcxf_",
        "outputId": "49cb3df6-65aa-4aa3-c055-78208c39c5a1"
      },
      "outputs": [],
      "source": [
        "df['C'] = df['C'].str.upper()\n",
        "df['C']"
      ]
    },
    {
      "cell_type": "code",
      "execution_count": null,
      "metadata": {
        "colab": {
          "base_uri": "https://localhost:8080/",
          "height": 178
        },
        "id": "ALcJ9DHYewaW",
        "outputId": "3e35d388-7faa-412c-8d82-a1817cd00885"
      },
      "outputs": [],
      "source": [
        "df['C'] == 'AB CD'"
      ]
    },
    {
      "cell_type": "code",
      "execution_count": null,
      "metadata": {
        "colab": {
          "base_uri": "https://localhost:8080/",
          "height": 178
        },
        "id": "hnRs8QmgdOUi",
        "outputId": "432cbb08-b115-495d-a9a9-ab2697c12957"
      },
      "outputs": [],
      "source": [
        "df['C'] = df['C'].str.lower()\n",
        "df['C'] = df['C'].str.replace(\" \",\"\")\n",
        "df['C']"
      ]
    },
    {
      "cell_type": "code",
      "execution_count": null,
      "metadata": {
        "colab": {
          "base_uri": "https://localhost:8080/",
          "height": 178
        },
        "id": "yAOR6GpNWft6",
        "outputId": "9b467031-e419-46fe-97df-fb3c4e24aabc"
      },
      "outputs": [],
      "source": [
        "df['C'].str[1:3]"
      ]
    },
    {
      "cell_type": "code",
      "execution_count": null,
      "metadata": {
        "colab": {
          "base_uri": "https://localhost:8080/",
          "height": 146
        },
        "id": "hanV9aJEWNIR",
        "outputId": "f91e982f-b996-4b1f-a88e-be289efe478f"
      },
      "outputs": [],
      "source": [
        "df['C'][1:3]"
      ]
    },
    {
      "cell_type": "markdown",
      "metadata": {
        "id": "2u2hAx2lk2ao"
      },
      "source": [
        "## Section15. 내장함수\n",
        "- 데이터 핸들링을 위한 판다스 기초1(EDA) 부분에서 일부 내장함수를 학습했고, 그외 함수에 대해 살펴봄"
      ]
    },
    {
      "cell_type": "code",
      "execution_count": null,
      "metadata": {
        "colab": {
          "base_uri": "https://localhost:8080/",
          "height": 112
        },
        "id": "nM7K7xx_axA9",
        "outputId": "97413b17-de6a-48d2-f6df-9bd2eaeae4a0"
      },
      "outputs": [],
      "source": [
        "df = pd.read_csv(\"cafe4.csv\")\n",
        "df.head(2)"
      ]
    },
    {
      "cell_type": "code",
      "execution_count": null,
      "metadata": {
        "colab": {
          "base_uri": "https://localhost:8080/"
        },
        "id": "7hLL1VGeroVK",
        "outputId": "9223e93a-1d60-48d0-f4e9-f3ba12e19582"
      },
      "outputs": [],
      "source": [
        "print(len(df))\n",
        "print(df.shape[0])"
      ]
    },
    {
      "cell_type": "code",
      "execution_count": null,
      "metadata": {
        "colab": {
          "base_uri": "https://localhost:8080/"
        },
        "id": "gFnudhFuOrG6",
        "outputId": "35cd5071-f9ef-4f81-b1ad-71064d403c21"
      },
      "outputs": [],
      "source": [
        "cond = df['가격'] > 5000\n",
        "\n",
        "#sum으로 조건에 맞는 개수 구하기\n",
        "print(sum(cond))\n",
        "\n",
        "#len으로 조건에 맞는 개수 구하기\n",
        "print(len(df[cond]))"
      ]
    },
    {
      "cell_type": "code",
      "execution_count": null,
      "metadata": {
        "colab": {
          "base_uri": "https://localhost:8080/",
          "height": 178
        },
        "id": "hHimepThxe3_",
        "outputId": "caeccbba-6c81-4afe-9191-2e981c602e01"
      },
      "outputs": [],
      "source": [
        "df.sum(numeric_only=True)"
      ]
    },
    {
      "cell_type": "code",
      "execution_count": null,
      "metadata": {
        "colab": {
          "base_uri": "https://localhost:8080/",
          "height": 334
        },
        "id": "3UiMOCqwyCoj",
        "outputId": "ba9c487a-cbe9-484c-84b4-e8f42699fc80"
      },
      "outputs": [],
      "source": [
        "df.sum(axis=1, numeric_only=True)"
      ]
    },
    {
      "cell_type": "code",
      "execution_count": null,
      "metadata": {
        "colab": {
          "base_uri": "https://localhost:8080/"
        },
        "id": "d6XCTaY4TfEK",
        "outputId": "48e2e97a-4026-42d7-c373-d62d87cb7e37"
      },
      "outputs": [],
      "source": [
        "print(\"최대값: \",df['가격'].max())\n",
        "print(\"최소값: \",df['가격'].min())\n",
        "print(\"평균값: \",df['가격'].mean())\n",
        "print(\"중앙값: \",df['가격'].median())\n",
        "print(\"합계: \",df['가격'].sum())\n",
        "print(\"표준편차: \",df['가격'].std())\n",
        "print(\"분산: \",df['가격'].var())"
      ]
    },
    {
      "cell_type": "code",
      "execution_count": null,
      "metadata": {
        "colab": {
          "base_uri": "https://localhost:8080/"
        },
        "id": "IO6WZjwWhWFm",
        "outputId": "21203241-c3db-40b5-a4d9-de83c7b72307"
      },
      "outputs": [],
      "source": [
        "# 분위수\n",
        "print(\"분위수 25% 값\", df['가격'].quantile(.25))\n",
        "print(\"분위수 75% 값\", df['가격'].quantile(.75))"
      ]
    },
    {
      "cell_type": "code",
      "execution_count": null,
      "metadata": {
        "colab": {
          "base_uri": "https://localhost:8080/",
          "height": 112
        },
        "id": "pGc1v9rsjRsG",
        "outputId": "9220393d-6772-49b7-fddb-0c79344a32b5"
      },
      "outputs": [],
      "source": [
        "# 하위 25% 데이터\n",
        "cond = df['가격'].quantile(.25) > df['가격']\n",
        "df[cond]"
      ]
    },
    {
      "cell_type": "code",
      "execution_count": null,
      "metadata": {
        "colab": {
          "base_uri": "https://localhost:8080/",
          "height": 112
        },
        "id": "5HPN7rDtisI3",
        "outputId": "a74c63c9-3140-4f1c-f46a-de5104aa947c"
      },
      "outputs": [],
      "source": [
        "# 상위 25% 데이터\n",
        "cond = df['가격'].quantile(.75) < df['가격']\n",
        "df[cond]"
      ]
    },
    {
      "cell_type": "code",
      "execution_count": null,
      "metadata": {
        "colab": {
          "base_uri": "https://localhost:8080/",
          "height": 35
        },
        "id": "dtg3bAmRpFGz",
        "outputId": "ee81b597-2db8-4d8d-d6ee-b760035ee3ad"
      },
      "outputs": [],
      "source": [
        "# 최빈값 구하기\n",
        "df['원산지'].mode()[0]"
      ]
    },
    {
      "cell_type": "code",
      "execution_count": null,
      "metadata": {
        "colab": {
          "base_uri": "https://localhost:8080/"
        },
        "id": "rflRYfpDAvcW",
        "outputId": "4fc463d7-8947-4075-e178-f857d0ee65fc"
      },
      "outputs": [],
      "source": [
        "df['가격'].idxmax()"
      ]
    },
    {
      "cell_type": "code",
      "execution_count": null,
      "metadata": {
        "colab": {
          "base_uri": "https://localhost:8080/",
          "height": 240
        },
        "id": "78RDV-yeA1Ul",
        "outputId": "8ad8ee4d-ab6f-404e-f865-a18b7d8cbbb2"
      },
      "outputs": [],
      "source": [
        "max_ind = df['가격'].idxmax()\n",
        "df.loc[max_ind]"
      ]
    },
    {
      "cell_type": "code",
      "execution_count": null,
      "metadata": {
        "colab": {
          "base_uri": "https://localhost:8080/",
          "height": 35
        },
        "id": "3WcJJuLTbyDj",
        "outputId": "41f194b5-f318-4723-8896-173c3ee36374"
      },
      "outputs": [],
      "source": [
        "# df.loc[max_ind, '메뉴'] # 추천 방법\n",
        "df.loc[max_ind]['메뉴'] # 다른 방법"
      ]
    },
    {
      "cell_type": "code",
      "execution_count": null,
      "metadata": {
        "colab": {
          "base_uri": "https://localhost:8080/",
          "height": 143
        },
        "id": "YwMttFOwXA93",
        "outputId": "16cfac3a-11d1-456f-c3aa-2e9bdaca8dc0"
      },
      "outputs": [],
      "source": [
        "df.nlargest(3, '가격')"
      ]
    },
    {
      "cell_type": "code",
      "execution_count": null,
      "metadata": {
        "colab": {
          "base_uri": "https://localhost:8080/",
          "height": 112
        },
        "id": "NvhL61JlFwKE",
        "outputId": "10f248a2-7fe2-4491-e3cc-f57eeb9849f3"
      },
      "outputs": [],
      "source": [
        "df.nsmallest(2, '가격')"
      ]
    },
    {
      "cell_type": "code",
      "execution_count": null,
      "metadata": {
        "colab": {
          "base_uri": "https://localhost:8080/",
          "height": 300
        },
        "id": "QeLU60tFmNj4",
        "outputId": "623a3e57-530e-4b94-87a0-bc7065bf2fda"
      },
      "outputs": [],
      "source": [
        "# apply 적용해서 새로운 컬럼 생성 (칼로리 컬럼 활용)\n",
        "def cal(x):\n",
        "    if x >= 100:\n",
        "        return \"No\"\n",
        "    else:\n",
        "        return \"Yes\"\n",
        "\n",
        "df['먹어도 될까요'] = df['칼로리'].apply(cal)\n",
        "df"
      ]
    },
    {
      "cell_type": "code",
      "execution_count": null,
      "metadata": {
        "colab": {
          "base_uri": "https://localhost:8080/",
          "height": 143
        },
        "id": "vKQrV7D0T_Zr",
        "outputId": "cc4235c3-9c70-43a2-8e21-2445ad0b17ed"
      },
      "outputs": [],
      "source": [
        "import pandas as pd\n",
        "df = pd.DataFrame({'Name': {0: '쿼카', 1: '알파카', 2: '시바견'},\n",
        "                   '수학': {0: 90, 1: 93, 2: 85},\n",
        "                   '영어': {0: 92, 1: 84, 2: 86},\n",
        "                   '국어': {0: 91, 1: 94, 2: 83},})\n",
        "\n",
        "df"
      ]
    },
    {
      "cell_type": "code",
      "execution_count": null,
      "metadata": {
        "colab": {
          "base_uri": "https://localhost:8080/",
          "height": 331
        },
        "id": "MnPPQa1fUTtu",
        "outputId": "872d2cc3-c76b-4cba-8716-89e7a14e10de"
      },
      "outputs": [],
      "source": [
        "pd.melt(df, id_vars=['Name'])"
      ]
    },
    {
      "cell_type": "code",
      "execution_count": null,
      "metadata": {
        "colab": {
          "base_uri": "https://localhost:8080/",
          "height": 237
        },
        "id": "Q2C-X4lVUZZu",
        "outputId": "88c573d7-8b2a-4639-c13d-d2cb5d8cfd8a"
      },
      "outputs": [],
      "source": [
        "pd.melt(df, id_vars=['Name'], value_vars=['수학', '영어'])"
      ]
    },
    {
      "cell_type": "markdown",
      "metadata": {
        "id": "xJUrwH54k7DY"
      },
      "source": [
        "## Section16. 그룹핑"
      ]
    },
    {
      "cell_type": "code",
      "execution_count": null,
      "metadata": {
        "colab": {
          "base_uri": "https://localhost:8080/",
          "height": 112
        },
        "id": "bAIsh8Dncxy1",
        "outputId": "5ccbee5c-ab3e-416c-b949-6adad3dbe7ad"
      },
      "outputs": [],
      "source": [
        "df = pd.read_csv(\"cafe4.csv\")\n",
        "df.head(2)"
      ]
    },
    {
      "cell_type": "code",
      "execution_count": null,
      "metadata": {
        "colab": {
          "base_uri": "https://localhost:8080/",
          "height": 206
        },
        "id": "M37GSUJoWmjK",
        "outputId": "9fa70ea6-f9ab-4524-efa3-0a0dc5d337f1"
      },
      "outputs": [],
      "source": [
        "# 원두 기준, 평균\n",
        "df.groupby(['원산지']).mean(numeric_only=True)"
      ]
    },
    {
      "cell_type": "code",
      "execution_count": null,
      "metadata": {
        "colab": {
          "base_uri": "https://localhost:8080/",
          "height": 300
        },
        "id": "2wZLvdLbWmnh",
        "outputId": "4035e7ba-387e-4918-b041-7fdef39c12e5"
      },
      "outputs": [],
      "source": [
        "# 원두와 할인율 기준, 평균\n",
        "df.groupby(['원산지', '칼로리']).mean(numeric_only=True)"
      ]
    },
    {
      "cell_type": "code",
      "execution_count": null,
      "metadata": {
        "colab": {
          "base_uri": "https://localhost:8080/",
          "height": 362
        },
        "id": "jU6kv1vMmU5g",
        "outputId": "961e839d-728c-45db-d6d4-6dbbb68ad7da"
      },
      "outputs": [],
      "source": [
        "df.groupby(['원산지', '메뉴']).agg(['mean', 'sum'])"
      ]
    },
    {
      "cell_type": "code",
      "execution_count": null,
      "metadata": {
        "colab": {
          "base_uri": "https://localhost:8080/",
          "height": 268
        },
        "id": "bvOLy-iGoa-W",
        "outputId": "be5b482e-3dbf-4cd1-e246-c7fd7358cb7e"
      },
      "outputs": [],
      "source": [
        "# 1개 인덱스 형태로 리셋\n",
        "df.groupby(['원산지', '칼로리']).mean(numeric_only=True).reset_index()"
      ]
    },
    {
      "cell_type": "markdown",
      "metadata": {
        "id": "r-1MIPYhiRDi"
      },
      "source": [
        "## Section17. 시계열 데이터 (Datetime)"
      ]
    },
    {
      "cell_type": "code",
      "execution_count": null,
      "metadata": {
        "colab": {
          "base_uri": "https://localhost:8080/",
          "height": 174
        },
        "id": "u6eJpIdtiSKV",
        "outputId": "6210aca8-f1f1-4daf-c424-6d0c1f95b30a"
      },
      "outputs": [],
      "source": [
        "import pandas as pd\n",
        "data = {\n",
        "    'Date1': ['2024-02-17', '2024-02-18', '2024-02-19', '2024-02-20'],\n",
        "    'Date2': ['2024:02:17', '2024:02:18', '2024:02:19', '2024:02:20'],\n",
        "    'Date3': ['24/02/17', '24/02/18', '24/02/19', '24/02/20'],\n",
        "    'Date4': ['02/17/2024', '02/18/2024', '02/19/2024', '02/20/2024'],\n",
        "    'Date5': ['17-Feb-2024', '18-Feb-2024', '19-Feb-2024', '20-Feb-2024'],\n",
        "    'DateTime1': ['24-02-17 13:45:30', '24-02-18 14:55:45', '24-02-19 15:30:15', '24-02-20 16:10:50'],\n",
        "    'DateTime2': ['2024-02-17 13-45-30', '2024-02-18 14-55-45', '2024-02-19 15-30-15', '2024-02-20 16-10-50'],\n",
        "    'DateTime3': ['02/17/2024 01:45:30 PM', '02/18/2024 02:55:45 PM', '02/19/2024 03:30:15 AM', '02/20/2024 04:10:50 AM'],\n",
        "    'DateTime4': ['17 Feb 2024 13:45:30', '18 Feb 2024 14:55:45', '19 Feb 2024 15:30:15', '20 Feb 2024 16:10:50']\n",
        "}\n",
        "\n",
        "df = pd.DataFrame(data)\n",
        "df.to_csv(\"date_data.csv\", index=False)\n",
        "df"
      ]
    },
    {
      "cell_type": "code",
      "execution_count": null,
      "metadata": {
        "colab": {
          "base_uri": "https://localhost:8080/"
        },
        "id": "wVQn0j65AciG",
        "outputId": "09312d95-3af6-4556-a6c0-374007d2fcd6"
      },
      "outputs": [],
      "source": [
        "df.info()"
      ]
    },
    {
      "cell_type": "code",
      "execution_count": null,
      "metadata": {
        "colab": {
          "base_uri": "https://localhost:8080/",
          "height": 299
        },
        "id": "LQcDcIqQiSP5",
        "outputId": "99162514-7381-4cd9-8fb0-c0510c7d1bc2"
      },
      "outputs": [],
      "source": [
        "df = pd.read_csv(\"date_data.csv\")\n",
        "df['Date1'] = pd.to_datetime(df['Date1'])\n",
        "df['Date2'] = pd.to_datetime(df['Date2'], format='%Y:%m:%d')\n",
        "df['Date3'] = pd.to_datetime(df['Date3'])\n",
        "df['Date4'] = pd.to_datetime(df['Date4'])\n",
        "df['Date5'] = pd.to_datetime(df['Date5'])\n",
        "df['DateTime1'] = pd.to_datetime(df['DateTime1'])\n",
        "df['DateTime2'] = pd.to_datetime(df['DateTime2'], format='%Y-%m-%d %H-%M-%S')\n",
        "df['DateTime3'] = pd.to_datetime(df['DateTime3'])\n",
        "df['DateTime4'] = pd.to_datetime(df['DateTime4'])\n",
        "df"
      ]
    },
    {
      "cell_type": "code",
      "execution_count": null,
      "metadata": {
        "colab": {
          "base_uri": "https://localhost:8080/",
          "height": 174
        },
        "id": "7zlkwCsRGLc3",
        "outputId": "5cc7d544-4242-406b-c838-b875cd4b0dce"
      },
      "outputs": [],
      "source": [
        "df = pd.read_csv(\"date_data.csv\")\n",
        "df['Date2'] = pd.to_datetime(df['Date2'], format='%Y:%m:%d')\n",
        "df['Date3'] = pd.to_datetime(df['Date3'], format='%y/%m/%d')\n",
        "df['DateTime1'] = pd.to_datetime(df['DateTime1'], format='%y-%m-%d %H:%M:%S')\n",
        "df['DateTime2'] = pd.to_datetime(df['DateTime2'], format='%Y-%m-%d %H-%M-%S')\n",
        "df[['Date2', 'Date3', 'DateTime1', 'DateTime2']]"
      ]
    },
    {
      "cell_type": "code",
      "execution_count": null,
      "metadata": {
        "colab": {
          "base_uri": "https://localhost:8080/",
          "height": 174
        },
        "id": "pStwPpwCRJo7",
        "outputId": "ce5db7f5-159a-403e-e814-831076ab1581"
      },
      "outputs": [],
      "source": [
        "cols = ['Date2', 'Date3', 'DateTime1', 'DateTime2']\n",
        "df[cols]"
      ]
    },
    {
      "cell_type": "code",
      "execution_count": null,
      "metadata": {
        "colab": {
          "base_uri": "https://localhost:8080/"
        },
        "id": "31cvNaugPwRL",
        "outputId": "9885a5fa-572c-4edd-a4d0-3a1987e18300"
      },
      "outputs": [],
      "source": [
        "df.info()"
      ]
    },
    {
      "cell_type": "code",
      "execution_count": null,
      "metadata": {
        "colab": {
          "base_uri": "https://localhost:8080/",
          "height": 244
        },
        "id": "xLTXBgrlN3uM",
        "outputId": "ddd884fa-75ab-419a-f57e-aaec3b108348"
      },
      "outputs": [],
      "source": [
        "df['year'] = df['DateTime1'].dt.year\n",
        "df['month'] = df['DateTime1'].dt.month\n",
        "df['day'] = df['DateTime1'].dt.day\n",
        "df['hour'] = df['DateTime1'].dt.hour\n",
        "df['minute'] = df['DateTime1'].dt.minute\n",
        "df['second'] = df['DateTime1'].dt.second\n",
        "df"
      ]
    },
    {
      "cell_type": "code",
      "execution_count": null,
      "metadata": {
        "colab": {
          "base_uri": "https://localhost:8080/",
          "height": 209
        },
        "id": "fTZFQ9tFTfxC",
        "outputId": "7198abf7-b54d-4d53-8548-db51dd7349c0"
      },
      "outputs": [],
      "source": [
        "df['DateTime1'].dt.dayofweek"
      ]
    },
    {
      "cell_type": "code",
      "execution_count": null,
      "metadata": {
        "colab": {
          "base_uri": "https://localhost:8080/"
        },
        "id": "sJDzBUOH5cqW",
        "outputId": "e72338e7-5504-4813-90e5-5b15592d1223"
      },
      "outputs": [],
      "source": [
        "print(df['DateTime1'].dt.to_period('Y'))\n",
        "print(df['DateTime1'].dt.to_period('Q'))\n",
        "print(df['DateTime1'].dt.to_period('M'))\n",
        "print(df['DateTime1'].dt.to_period('D'))\n",
        "print(df['DateTime1'].dt.to_period('H'))"
      ]
    },
    {
      "cell_type": "markdown",
      "metadata": {
        "id": "Z8GsHgvB5bnB"
      },
      "source": [
        "## Section18. 시계열 데이터 (Timedelta)"
      ]
    },
    {
      "cell_type": "code",
      "execution_count": null,
      "metadata": {
        "colab": {
          "base_uri": "https://localhost:8080/",
          "height": 174
        },
        "id": "uBDN3U8x8jgp",
        "outputId": "124eeaec-c6d1-4f5b-9138-a779c0e20142"
      },
      "outputs": [],
      "source": [
        "df = pd.read_csv(\"date_data.csv\", usecols=['DateTime4'], parse_dates=['DateTime4'])\n",
        "df"
      ]
    },
    {
      "cell_type": "code",
      "execution_count": null,
      "metadata": {
        "colab": {
          "base_uri": "https://localhost:8080/",
          "height": 174
        },
        "id": "bkxW2mXP8joj",
        "outputId": "4d3e78fd-d198-42ad-dee7-3e40836b3472"
      },
      "outputs": [],
      "source": [
        "day = pd.Timedelta(days=99)\n",
        "df['100day'] = df['DateTime4'] + day\n",
        "df"
      ]
    },
    {
      "cell_type": "code",
      "execution_count": null,
      "metadata": {
        "colab": {
          "base_uri": "https://localhost:8080/",
          "height": 174
        },
        "id": "IQoOkkQ78jrD",
        "outputId": "f0b5926d-fe90-4988-e847-67bd91fbb3fa"
      },
      "outputs": [],
      "source": [
        "hour = pd.Timedelta(hours=100)\n",
        "df['100hour'] = df['DateTime4'] + hour\n",
        "df"
      ]
    },
    {
      "cell_type": "code",
      "execution_count": null,
      "metadata": {
        "colab": {
          "base_uri": "https://localhost:8080/",
          "height": 174
        },
        "id": "WRkpMiBOESEe",
        "outputId": "02956593-95e0-4f37-bc31-c748fa401cc4"
      },
      "outputs": [],
      "source": [
        "difference = pd.Timedelta(weeks=7, days=7, hours=7, minutes=7, seconds=7)\n",
        "df['difference'] = df['DateTime4'] - difference\n",
        "df"
      ]
    },
    {
      "cell_type": "code",
      "execution_count": null,
      "metadata": {
        "colab": {
          "base_uri": "https://localhost:8080/",
          "height": 209
        },
        "id": "n1nzeqggAei9",
        "outputId": "7cf6ecfc-c352-4f57-8d38-910b5e235a73"
      },
      "outputs": [],
      "source": [
        "diff = df['100hour'] - df['difference']\n",
        "diff"
      ]
    },
    {
      "cell_type": "code",
      "execution_count": null,
      "metadata": {
        "colab": {
          "base_uri": "https://localhost:8080/"
        },
        "id": "Rnqln4QqA5S0",
        "outputId": "ca8a8681-2c02-46f3-df71-02471a189cac"
      },
      "outputs": [],
      "source": [
        "print(diff.dt.total_seconds()) # 초\n",
        "print(diff.dt.total_seconds()/60) # 분\n",
        "print(diff.dt.total_seconds()/60/60) # 시간\n",
        "print(diff.dt.total_seconds()/60/60/24) # 일"
      ]
    },
    {
      "cell_type": "code",
      "execution_count": null,
      "metadata": {
        "colab": {
          "base_uri": "https://localhost:8080/"
        },
        "id": "2VWRkxugdR1Q",
        "outputId": "dca53663-6354-442b-dfca-d868cfae16d7"
      },
      "outputs": [],
      "source": [
        "print(diff.dt.days)\n",
        "print(diff.dt.seconds)"
      ]
    },
    {
      "cell_type": "code",
      "execution_count": null,
      "metadata": {
        "colab": {
          "base_uri": "https://localhost:8080/"
        },
        "id": "0ujUZ9RLF0RS",
        "outputId": "e8cf43f7-12f7-4503-c8cb-798a31e8fd82"
      },
      "outputs": [],
      "source": [
        "min = 5.41\n",
        "print(int(min), \"분\")\n",
        "print(0.41*60, \"초\")"
      ]
    },
    {
      "cell_type": "code",
      "execution_count": null,
      "metadata": {
        "colab": {
          "base_uri": "https://localhost:8080/"
        },
        "id": "FhQWoSRuHcuy",
        "outputId": "a693b895-d12b-4825-d65a-1911fdda6434"
      },
      "outputs": [],
      "source": [
        "print(round(diff.dt.total_seconds()/60))"
      ]
    },
    {
      "cell_type": "markdown",
      "metadata": {
        "id": "YX-hJiMIFosJ"
      },
      "source": [
        "## Section19. 데이터 합치기"
      ]
    },
    {
      "cell_type": "code",
      "execution_count": null,
      "metadata": {
        "colab": {
          "base_uri": "https://localhost:8080/"
        },
        "id": "BtJxt_w6GMzX",
        "outputId": "96f87ae7-2887-410e-c374-094be8347ee4"
      },
      "outputs": [],
      "source": [
        "import pandas as pd\n",
        "\n",
        "# 에피타이저 메뉴\n",
        "appetizer = pd.DataFrame({\n",
        "    'Menu': ['Salad', 'Soup', 'Bread'],\n",
        "    'Price': [5000, 3000, 2000]\n",
        "})\n",
        "\n",
        "# 메인 메뉴\n",
        "main = pd.DataFrame({\n",
        "    'Menu': ['Steak', 'Pasta', 'Chicken'],\n",
        "    'Price': [15000, 12000, 10000]\n",
        "})\n",
        "print(appetizer)\n",
        "print(main)"
      ]
    },
    {
      "cell_type": "code",
      "execution_count": null,
      "metadata": {
        "colab": {
          "base_uri": "https://localhost:8080/",
          "height": 237
        },
        "id": "zTZv7vhAJmBh",
        "outputId": "3ebcdb80-2715-447a-e4db-65e586fd06a6"
      },
      "outputs": [],
      "source": [
        "# 두 메뉴를 수직으로 연결\n",
        "full_menu = pd.concat([appetizer, main], ignore_index=True)\n",
        "full_menu"
      ]
    },
    {
      "cell_type": "code",
      "execution_count": null,
      "metadata": {
        "colab": {
          "base_uri": "https://localhost:8080/",
          "height": 143
        },
        "id": "vdRYBT7IJc8B",
        "outputId": "37e78700-1702-45c4-b7b9-216706dbc5c0"
      },
      "outputs": [],
      "source": [
        "# 두 메뉴를 좌우로 연결\n",
        "full_menu = pd.concat([appetizer, main], axis=1)\n",
        "full_menu"
      ]
    },
    {
      "cell_type": "code",
      "execution_count": null,
      "metadata": {
        "colab": {
          "base_uri": "https://localhost:8080/",
          "height": 174
        },
        "id": "NxkIVsVLINXf",
        "outputId": "0eac637d-c073-41da-b915-baea472f2b64"
      },
      "outputs": [],
      "source": [
        "# 메뉴와 가격\n",
        "price = pd.DataFrame({\n",
        "    'Menu': ['Salad', 'Soup', 'Steak', 'Pasta'],\n",
        "    'Price': [5000, 3000, 15000, 12000]\n",
        "})\n",
        "\n",
        "# 메뉴와 칼로리\n",
        "cal = pd.DataFrame({\n",
        "    'Menu': ['Soup', 'Steak', 'Pasta','Salad'],\n",
        "    'Calories': [100, 500, 400, 150]\n",
        "})\n",
        "\n",
        "# 두 데이터프레임을 'Menu'를 기준으로 병합\n",
        "menu_info = pd.merge(price, cal, on='Menu')\n",
        "menu_info"
      ]
    },
    {
      "cell_type": "markdown",
      "metadata": {
        "id": "DlK0xL_CLFsE"
      },
      "source": [
        "## Section20.Quiz"
      ]
    },
    {
      "cell_type": "code",
      "execution_count": null,
      "metadata": {
        "colab": {
          "base_uri": "https://localhost:8080/",
          "height": 206
        },
        "id": "uFkeVQskLG_h",
        "outputId": "3de68baa-894e-45fb-ca08-a8098ed1c9b2"
      },
      "outputs": [],
      "source": [
        "# 데이터 불러오기\n",
        "import pandas as pd\n",
        "import numpy as np\n",
        "\n",
        "df = pd.DataFrame({\n",
        "    \"메뉴\":['아메리카노', '카페라떼', '에스프레소', '카페모카', '바닐라라떼'],\n",
        "    \"가격\":[4500, 5000, 4000, 5900, 5300],\n",
        "    \"칼로리\":[10, 110, np.NaN, 210, np.NaN],\n",
        "    \"원산지\":['과테말라','브라질','과테말라', np.NaN, np.NaN]\n",
        "})\n",
        "df"
      ]
    },
    {
      "cell_type": "markdown",
      "metadata": {
        "id": "cXNbHliQgK10"
      },
      "source": [
        "**1. '칼로리' 컬럼 결측치는 칼로리 데이터 중 최소값으로 결측치를 채우시오**"
      ]
    },
    {
      "cell_type": "code",
      "execution_count": null,
      "metadata": {
        "colab": {
          "base_uri": "https://localhost:8080/",
          "height": 206
        },
        "id": "bo-RylfNgOIU",
        "outputId": "513b9b1b-b724-44fa-92cc-be8b108f8c36"
      },
      "outputs": [],
      "source": [
        "min_cal = df['칼로리'].min()\n",
        "df['칼로리'] = df['칼로리'].fillna(min_cal)\n",
        "df"
      ]
    },
    {
      "cell_type": "markdown",
      "metadata": {
        "id": "YKlIZxicqX9D"
      },
      "source": [
        "**2. '원산지' 컬럼 결측치는 원두 데이터 중 최빈값으로 결측치를 채우시오**"
      ]
    },
    {
      "cell_type": "code",
      "execution_count": null,
      "metadata": {
        "colab": {
          "base_uri": "https://localhost:8080/",
          "height": 206
        },
        "id": "qpzESvD3gLo-",
        "outputId": "bfdf3abf-b17a-41cd-ff7b-b8887c182edd"
      },
      "outputs": [],
      "source": [
        "f = df['원산지'].mode()[0]\n",
        "df['원산지'] = df['원산지'].fillna(f)\n",
        "df"
      ]
    },
    {
      "cell_type": "markdown",
      "metadata": {
        "id": "5dPHyiTSq1d4"
      },
      "source": [
        "**3. 가격이 5000 이상인 데이터의 수를 구하시오**"
      ]
    },
    {
      "cell_type": "code",
      "execution_count": null,
      "metadata": {
        "colab": {
          "base_uri": "https://localhost:8080/"
        },
        "id": "RAGbbRojrKr7",
        "outputId": "1616966d-0839-473b-8584-3a950a17c0ce"
      },
      "outputs": [],
      "source": [
        "cond = df['가격'] >= 5000\n",
        "len(df[cond]) # 또는 sum(cond)"
      ]
    },
    {
      "cell_type": "markdown",
      "metadata": {
        "id": "OcomjstMVb_w"
      },
      "source": [
        "**4. ’이벤트가’ 컬럼을 만들고 기존 가격에서 50% 할인된 가격을 채우시오**"
      ]
    },
    {
      "cell_type": "code",
      "execution_count": null,
      "metadata": {
        "colab": {
          "base_uri": "https://localhost:8080/",
          "height": 206
        },
        "id": "3F0yf_a2Uesg",
        "outputId": "cabf32a8-bdc1-410f-ca0a-d0fed1f90e2d"
      },
      "outputs": [],
      "source": [
        "df['이벤트가'] = df['가격'] * 0.5\n",
        "df"
      ]
    },
    {
      "cell_type": "markdown",
      "metadata": {
        "id": "PwYXtQFrWW6v"
      },
      "source": [
        "**5. '칼로리' 컬럼을 삭제하시오**\n",
        "-"
      ]
    },
    {
      "cell_type": "code",
      "execution_count": null,
      "metadata": {
        "colab": {
          "base_uri": "https://localhost:8080/",
          "height": 206
        },
        "id": "kC4riE7RWcbF",
        "outputId": "35c9a5fc-a61b-4913-e71c-0dfef374736d"
      },
      "outputs": [],
      "source": [
        "df = df.drop('칼로리', axis=1)\n",
        "df"
      ]
    },
    {
      "cell_type": "markdown",
      "metadata": {
        "id": "ovu2_q-4bslI"
      },
      "source": [
        "**6. 앞에서부터 3개의 데이터만 선택하시오(loc 활용)**"
      ]
    },
    {
      "cell_type": "code",
      "execution_count": null,
      "metadata": {
        "colab": {
          "base_uri": "https://localhost:8080/",
          "height": 143
        },
        "id": "Y13Xbte5bxz9",
        "outputId": "d6a26b50-172c-42fb-eab7-038504450e88"
      },
      "outputs": [],
      "source": [
        "df.loc[:2]"
      ]
    },
    {
      "cell_type": "markdown",
      "metadata": {
        "id": "pX3Z-ecp90lI"
      },
      "source": [
        "**7. 앞에서부터 3개의 데이터만 선택하시오(iloc 활용)**"
      ]
    },
    {
      "cell_type": "code",
      "execution_count": null,
      "metadata": {
        "colab": {
          "base_uri": "https://localhost:8080/",
          "height": 143
        },
        "id": "1ALxbYdOmMsL",
        "outputId": "8e195b2d-2640-414e-e3f9-09e383606eca"
      },
      "outputs": [],
      "source": [
        "df.iloc[:3]"
      ]
    },
    {
      "cell_type": "markdown",
      "metadata": {
        "id": "VzKEgOFnkb2t"
      },
      "source": [
        "**8. 주어진 데이터(df)에서 아래 값을 loc를 활용해 데이터 프레임으로 출력하시오**\n",
        "- 카페라떼\t5000\n",
        "- 에스프레소 4000"
      ]
    },
    {
      "cell_type": "code",
      "execution_count": null,
      "metadata": {
        "colab": {
          "base_uri": "https://localhost:8080/",
          "height": 112
        },
        "id": "20cRuxVIK53U",
        "outputId": "a21103b8-7702-4497-cd02-8a0f11ac705a"
      },
      "outputs": [],
      "source": [
        "# loc\n",
        "df.loc[1:2, :'가격']"
      ]
    },
    {
      "cell_type": "markdown",
      "metadata": {
        "id": "qDLyPFIO99F5"
      },
      "source": [
        "**9. 주어진 데이터(df)에서 아래 값을 iloc를 활용해 데이터 프레임으로 출력하시오**\n",
        "- 카페라떼\t5000\n",
        "- 에스프레소 4000"
      ]
    },
    {
      "cell_type": "code",
      "execution_count": null,
      "metadata": {
        "colab": {
          "base_uri": "https://localhost:8080/",
          "height": 112
        },
        "id": "HDRqUPFmK56h",
        "outputId": "24be7f77-4a08-4f98-dd7c-327344df6e5b"
      },
      "outputs": [],
      "source": [
        "# iloc\n",
        "df.iloc[1:3, :2]"
      ]
    },
    {
      "cell_type": "markdown",
      "metadata": {
        "id": "y-lVFtuppZnI"
      },
      "source": [
        "**10. 메뉴 중 가격이 가장 비싼 순으로 정렬해 상위 3개 값을 구하시오**"
      ]
    },
    {
      "cell_type": "code",
      "execution_count": null,
      "metadata": {
        "colab": {
          "base_uri": "https://localhost:8080/",
          "height": 143
        },
        "id": "qVB_uoTDiJvW",
        "outputId": "c2bbcbb6-0fed-47bc-eb9d-11861fa89473"
      },
      "outputs": [],
      "source": [
        "df = df.sort_values('가격', ascending=False)\n",
        "df.iloc[:3]"
      ]
    }
  ],
  "metadata": {
    "colab": {
      "provenance": [],
      "toc_visible": true
    },
    "kernelspec": {
      "display_name": "base",
      "language": "python",
      "name": "python3"
    },
    "language_info": {
      "codemirror_mode": {
        "name": "ipython",
        "version": 3
      },
      "file_extension": ".py",
      "mimetype": "text/x-python",
      "name": "python",
      "nbconvert_exporter": "python",
      "pygments_lexer": "ipython3",
      "version": "3.11.5"
    }
  },
  "nbformat": 4,
  "nbformat_minor": 0
}
